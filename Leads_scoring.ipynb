{
 "cells": [
  {
   "cell_type": "code",
   "execution_count": 343,
   "id": "b3b4fb44-8c65-4135-bb6c-df554410e89c",
   "metadata": {},
   "outputs": [],
   "source": [
    "#importing important libraries\n",
    "import numpy as np\n",
    "import pandas as pd\n",
    "import datetime as dt\n",
    "import time\n",
    "\n",
    "import matplotlib.pyplot as plt\n",
    "import seaborn as sns\n",
    "\n",
    "from sklearn.model_selection import train_test_split\n",
    "from sklearn.preprocessing import StandardScaler\n",
    "import statsmodels.api as sm\n",
    "from sklearn.linear_model import LogisticRegression\n",
    "from statsmodels.stats.outliers_influence import variance_inflation_factor"
   ]
  },
  {
   "cell_type": "code",
   "execution_count": 344,
   "id": "cc1edaec-01af-4126-ad0a-404d0b32bde8",
   "metadata": {},
   "outputs": [],
   "source": [
    "# Supress unnecessary warnings\n",
    "import warnings\n",
    "warnings.filterwarnings('ignore')\n",
    "\n",
    "from IPython.display import display\n",
    "pd.options.display.max_columns = None"
   ]
  },
  {
   "cell_type": "code",
   "execution_count": 345,
   "id": "ba08fbb2-6e2b-419d-8e07-4a74e193a156",
   "metadata": {},
   "outputs": [
    {
     "data": {
      "text/html": [
       "<div>\n",
       "<style scoped>\n",
       "    .dataframe tbody tr th:only-of-type {\n",
       "        vertical-align: middle;\n",
       "    }\n",
       "\n",
       "    .dataframe tbody tr th {\n",
       "        vertical-align: top;\n",
       "    }\n",
       "\n",
       "    .dataframe thead th {\n",
       "        text-align: right;\n",
       "    }\n",
       "</style>\n",
       "<table border=\"1\" class=\"dataframe\">\n",
       "  <thead>\n",
       "    <tr style=\"text-align: right;\">\n",
       "      <th></th>\n",
       "      <th>Prospect ID</th>\n",
       "      <th>Lead Number</th>\n",
       "      <th>Lead Origin</th>\n",
       "      <th>Lead Source</th>\n",
       "      <th>Do Not Email</th>\n",
       "      <th>Do Not Call</th>\n",
       "      <th>Converted</th>\n",
       "      <th>TotalVisits</th>\n",
       "      <th>Total Time Spent on Website</th>\n",
       "      <th>Page Views Per Visit</th>\n",
       "      <th>Last Activity</th>\n",
       "      <th>Country</th>\n",
       "      <th>Specialization</th>\n",
       "      <th>How did you hear about X Education</th>\n",
       "      <th>What is your current occupation</th>\n",
       "      <th>What matters most to you in choosing a course</th>\n",
       "      <th>Search</th>\n",
       "      <th>Magazine</th>\n",
       "      <th>Newspaper Article</th>\n",
       "      <th>X Education Forums</th>\n",
       "      <th>Newspaper</th>\n",
       "      <th>Digital Advertisement</th>\n",
       "      <th>Through Recommendations</th>\n",
       "      <th>Receive More Updates About Our Courses</th>\n",
       "      <th>Tags</th>\n",
       "      <th>Lead Quality</th>\n",
       "      <th>Update me on Supply Chain Content</th>\n",
       "      <th>Get updates on DM Content</th>\n",
       "      <th>Lead Profile</th>\n",
       "      <th>City</th>\n",
       "      <th>Asymmetrique Activity Index</th>\n",
       "      <th>Asymmetrique Profile Index</th>\n",
       "      <th>Asymmetrique Activity Score</th>\n",
       "      <th>Asymmetrique Profile Score</th>\n",
       "      <th>I agree to pay the amount through cheque</th>\n",
       "      <th>A free copy of Mastering The Interview</th>\n",
       "      <th>Last Notable Activity</th>\n",
       "    </tr>\n",
       "  </thead>\n",
       "  <tbody>\n",
       "    <tr>\n",
       "      <th>0</th>\n",
       "      <td>7927b2df-8bba-4d29-b9a2-b6e0beafe620</td>\n",
       "      <td>660737</td>\n",
       "      <td>API</td>\n",
       "      <td>Olark Chat</td>\n",
       "      <td>No</td>\n",
       "      <td>No</td>\n",
       "      <td>0</td>\n",
       "      <td>0.0</td>\n",
       "      <td>0</td>\n",
       "      <td>0.0</td>\n",
       "      <td>Page Visited on Website</td>\n",
       "      <td>NaN</td>\n",
       "      <td>Select</td>\n",
       "      <td>Select</td>\n",
       "      <td>Unemployed</td>\n",
       "      <td>Better Career Prospects</td>\n",
       "      <td>No</td>\n",
       "      <td>No</td>\n",
       "      <td>No</td>\n",
       "      <td>No</td>\n",
       "      <td>No</td>\n",
       "      <td>No</td>\n",
       "      <td>No</td>\n",
       "      <td>No</td>\n",
       "      <td>Interested in other courses</td>\n",
       "      <td>Low in Relevance</td>\n",
       "      <td>No</td>\n",
       "      <td>No</td>\n",
       "      <td>Select</td>\n",
       "      <td>Select</td>\n",
       "      <td>02.Medium</td>\n",
       "      <td>02.Medium</td>\n",
       "      <td>15.0</td>\n",
       "      <td>15.0</td>\n",
       "      <td>No</td>\n",
       "      <td>No</td>\n",
       "      <td>Modified</td>\n",
       "    </tr>\n",
       "    <tr>\n",
       "      <th>1</th>\n",
       "      <td>2a272436-5132-4136-86fa-dcc88c88f482</td>\n",
       "      <td>660728</td>\n",
       "      <td>API</td>\n",
       "      <td>Organic Search</td>\n",
       "      <td>No</td>\n",
       "      <td>No</td>\n",
       "      <td>0</td>\n",
       "      <td>5.0</td>\n",
       "      <td>674</td>\n",
       "      <td>2.5</td>\n",
       "      <td>Email Opened</td>\n",
       "      <td>India</td>\n",
       "      <td>Select</td>\n",
       "      <td>Select</td>\n",
       "      <td>Unemployed</td>\n",
       "      <td>Better Career Prospects</td>\n",
       "      <td>No</td>\n",
       "      <td>No</td>\n",
       "      <td>No</td>\n",
       "      <td>No</td>\n",
       "      <td>No</td>\n",
       "      <td>No</td>\n",
       "      <td>No</td>\n",
       "      <td>No</td>\n",
       "      <td>Ringing</td>\n",
       "      <td>NaN</td>\n",
       "      <td>No</td>\n",
       "      <td>No</td>\n",
       "      <td>Select</td>\n",
       "      <td>Select</td>\n",
       "      <td>02.Medium</td>\n",
       "      <td>02.Medium</td>\n",
       "      <td>15.0</td>\n",
       "      <td>15.0</td>\n",
       "      <td>No</td>\n",
       "      <td>No</td>\n",
       "      <td>Email Opened</td>\n",
       "    </tr>\n",
       "    <tr>\n",
       "      <th>2</th>\n",
       "      <td>8cc8c611-a219-4f35-ad23-fdfd2656bd8a</td>\n",
       "      <td>660727</td>\n",
       "      <td>Landing Page Submission</td>\n",
       "      <td>Direct Traffic</td>\n",
       "      <td>No</td>\n",
       "      <td>No</td>\n",
       "      <td>1</td>\n",
       "      <td>2.0</td>\n",
       "      <td>1532</td>\n",
       "      <td>2.0</td>\n",
       "      <td>Email Opened</td>\n",
       "      <td>India</td>\n",
       "      <td>Business Administration</td>\n",
       "      <td>Select</td>\n",
       "      <td>Student</td>\n",
       "      <td>Better Career Prospects</td>\n",
       "      <td>No</td>\n",
       "      <td>No</td>\n",
       "      <td>No</td>\n",
       "      <td>No</td>\n",
       "      <td>No</td>\n",
       "      <td>No</td>\n",
       "      <td>No</td>\n",
       "      <td>No</td>\n",
       "      <td>Will revert after reading the email</td>\n",
       "      <td>Might be</td>\n",
       "      <td>No</td>\n",
       "      <td>No</td>\n",
       "      <td>Potential Lead</td>\n",
       "      <td>Mumbai</td>\n",
       "      <td>02.Medium</td>\n",
       "      <td>01.High</td>\n",
       "      <td>14.0</td>\n",
       "      <td>20.0</td>\n",
       "      <td>No</td>\n",
       "      <td>Yes</td>\n",
       "      <td>Email Opened</td>\n",
       "    </tr>\n",
       "    <tr>\n",
       "      <th>3</th>\n",
       "      <td>0cc2df48-7cf4-4e39-9de9-19797f9b38cc</td>\n",
       "      <td>660719</td>\n",
       "      <td>Landing Page Submission</td>\n",
       "      <td>Direct Traffic</td>\n",
       "      <td>No</td>\n",
       "      <td>No</td>\n",
       "      <td>0</td>\n",
       "      <td>1.0</td>\n",
       "      <td>305</td>\n",
       "      <td>1.0</td>\n",
       "      <td>Unreachable</td>\n",
       "      <td>India</td>\n",
       "      <td>Media and Advertising</td>\n",
       "      <td>Word Of Mouth</td>\n",
       "      <td>Unemployed</td>\n",
       "      <td>Better Career Prospects</td>\n",
       "      <td>No</td>\n",
       "      <td>No</td>\n",
       "      <td>No</td>\n",
       "      <td>No</td>\n",
       "      <td>No</td>\n",
       "      <td>No</td>\n",
       "      <td>No</td>\n",
       "      <td>No</td>\n",
       "      <td>Ringing</td>\n",
       "      <td>Not Sure</td>\n",
       "      <td>No</td>\n",
       "      <td>No</td>\n",
       "      <td>Select</td>\n",
       "      <td>Mumbai</td>\n",
       "      <td>02.Medium</td>\n",
       "      <td>01.High</td>\n",
       "      <td>13.0</td>\n",
       "      <td>17.0</td>\n",
       "      <td>No</td>\n",
       "      <td>No</td>\n",
       "      <td>Modified</td>\n",
       "    </tr>\n",
       "    <tr>\n",
       "      <th>4</th>\n",
       "      <td>3256f628-e534-4826-9d63-4a8b88782852</td>\n",
       "      <td>660681</td>\n",
       "      <td>Landing Page Submission</td>\n",
       "      <td>Google</td>\n",
       "      <td>No</td>\n",
       "      <td>No</td>\n",
       "      <td>1</td>\n",
       "      <td>2.0</td>\n",
       "      <td>1428</td>\n",
       "      <td>1.0</td>\n",
       "      <td>Converted to Lead</td>\n",
       "      <td>India</td>\n",
       "      <td>Select</td>\n",
       "      <td>Other</td>\n",
       "      <td>Unemployed</td>\n",
       "      <td>Better Career Prospects</td>\n",
       "      <td>No</td>\n",
       "      <td>No</td>\n",
       "      <td>No</td>\n",
       "      <td>No</td>\n",
       "      <td>No</td>\n",
       "      <td>No</td>\n",
       "      <td>No</td>\n",
       "      <td>No</td>\n",
       "      <td>Will revert after reading the email</td>\n",
       "      <td>Might be</td>\n",
       "      <td>No</td>\n",
       "      <td>No</td>\n",
       "      <td>Select</td>\n",
       "      <td>Mumbai</td>\n",
       "      <td>02.Medium</td>\n",
       "      <td>01.High</td>\n",
       "      <td>15.0</td>\n",
       "      <td>18.0</td>\n",
       "      <td>No</td>\n",
       "      <td>No</td>\n",
       "      <td>Modified</td>\n",
       "    </tr>\n",
       "  </tbody>\n",
       "</table>\n",
       "</div>"
      ],
      "text/plain": [
       "                            Prospect ID  Lead Number              Lead Origin  \\\n",
       "0  7927b2df-8bba-4d29-b9a2-b6e0beafe620       660737                      API   \n",
       "1  2a272436-5132-4136-86fa-dcc88c88f482       660728                      API   \n",
       "2  8cc8c611-a219-4f35-ad23-fdfd2656bd8a       660727  Landing Page Submission   \n",
       "3  0cc2df48-7cf4-4e39-9de9-19797f9b38cc       660719  Landing Page Submission   \n",
       "4  3256f628-e534-4826-9d63-4a8b88782852       660681  Landing Page Submission   \n",
       "\n",
       "      Lead Source Do Not Email Do Not Call  Converted  TotalVisits  \\\n",
       "0      Olark Chat           No          No          0          0.0   \n",
       "1  Organic Search           No          No          0          5.0   \n",
       "2  Direct Traffic           No          No          1          2.0   \n",
       "3  Direct Traffic           No          No          0          1.0   \n",
       "4          Google           No          No          1          2.0   \n",
       "\n",
       "   Total Time Spent on Website  Page Views Per Visit            Last Activity  \\\n",
       "0                            0                   0.0  Page Visited on Website   \n",
       "1                          674                   2.5             Email Opened   \n",
       "2                         1532                   2.0             Email Opened   \n",
       "3                          305                   1.0              Unreachable   \n",
       "4                         1428                   1.0        Converted to Lead   \n",
       "\n",
       "  Country           Specialization How did you hear about X Education  \\\n",
       "0     NaN                   Select                             Select   \n",
       "1   India                   Select                             Select   \n",
       "2   India  Business Administration                             Select   \n",
       "3   India    Media and Advertising                      Word Of Mouth   \n",
       "4   India                   Select                              Other   \n",
       "\n",
       "  What is your current occupation  \\\n",
       "0                      Unemployed   \n",
       "1                      Unemployed   \n",
       "2                         Student   \n",
       "3                      Unemployed   \n",
       "4                      Unemployed   \n",
       "\n",
       "  What matters most to you in choosing a course Search Magazine  \\\n",
       "0                       Better Career Prospects     No       No   \n",
       "1                       Better Career Prospects     No       No   \n",
       "2                       Better Career Prospects     No       No   \n",
       "3                       Better Career Prospects     No       No   \n",
       "4                       Better Career Prospects     No       No   \n",
       "\n",
       "  Newspaper Article X Education Forums Newspaper Digital Advertisement  \\\n",
       "0                No                 No        No                    No   \n",
       "1                No                 No        No                    No   \n",
       "2                No                 No        No                    No   \n",
       "3                No                 No        No                    No   \n",
       "4                No                 No        No                    No   \n",
       "\n",
       "  Through Recommendations Receive More Updates About Our Courses  \\\n",
       "0                      No                                     No   \n",
       "1                      No                                     No   \n",
       "2                      No                                     No   \n",
       "3                      No                                     No   \n",
       "4                      No                                     No   \n",
       "\n",
       "                                  Tags      Lead Quality  \\\n",
       "0          Interested in other courses  Low in Relevance   \n",
       "1                              Ringing               NaN   \n",
       "2  Will revert after reading the email          Might be   \n",
       "3                              Ringing          Not Sure   \n",
       "4  Will revert after reading the email          Might be   \n",
       "\n",
       "  Update me on Supply Chain Content Get updates on DM Content    Lead Profile  \\\n",
       "0                                No                        No          Select   \n",
       "1                                No                        No          Select   \n",
       "2                                No                        No  Potential Lead   \n",
       "3                                No                        No          Select   \n",
       "4                                No                        No          Select   \n",
       "\n",
       "     City Asymmetrique Activity Index Asymmetrique Profile Index  \\\n",
       "0  Select                   02.Medium                  02.Medium   \n",
       "1  Select                   02.Medium                  02.Medium   \n",
       "2  Mumbai                   02.Medium                    01.High   \n",
       "3  Mumbai                   02.Medium                    01.High   \n",
       "4  Mumbai                   02.Medium                    01.High   \n",
       "\n",
       "   Asymmetrique Activity Score  Asymmetrique Profile Score  \\\n",
       "0                         15.0                        15.0   \n",
       "1                         15.0                        15.0   \n",
       "2                         14.0                        20.0   \n",
       "3                         13.0                        17.0   \n",
       "4                         15.0                        18.0   \n",
       "\n",
       "  I agree to pay the amount through cheque  \\\n",
       "0                                       No   \n",
       "1                                       No   \n",
       "2                                       No   \n",
       "3                                       No   \n",
       "4                                       No   \n",
       "\n",
       "  A free copy of Mastering The Interview Last Notable Activity  \n",
       "0                                     No              Modified  \n",
       "1                                     No          Email Opened  \n",
       "2                                    Yes          Email Opened  \n",
       "3                                     No              Modified  \n",
       "4                                     No              Modified  "
      ]
     },
     "execution_count": 345,
     "metadata": {},
     "output_type": "execute_result"
    }
   ],
   "source": [
    "# Importing the dataset\n",
    "data = pd.read_csv(\"D:/UG/18iLead Score case study/Lead Scoring Assignment/Leads.csv\")\n",
    "data.head()"
   ]
  },
  {
   "cell_type": "markdown",
   "id": "f52e97d7-fc21-4669-92ee-b8dcedff5b13",
   "metadata": {},
   "source": [
    "### Data Prepration"
   ]
  },
  {
   "cell_type": "code",
   "execution_count": 346,
   "id": "871f7cd7-6988-4845-a128-da21fd7d38e0",
   "metadata": {},
   "outputs": [
    {
     "data": {
      "text/plain": [
       "(9240, 37)"
      ]
     },
     "execution_count": 346,
     "metadata": {},
     "output_type": "execute_result"
    }
   ],
   "source": [
    "data.shape"
   ]
  },
  {
   "cell_type": "code",
   "execution_count": 347,
   "id": "0930ca84-5209-4169-b022-bbc1b46ab204",
   "metadata": {},
   "outputs": [
    {
     "name": "stdout",
     "output_type": "stream",
     "text": [
      "<class 'pandas.core.frame.DataFrame'>\n",
      "RangeIndex: 9240 entries, 0 to 9239\n",
      "Data columns (total 37 columns):\n",
      " #   Column                                         Non-Null Count  Dtype  \n",
      "---  ------                                         --------------  -----  \n",
      " 0   Prospect ID                                    9240 non-null   object \n",
      " 1   Lead Number                                    9240 non-null   int64  \n",
      " 2   Lead Origin                                    9240 non-null   object \n",
      " 3   Lead Source                                    9204 non-null   object \n",
      " 4   Do Not Email                                   9240 non-null   object \n",
      " 5   Do Not Call                                    9240 non-null   object \n",
      " 6   Converted                                      9240 non-null   int64  \n",
      " 7   TotalVisits                                    9103 non-null   float64\n",
      " 8   Total Time Spent on Website                    9240 non-null   int64  \n",
      " 9   Page Views Per Visit                           9103 non-null   float64\n",
      " 10  Last Activity                                  9137 non-null   object \n",
      " 11  Country                                        6779 non-null   object \n",
      " 12  Specialization                                 7802 non-null   object \n",
      " 13  How did you hear about X Education             7033 non-null   object \n",
      " 14  What is your current occupation                6550 non-null   object \n",
      " 15  What matters most to you in choosing a course  6531 non-null   object \n",
      " 16  Search                                         9240 non-null   object \n",
      " 17  Magazine                                       9240 non-null   object \n",
      " 18  Newspaper Article                              9240 non-null   object \n",
      " 19  X Education Forums                             9240 non-null   object \n",
      " 20  Newspaper                                      9240 non-null   object \n",
      " 21  Digital Advertisement                          9240 non-null   object \n",
      " 22  Through Recommendations                        9240 non-null   object \n",
      " 23  Receive More Updates About Our Courses         9240 non-null   object \n",
      " 24  Tags                                           5887 non-null   object \n",
      " 25  Lead Quality                                   4473 non-null   object \n",
      " 26  Update me on Supply Chain Content              9240 non-null   object \n",
      " 27  Get updates on DM Content                      9240 non-null   object \n",
      " 28  Lead Profile                                   6531 non-null   object \n",
      " 29  City                                           7820 non-null   object \n",
      " 30  Asymmetrique Activity Index                    5022 non-null   object \n",
      " 31  Asymmetrique Profile Index                     5022 non-null   object \n",
      " 32  Asymmetrique Activity Score                    5022 non-null   float64\n",
      " 33  Asymmetrique Profile Score                     5022 non-null   float64\n",
      " 34  I agree to pay the amount through cheque       9240 non-null   object \n",
      " 35  A free copy of Mastering The Interview         9240 non-null   object \n",
      " 36  Last Notable Activity                          9240 non-null   object \n",
      "dtypes: float64(4), int64(3), object(30)\n",
      "memory usage: 2.6+ MB\n"
     ]
    }
   ],
   "source": [
    "data.info()"
   ]
  },
  {
   "cell_type": "code",
   "execution_count": 348,
   "id": "b9bdd2f2-144a-40df-ad20-cee6b9343887",
   "metadata": {},
   "outputs": [
    {
     "data": {
      "text/html": [
       "<div>\n",
       "<style scoped>\n",
       "    .dataframe tbody tr th:only-of-type {\n",
       "        vertical-align: middle;\n",
       "    }\n",
       "\n",
       "    .dataframe tbody tr th {\n",
       "        vertical-align: top;\n",
       "    }\n",
       "\n",
       "    .dataframe thead th {\n",
       "        text-align: right;\n",
       "    }\n",
       "</style>\n",
       "<table border=\"1\" class=\"dataframe\">\n",
       "  <thead>\n",
       "    <tr style=\"text-align: right;\">\n",
       "      <th></th>\n",
       "      <th>Lead Number</th>\n",
       "      <th>Converted</th>\n",
       "      <th>TotalVisits</th>\n",
       "      <th>Total Time Spent on Website</th>\n",
       "      <th>Page Views Per Visit</th>\n",
       "      <th>Asymmetrique Activity Score</th>\n",
       "      <th>Asymmetrique Profile Score</th>\n",
       "    </tr>\n",
       "  </thead>\n",
       "  <tbody>\n",
       "    <tr>\n",
       "      <th>count</th>\n",
       "      <td>9240.000000</td>\n",
       "      <td>9240.000000</td>\n",
       "      <td>9103.000000</td>\n",
       "      <td>9240.000000</td>\n",
       "      <td>9103.000000</td>\n",
       "      <td>5022.000000</td>\n",
       "      <td>5022.000000</td>\n",
       "    </tr>\n",
       "    <tr>\n",
       "      <th>mean</th>\n",
       "      <td>617188.435606</td>\n",
       "      <td>0.385390</td>\n",
       "      <td>3.445238</td>\n",
       "      <td>487.698268</td>\n",
       "      <td>2.362820</td>\n",
       "      <td>14.306252</td>\n",
       "      <td>16.344883</td>\n",
       "    </tr>\n",
       "    <tr>\n",
       "      <th>std</th>\n",
       "      <td>23405.995698</td>\n",
       "      <td>0.486714</td>\n",
       "      <td>4.854853</td>\n",
       "      <td>548.021466</td>\n",
       "      <td>2.161418</td>\n",
       "      <td>1.386694</td>\n",
       "      <td>1.811395</td>\n",
       "    </tr>\n",
       "    <tr>\n",
       "      <th>min</th>\n",
       "      <td>579533.000000</td>\n",
       "      <td>0.000000</td>\n",
       "      <td>0.000000</td>\n",
       "      <td>0.000000</td>\n",
       "      <td>0.000000</td>\n",
       "      <td>7.000000</td>\n",
       "      <td>11.000000</td>\n",
       "    </tr>\n",
       "    <tr>\n",
       "      <th>25%</th>\n",
       "      <td>596484.500000</td>\n",
       "      <td>0.000000</td>\n",
       "      <td>1.000000</td>\n",
       "      <td>12.000000</td>\n",
       "      <td>1.000000</td>\n",
       "      <td>14.000000</td>\n",
       "      <td>15.000000</td>\n",
       "    </tr>\n",
       "    <tr>\n",
       "      <th>50%</th>\n",
       "      <td>615479.000000</td>\n",
       "      <td>0.000000</td>\n",
       "      <td>3.000000</td>\n",
       "      <td>248.000000</td>\n",
       "      <td>2.000000</td>\n",
       "      <td>14.000000</td>\n",
       "      <td>16.000000</td>\n",
       "    </tr>\n",
       "    <tr>\n",
       "      <th>75%</th>\n",
       "      <td>637387.250000</td>\n",
       "      <td>1.000000</td>\n",
       "      <td>5.000000</td>\n",
       "      <td>936.000000</td>\n",
       "      <td>3.000000</td>\n",
       "      <td>15.000000</td>\n",
       "      <td>18.000000</td>\n",
       "    </tr>\n",
       "    <tr>\n",
       "      <th>max</th>\n",
       "      <td>660737.000000</td>\n",
       "      <td>1.000000</td>\n",
       "      <td>251.000000</td>\n",
       "      <td>2272.000000</td>\n",
       "      <td>55.000000</td>\n",
       "      <td>18.000000</td>\n",
       "      <td>20.000000</td>\n",
       "    </tr>\n",
       "  </tbody>\n",
       "</table>\n",
       "</div>"
      ],
      "text/plain": [
       "         Lead Number    Converted  TotalVisits  Total Time Spent on Website  \\\n",
       "count    9240.000000  9240.000000  9103.000000                  9240.000000   \n",
       "mean   617188.435606     0.385390     3.445238                   487.698268   \n",
       "std     23405.995698     0.486714     4.854853                   548.021466   \n",
       "min    579533.000000     0.000000     0.000000                     0.000000   \n",
       "25%    596484.500000     0.000000     1.000000                    12.000000   \n",
       "50%    615479.000000     0.000000     3.000000                   248.000000   \n",
       "75%    637387.250000     1.000000     5.000000                   936.000000   \n",
       "max    660737.000000     1.000000   251.000000                  2272.000000   \n",
       "\n",
       "       Page Views Per Visit  Asymmetrique Activity Score  \\\n",
       "count           9103.000000                  5022.000000   \n",
       "mean               2.362820                    14.306252   \n",
       "std                2.161418                     1.386694   \n",
       "min                0.000000                     7.000000   \n",
       "25%                1.000000                    14.000000   \n",
       "50%                2.000000                    14.000000   \n",
       "75%                3.000000                    15.000000   \n",
       "max               55.000000                    18.000000   \n",
       "\n",
       "       Asymmetrique Profile Score  \n",
       "count                 5022.000000  \n",
       "mean                    16.344883  \n",
       "std                      1.811395  \n",
       "min                     11.000000  \n",
       "25%                     15.000000  \n",
       "50%                     16.000000  \n",
       "75%                     18.000000  \n",
       "max                     20.000000  "
      ]
     },
     "execution_count": 348,
     "metadata": {},
     "output_type": "execute_result"
    }
   ],
   "source": [
    "data.describe()"
   ]
  },
  {
   "cell_type": "code",
   "execution_count": 349,
   "id": "56fdb082-f372-4df1-b7a0-480df0620c98",
   "metadata": {},
   "outputs": [
    {
     "data": {
      "text/plain": [
       "Prospect ID                                         0\n",
       "Lead Number                                         0\n",
       "Lead Origin                                         0\n",
       "Lead Source                                        36\n",
       "Do Not Email                                        0\n",
       "Do Not Call                                         0\n",
       "Converted                                           0\n",
       "TotalVisits                                       137\n",
       "Total Time Spent on Website                         0\n",
       "Page Views Per Visit                              137\n",
       "Last Activity                                     103\n",
       "Country                                          2461\n",
       "Specialization                                   1438\n",
       "How did you hear about X Education               2207\n",
       "What is your current occupation                  2690\n",
       "What matters most to you in choosing a course    2709\n",
       "Search                                              0\n",
       "Magazine                                            0\n",
       "Newspaper Article                                   0\n",
       "X Education Forums                                  0\n",
       "Newspaper                                           0\n",
       "Digital Advertisement                               0\n",
       "Through Recommendations                             0\n",
       "Receive More Updates About Our Courses              0\n",
       "Tags                                             3353\n",
       "Lead Quality                                     4767\n",
       "Update me on Supply Chain Content                   0\n",
       "Get updates on DM Content                           0\n",
       "Lead Profile                                     2709\n",
       "City                                             1420\n",
       "Asymmetrique Activity Index                      4218\n",
       "Asymmetrique Profile Index                       4218\n",
       "Asymmetrique Activity Score                      4218\n",
       "Asymmetrique Profile Score                       4218\n",
       "I agree to pay the amount through cheque            0\n",
       "A free copy of Mastering The Interview              0\n",
       "Last Notable Activity                               0\n",
       "dtype: int64"
      ]
     },
     "execution_count": 349,
     "metadata": {},
     "output_type": "execute_result"
    }
   ],
   "source": [
    "# checking for the null values\n",
    "data.isna().sum()"
   ]
  },
  {
   "cell_type": "markdown",
   "id": "8873a178-3271-42f7-beb3-04039a350f57",
   "metadata": {},
   "source": [
    "##### There are a lot of null values.\n",
    "##### As statted many categorical columns have 'select' as a level we'll replace them with Null.\n",
    "##### We'll also convert all the cat values in lower case for correct representation of levels."
   ]
  },
  {
   "cell_type": "markdown",
   "id": "43b99771-f7c0-45d5-9943-ddd6cadcb53f",
   "metadata": {},
   "source": [
    "#### Data Cleaning"
   ]
  },
  {
   "cell_type": "code",
   "execution_count": 350,
   "id": "a3347680-bf83-4c6d-b308-df859e3d8ea4",
   "metadata": {},
   "outputs": [
    {
     "data": {
      "text/plain": [
       "True"
      ]
     },
     "execution_count": 350,
     "metadata": {},
     "output_type": "execute_result"
    }
   ],
   "source": [
    "# checking for duplicates\n",
    "sum(data.duplicated(subset = 'Prospect ID')) == 0\n",
    "sum(data.duplicated(subset = 'Lead Number')) == 0"
   ]
  },
  {
   "cell_type": "markdown",
   "id": "b83e43b3-72de-4b5b-96c6-1a35c74ca0bb",
   "metadata": {},
   "source": [
    "Prospect ID & Lead Number are like ID numbers and shows that there are no duplicate ids."
   ]
  },
  {
   "cell_type": "code",
   "execution_count": 351,
   "id": "1fefe8b4-97b4-46be-8cca-77bd23bcdd3d",
   "metadata": {},
   "outputs": [],
   "source": [
    "# Converting all the values to lower case\n",
    "data = data.applymap(lambda x:x.lower() if type(x) == str else x)"
   ]
  },
  {
   "cell_type": "code",
   "execution_count": 352,
   "id": "2ff21a4e-8ae6-4396-ab4f-e3de521e8415",
   "metadata": {},
   "outputs": [],
   "source": [
    "#Converting 'Select' values to NaN.\n",
    "\n",
    "data = data.replace('select', np.nan)"
   ]
  },
  {
   "cell_type": "code",
   "execution_count": 353,
   "id": "c298837f-68e3-44e1-a412-ed30d9f91c20",
   "metadata": {},
   "outputs": [
    {
     "data": {
      "text/plain": [
       "How did you hear about X Education               78.463203\n",
       "Lead Profile                                     74.188312\n",
       "Lead Quality                                     51.590909\n",
       "Asymmetrique Profile Score                       45.649351\n",
       "Asymmetrique Activity Score                      45.649351\n",
       "Asymmetrique Activity Index                      45.649351\n",
       "Asymmetrique Profile Index                       45.649351\n",
       "City                                             39.707792\n",
       "Specialization                                   36.580087\n",
       "Tags                                             36.287879\n",
       "What matters most to you in choosing a course    29.318182\n",
       "What is your current occupation                  29.112554\n",
       "Country                                          26.634199\n",
       "Page Views Per Visit                              1.482684\n",
       "TotalVisits                                       1.482684\n",
       "Last Activity                                     1.114719\n",
       "Lead Source                                       0.389610\n",
       "Receive More Updates About Our Courses            0.000000\n",
       "I agree to pay the amount through cheque          0.000000\n",
       "Get updates on DM Content                         0.000000\n",
       "Update me on Supply Chain Content                 0.000000\n",
       "A free copy of Mastering The Interview            0.000000\n",
       "Prospect ID                                       0.000000\n",
       "Newspaper Article                                 0.000000\n",
       "Through Recommendations                           0.000000\n",
       "Digital Advertisement                             0.000000\n",
       "Newspaper                                         0.000000\n",
       "X Education Forums                                0.000000\n",
       "Lead Number                                       0.000000\n",
       "Magazine                                          0.000000\n",
       "Search                                            0.000000\n",
       "Total Time Spent on Website                       0.000000\n",
       "Converted                                         0.000000\n",
       "Do Not Call                                       0.000000\n",
       "Do Not Email                                      0.000000\n",
       "Lead Origin                                       0.000000\n",
       "Last Notable Activity                             0.000000\n",
       "dtype: float64"
      ]
     },
     "execution_count": 353,
     "metadata": {},
     "output_type": "execute_result"
    }
   ],
   "source": [
    "# Checking the percentage of missing values\n",
    "nasum= (data.isnull().sum() / len(data)) * 100\n",
    "nasum.sort_values(ascending=False)"
   ]
  },
  {
   "cell_type": "markdown",
   "id": "2103766a-7858-431e-8847-6f5bc44b2c78",
   "metadata": {},
   "source": [
    "We'll remove the columns having more than 35% of missing values"
   ]
  },
  {
   "cell_type": "code",
   "execution_count": 354,
   "id": "c147ca20-c4d0-4b74-a424-89d54ee29f1b",
   "metadata": {},
   "outputs": [],
   "source": [
    "#dropping cols with more than 35% missing values\n",
    "cols_to_drop = nasum[nasum >= 35].index\n",
    "data.drop(cols_to_drop, axis=1, inplace=True)"
   ]
  },
  {
   "cell_type": "code",
   "execution_count": 355,
   "id": "3d821401-f827-4684-8774-59b3ed5cc972",
   "metadata": {},
   "outputs": [
    {
     "data": {
      "text/plain": [
       "What matters most to you in choosing a course    29.318182\n",
       "What is your current occupation                  29.112554\n",
       "Country                                          26.634199\n",
       "TotalVisits                                       1.482684\n",
       "Page Views Per Visit                              1.482684\n",
       "Last Activity                                     1.114719\n",
       "Lead Source                                       0.389610\n",
       "X Education Forums                                0.000000\n",
       "A free copy of Mastering The Interview            0.000000\n",
       "I agree to pay the amount through cheque          0.000000\n",
       "Get updates on DM Content                         0.000000\n",
       "Update me on Supply Chain Content                 0.000000\n",
       "Receive More Updates About Our Courses            0.000000\n",
       "Through Recommendations                           0.000000\n",
       "Digital Advertisement                             0.000000\n",
       "Newspaper                                         0.000000\n",
       "Prospect ID                                       0.000000\n",
       "Newspaper Article                                 0.000000\n",
       "Magazine                                          0.000000\n",
       "Search                                            0.000000\n",
       "Lead Number                                       0.000000\n",
       "Total Time Spent on Website                       0.000000\n",
       "Converted                                         0.000000\n",
       "Do Not Call                                       0.000000\n",
       "Do Not Email                                      0.000000\n",
       "Lead Origin                                       0.000000\n",
       "Last Notable Activity                             0.000000\n",
       "dtype: float64"
      ]
     },
     "execution_count": 355,
     "metadata": {},
     "output_type": "execute_result"
    }
   ],
   "source": [
    "# checking the missing values again\n",
    "((data.isnull().sum() / len(data)) * 100).sort_values(ascending=False)"
   ]
  },
  {
   "cell_type": "markdown",
   "id": "76447125-b12b-461c-81bc-f7fc1b5ab9b2",
   "metadata": {},
   "source": [
    "#### Checking Individual columns: Categorical Analysis"
   ]
  },
  {
   "cell_type": "code",
   "execution_count": 356,
   "id": "aa66b68f-b27c-4244-9647-a3c04124e79b",
   "metadata": {},
   "outputs": [
    {
     "data": {
      "text/plain": [
       "What matters most to you in choosing a course\n",
       "better career prospects      70.649351\n",
       "NaN                          29.318182\n",
       "flexibility & convenience     0.021645\n",
       "other                         0.010823\n",
       "Name: proportion, dtype: float64"
      ]
     },
     "execution_count": 356,
     "metadata": {},
     "output_type": "execute_result"
    }
   ],
   "source": [
    "data['What matters most to you in choosing a course'].value_counts(normalize = True, dropna = False) * 100 "
   ]
  },
  {
   "cell_type": "markdown",
   "id": "371597c0-6f7c-4d5d-bca7-a69f76eb5444",
   "metadata": {},
   "source": [
    "column is heavily skewed with 'better career prospects' and NaN values(~99%) and hence we'll drop this column."
   ]
  },
  {
   "cell_type": "code",
   "execution_count": 357,
   "id": "e5b57195-cf9b-4f18-976f-e48d36a96362",
   "metadata": {},
   "outputs": [],
   "source": [
    "data.drop('What matters most to you in choosing a course', axis = 1, inplace = True) "
   ]
  },
  {
   "cell_type": "code",
   "execution_count": 358,
   "id": "50f37f62-28e3-4b4d-9bd4-a9deb793c636",
   "metadata": {},
   "outputs": [
    {
     "data": {
      "text/plain": [
       "What is your current occupation\n",
       "unemployed              85.496183\n",
       "working professional    10.778626\n",
       "student                  3.206107\n",
       "other                    0.244275\n",
       "housewife                0.152672\n",
       "businessman              0.122137\n",
       "Name: proportion, dtype: float64"
      ]
     },
     "execution_count": 358,
     "metadata": {},
     "output_type": "execute_result"
    }
   ],
   "source": [
    "data['What is your current occupation'].value_counts(normalize= True)*100"
   ]
  },
  {
   "cell_type": "markdown",
   "id": "7c68bda9-35ab-4485-8355-358ccb819d7c",
   "metadata": {},
   "source": [
    "As we can see there are many low representing cat levels. Let's join them for better representation"
   ]
  },
  {
   "cell_type": "code",
   "execution_count": 359,
   "id": "8219394e-1de2-43cf-bc8a-3ecac1c3f132",
   "metadata": {},
   "outputs": [],
   "source": [
    "# Combine low-representing categories\n",
    "data.loc[data['What is your current occupation'].isin(['other', 'housewife', 'businessman']), 'What is your current occupation'] = 'others'"
   ]
  },
  {
   "cell_type": "code",
   "execution_count": 360,
   "id": "0e2cfa69-0a09-47cc-bd9f-95ede425eecc",
   "metadata": {},
   "outputs": [
    {
     "data": {
      "text/plain": [
       "What is your current occupation\n",
       "unemployed              85.496183\n",
       "working professional    10.778626\n",
       "student                  3.206107\n",
       "others                   0.519084\n",
       "Name: proportion, dtype: float64"
      ]
     },
     "execution_count": 360,
     "metadata": {},
     "output_type": "execute_result"
    }
   ],
   "source": [
    "data['What is your current occupation'].value_counts(normalize= True)*100"
   ]
  },
  {
   "cell_type": "markdown",
   "id": "95830a10-3b7f-4a11-9182-a4d28b526bb1",
   "metadata": {},
   "source": [
    "Instead of imputing NaN values with just 'unemployed', we'll impute them proportionately to take care of the bias"
   ]
  },
  {
   "cell_type": "code",
   "execution_count": 361,
   "id": "2724151c-117d-4cd0-9952-3f9aaf0dede0",
   "metadata": {},
   "outputs": [],
   "source": [
    "data['What is your current occupation'] = data['What is your current occupation'].fillna(pd.Series(np.random.choice(['unemployed', 'working professional', 'student', 'others'], p = [0.8550, 0.1078, 0.0320, 0.0052], size = len(data)))) "
   ]
  },
  {
   "cell_type": "code",
   "execution_count": 362,
   "id": "ca0640a8-1e40-4796-9968-98b5a4c0b6ed",
   "metadata": {},
   "outputs": [
    {
     "data": {
      "text/plain": [
       "What is your current occupation\n",
       "unemployed              85.638528\n",
       "working professional    10.638528\n",
       "student                  3.246753\n",
       "others                   0.476190\n",
       "Name: proportion, dtype: float64"
      ]
     },
     "execution_count": 362,
     "metadata": {},
     "output_type": "execute_result"
    }
   ],
   "source": [
    "data['What is your current occupation'].value_counts(normalize= True)*100"
   ]
  },
  {
   "cell_type": "code",
   "execution_count": 363,
   "id": "827eaba8-f54a-43a5-bc30-dd887e44847c",
   "metadata": {},
   "outputs": [
    {
     "data": {
      "text/plain": [
       "Country\n",
       "india                   0.702597\n",
       "NaN                     0.266342\n",
       "united states           0.007468\n",
       "united arab emirates    0.005736\n",
       "singapore               0.002597\n",
       "saudi arabia            0.002273\n",
       "united kingdom          0.001623\n",
       "australia               0.001407\n",
       "qatar                   0.001082\n",
       "bahrain                 0.000758\n",
       "hong kong               0.000758\n",
       "oman                    0.000649\n",
       "france                  0.000649\n",
       "unknown                 0.000541\n",
       "kuwait                  0.000433\n",
       "south africa            0.000433\n",
       "canada                  0.000433\n",
       "nigeria                 0.000433\n",
       "germany                 0.000433\n",
       "sweden                  0.000325\n",
       "philippines             0.000216\n",
       "uganda                  0.000216\n",
       "italy                   0.000216\n",
       "bangladesh              0.000216\n",
       "netherlands             0.000216\n",
       "asia/pacific region     0.000216\n",
       "china                   0.000216\n",
       "belgium                 0.000216\n",
       "ghana                   0.000216\n",
       "kenya                   0.000108\n",
       "sri lanka               0.000108\n",
       "tanzania                0.000108\n",
       "malaysia                0.000108\n",
       "liberia                 0.000108\n",
       "switzerland             0.000108\n",
       "denmark                 0.000108\n",
       "russia                  0.000108\n",
       "vietnam                 0.000108\n",
       "indonesia               0.000108\n",
       "Name: proportion, dtype: float64"
      ]
     },
     "execution_count": 363,
     "metadata": {},
     "output_type": "execute_result"
    }
   ],
   "source": [
    "data.Country.value_counts(normalize= True, dropna = False)"
   ]
  },
  {
   "cell_type": "code",
   "execution_count": 364,
   "id": "38f679fc-465d-44c5-a555-1f5e188c26bb",
   "metadata": {},
   "outputs": [],
   "source": [
    "data['Country'] = data['Country'].fillna('not provided')"
   ]
  },
  {
   "cell_type": "code",
   "execution_count": 365,
   "id": "5e45de23-d37e-403c-b293-95fbe920bbd3",
   "metadata": {},
   "outputs": [
    {
     "data": {
      "text/plain": [
       "Country\n",
       "india            6492\n",
       "not provided     2461\n",
       "outside india     287\n",
       "Name: count, dtype: int64"
      ]
     },
     "execution_count": 365,
     "metadata": {},
     "output_type": "execute_result"
    }
   ],
   "source": [
    "def cats(x):\n",
    "    category = \"\"\n",
    "    if x == \"india\":\n",
    "        category = \"india\"\n",
    "    elif x == \"not provided\":\n",
    "        category = \"not provided\"\n",
    "    else:\n",
    "        category = \"outside india\"\n",
    "    return category\n",
    "\n",
    "data['Country'] = data.apply(lambda x:cats(x['Country']), axis = 1)\n",
    "data['Country'].value_counts()"
   ]
  },
  {
   "cell_type": "code",
   "execution_count": 366,
   "id": "4fa0c33f-8907-4007-bcb2-20bc956ddf1d",
   "metadata": {},
   "outputs": [
    {
     "data": {
      "text/plain": [
       "TotalVisits\n",
       "0.0      23.690476\n",
       "2.0      18.181818\n",
       "3.0      14.134199\n",
       "4.0      12.121212\n",
       "5.0       8.474026\n",
       "6.0       5.043290\n",
       "1.0       4.274892\n",
       "7.0       3.344156\n",
       "8.0       2.424242\n",
       "9.0       1.774892\n",
       "NaN       1.482684\n",
       "10.0      1.233766\n",
       "11.0      0.930736\n",
       "13.0      0.519481\n",
       "12.0      0.487013\n",
       "14.0      0.389610\n",
       "16.0      0.227273\n",
       "15.0      0.194805\n",
       "17.0      0.173160\n",
       "18.0      0.162338\n",
       "20.0      0.129870\n",
       "19.0      0.097403\n",
       "21.0      0.064935\n",
       "23.0      0.064935\n",
       "24.0      0.054113\n",
       "25.0      0.054113\n",
       "27.0      0.054113\n",
       "22.0      0.032468\n",
       "29.0      0.021645\n",
       "28.0      0.021645\n",
       "26.0      0.021645\n",
       "141.0     0.010823\n",
       "55.0      0.010823\n",
       "30.0      0.010823\n",
       "43.0      0.010823\n",
       "74.0      0.010823\n",
       "41.0      0.010823\n",
       "54.0      0.010823\n",
       "115.0     0.010823\n",
       "251.0     0.010823\n",
       "32.0      0.010823\n",
       "42.0      0.010823\n",
       "Name: proportion, dtype: float64"
      ]
     },
     "execution_count": 366,
     "metadata": {},
     "output_type": "execute_result"
    }
   ],
   "source": [
    "#Checking the 'TotalVisits' column\n",
    "data['TotalVisits'].value_counts(normalize=True, dropna=False) * 100"
   ]
  },
  {
   "cell_type": "code",
   "execution_count": 367,
   "id": "8f74fda0-c509-4892-ac90-ea904c789c63",
   "metadata": {},
   "outputs": [],
   "source": [
    "# Filling missing values in 'TotalVisits' with the mode of the column\n",
    "data['TotalVisits'] = data['TotalVisits'].fillna(data['TotalVisits'].mode()[0])"
   ]
  },
  {
   "cell_type": "code",
   "execution_count": 368,
   "id": "360893db-d3d8-4b18-9d9b-a9055fc32026",
   "metadata": {},
   "outputs": [
    {
     "data": {
      "text/plain": [
       "TotalVisits\n",
       "0.0      25.173160\n",
       "2.0      18.181818\n",
       "3.0      14.134199\n",
       "4.0      12.121212\n",
       "5.0       8.474026\n",
       "6.0       5.043290\n",
       "1.0       4.274892\n",
       "7.0       3.344156\n",
       "8.0       2.424242\n",
       "9.0       1.774892\n",
       "10.0      1.233766\n",
       "11.0      0.930736\n",
       "13.0      0.519481\n",
       "12.0      0.487013\n",
       "14.0      0.389610\n",
       "16.0      0.227273\n",
       "15.0      0.194805\n",
       "17.0      0.173160\n",
       "18.0      0.162338\n",
       "20.0      0.129870\n",
       "19.0      0.097403\n",
       "21.0      0.064935\n",
       "23.0      0.064935\n",
       "24.0      0.054113\n",
       "25.0      0.054113\n",
       "27.0      0.054113\n",
       "22.0      0.032468\n",
       "29.0      0.021645\n",
       "28.0      0.021645\n",
       "26.0      0.021645\n",
       "141.0     0.010823\n",
       "55.0      0.010823\n",
       "30.0      0.010823\n",
       "43.0      0.010823\n",
       "74.0      0.010823\n",
       "41.0      0.010823\n",
       "54.0      0.010823\n",
       "115.0     0.010823\n",
       "251.0     0.010823\n",
       "32.0      0.010823\n",
       "42.0      0.010823\n",
       "Name: proportion, dtype: float64"
      ]
     },
     "execution_count": 368,
     "metadata": {},
     "output_type": "execute_result"
    }
   ],
   "source": [
    "data['TotalVisits'].value_counts(normalize=True, dropna=False) * 100         #checking"
   ]
  },
  {
   "cell_type": "code",
   "execution_count": 369,
   "id": "48900aa9-bfda-44bd-bc61-d5e1e651b221",
   "metadata": {},
   "outputs": [
    {
     "data": {
      "text/plain": [
       "Page Views Per Visit\n",
       "0.00    2189\n",
       "2.00    1795\n",
       "3.00    1196\n",
       "4.00     896\n",
       "1.00     651\n",
       "        ... \n",
       "2.56       1\n",
       "6.33       1\n",
       "1.64       1\n",
       "8.21       1\n",
       "2.08       1\n",
       "Name: count, Length: 115, dtype: int64"
      ]
     },
     "execution_count": 369,
     "metadata": {},
     "output_type": "execute_result"
    }
   ],
   "source": [
    "#Checking the 'Page Views Per Visit' column\n",
    "data['Page Views Per Visit'].value_counts(dropna=False)"
   ]
  },
  {
   "cell_type": "code",
   "execution_count": 370,
   "id": "4b6a2d95-572e-4b0c-8af3-daee3991c1cd",
   "metadata": {},
   "outputs": [
    {
     "data": {
      "text/plain": [
       "114"
      ]
     },
     "execution_count": 370,
     "metadata": {},
     "output_type": "execute_result"
    }
   ],
   "source": [
    "data['Page Views Per Visit'].nunique()"
   ]
  },
  {
   "cell_type": "code",
   "execution_count": 371,
   "id": "de12a71e-c289-4250-988c-4b3f45ef0f50",
   "metadata": {},
   "outputs": [],
   "source": [
    "# Filling missing values in 'Page Views Per Visit' with the mode of the column\n",
    "data['Page Views Per Visit'] = data['Page Views Per Visit'].fillna(data['Page Views Per Visit'].mode()[0])"
   ]
  },
  {
   "cell_type": "code",
   "execution_count": 372,
   "id": "c247a16f-520c-4f7c-b327-919b919c71bf",
   "metadata": {},
   "outputs": [
    {
     "data": {
      "text/plain": [
       "Last Activity\n",
       "email opened                    3437\n",
       "sms sent                        2745\n",
       "olark chat conversation          973\n",
       "page visited on website          640\n",
       "converted to lead                428\n",
       "email bounced                    326\n",
       "email link clicked               267\n",
       "form submitted on website        116\n",
       "NaN                              103\n",
       "unreachable                       93\n",
       "unsubscribed                      61\n",
       "had a phone conversation          30\n",
       "approached upfront                 9\n",
       "view in browser link clicked       6\n",
       "email received                     2\n",
       "email marked spam                  2\n",
       "visited booth in tradeshow         1\n",
       "resubscribed to emails             1\n",
       "Name: count, dtype: int64"
      ]
     },
     "execution_count": 372,
     "metadata": {},
     "output_type": "execute_result"
    }
   ],
   "source": [
    "#Checking the 'Last Activity' column\n",
    "data['Last Activity'].value_counts(dropna=False)"
   ]
  },
  {
   "cell_type": "code",
   "execution_count": 373,
   "id": "2d4a37f7-c49c-4ac3-a3fb-c04f906b532a",
   "metadata": {},
   "outputs": [],
   "source": [
    "# Filling missing values in 'Last Activity' with the mode of the column\n",
    "data['Last Activity'] = data['Last Activity'].fillna(data['Last Activity'].mode()[0])"
   ]
  },
  {
   "cell_type": "code",
   "execution_count": 374,
   "id": "7dda3944-f1d8-4209-b1cd-f4d2a3f9162d",
   "metadata": {},
   "outputs": [
    {
     "data": {
      "text/plain": [
       "Lead Source\n",
       "google               2873\n",
       "direct traffic       2543\n",
       "olark chat           1755\n",
       "organic search       1154\n",
       "reference             534\n",
       "welingak website      142\n",
       "referral sites        125\n",
       "facebook               55\n",
       "NaN                    36\n",
       "bing                    6\n",
       "click2call              4\n",
       "press_release           2\n",
       "social media            2\n",
       "live chat               2\n",
       "youtubechannel          1\n",
       "testone                 1\n",
       "pay per click ads       1\n",
       "welearnblog_home        1\n",
       "welearn                 1\n",
       "blog                    1\n",
       "nc_edm                  1\n",
       "Name: count, dtype: int64"
      ]
     },
     "execution_count": 374,
     "metadata": {},
     "output_type": "execute_result"
    }
   ],
   "source": [
    "#Checking the 'Lead Source' column\n",
    "data['Lead Source'].value_counts(dropna=False)"
   ]
  },
  {
   "cell_type": "code",
   "execution_count": 375,
   "id": "1aef0e11-4c8e-4c50-a953-0b3044996035",
   "metadata": {},
   "outputs": [],
   "source": [
    "# Filling missing values in 'Lead Source' with the mode of the column\n",
    "data['Lead Source'] = data['Lead Source'].fillna(data['Lead Source'].mode()[0])"
   ]
  },
  {
   "cell_type": "code",
   "execution_count": 376,
   "id": "bea31a81-3449-4da1-aa0c-c1107ee678a3",
   "metadata": {},
   "outputs": [
    {
     "data": {
      "text/plain": [
       "Prospect ID                                 0\n",
       "Lead Number                                 0\n",
       "A free copy of Mastering The Interview      0\n",
       "I agree to pay the amount through cheque    0\n",
       "Get updates on DM Content                   0\n",
       "Update me on Supply Chain Content           0\n",
       "Receive More Updates About Our Courses      0\n",
       "Through Recommendations                     0\n",
       "Digital Advertisement                       0\n",
       "Newspaper                                   0\n",
       "X Education Forums                          0\n",
       "Newspaper Article                           0\n",
       "Magazine                                    0\n",
       "Search                                      0\n",
       "What is your current occupation             0\n",
       "Country                                     0\n",
       "Last Activity                               0\n",
       "Page Views Per Visit                        0\n",
       "Total Time Spent on Website                 0\n",
       "TotalVisits                                 0\n",
       "Converted                                   0\n",
       "Do Not Call                                 0\n",
       "Do Not Email                                0\n",
       "Lead Source                                 0\n",
       "Lead Origin                                 0\n",
       "Last Notable Activity                       0\n",
       "dtype: int64"
      ]
     },
     "execution_count": 376,
     "metadata": {},
     "output_type": "execute_result"
    }
   ],
   "source": [
    "# rechecking for the missing values\n",
    "data.isnull().sum().sort_values(ascending=False)"
   ]
  },
  {
   "cell_type": "code",
   "execution_count": 377,
   "id": "ef787aaa-8238-4e81-b0d5-12cc2793b86e",
   "metadata": {},
   "outputs": [
    {
     "data": {
      "text/plain": [
       "Prospect ID                                 9240\n",
       "Lead Number                                 9240\n",
       "Lead Origin                                    5\n",
       "Lead Source                                   20\n",
       "Do Not Email                                   2\n",
       "Do Not Call                                    2\n",
       "Converted                                      2\n",
       "TotalVisits                                   41\n",
       "Total Time Spent on Website                 1731\n",
       "Page Views Per Visit                         114\n",
       "Last Activity                                 17\n",
       "Country                                        3\n",
       "What is your current occupation                4\n",
       "Search                                         2\n",
       "Magazine                                       1\n",
       "Newspaper Article                              2\n",
       "X Education Forums                             2\n",
       "Newspaper                                      2\n",
       "Digital Advertisement                          2\n",
       "Through Recommendations                        2\n",
       "Receive More Updates About Our Courses         1\n",
       "Update me on Supply Chain Content              1\n",
       "Get updates on DM Content                      1\n",
       "I agree to pay the amount through cheque       1\n",
       "A free copy of Mastering The Interview         2\n",
       "Last Notable Activity                         16\n",
       "dtype: int64"
      ]
     },
     "execution_count": 377,
     "metadata": {},
     "output_type": "execute_result"
    }
   ],
   "source": [
    "data.nunique()"
   ]
  },
  {
   "cell_type": "markdown",
   "id": "9af85efe-0668-4d9a-b22a-4ca4358a19dc",
   "metadata": {},
   "source": [
    "There are few cat columns with just 1 level, we can drop them too"
   ]
  },
  {
   "cell_type": "code",
   "execution_count": 378,
   "id": "568deac9-0a0b-45a1-b314-61ce7f697be4",
   "metadata": {},
   "outputs": [
    {
     "data": {
      "text/html": [
       "<div>\n",
       "<style scoped>\n",
       "    .dataframe tbody tr th:only-of-type {\n",
       "        vertical-align: middle;\n",
       "    }\n",
       "\n",
       "    .dataframe tbody tr th {\n",
       "        vertical-align: top;\n",
       "    }\n",
       "\n",
       "    .dataframe thead th {\n",
       "        text-align: right;\n",
       "    }\n",
       "</style>\n",
       "<table border=\"1\" class=\"dataframe\">\n",
       "  <thead>\n",
       "    <tr style=\"text-align: right;\">\n",
       "      <th></th>\n",
       "      <th>Magazine</th>\n",
       "      <th>Receive More Updates About Our Courses</th>\n",
       "      <th>Update me on Supply Chain Content</th>\n",
       "      <th>Get updates on DM Content</th>\n",
       "      <th>I agree to pay the amount through cheque</th>\n",
       "    </tr>\n",
       "  </thead>\n",
       "  <tbody>\n",
       "    <tr>\n",
       "      <th>0</th>\n",
       "      <td>no</td>\n",
       "      <td>no</td>\n",
       "      <td>no</td>\n",
       "      <td>no</td>\n",
       "      <td>no</td>\n",
       "    </tr>\n",
       "    <tr>\n",
       "      <th>1</th>\n",
       "      <td>no</td>\n",
       "      <td>no</td>\n",
       "      <td>no</td>\n",
       "      <td>no</td>\n",
       "      <td>no</td>\n",
       "    </tr>\n",
       "    <tr>\n",
       "      <th>2</th>\n",
       "      <td>no</td>\n",
       "      <td>no</td>\n",
       "      <td>no</td>\n",
       "      <td>no</td>\n",
       "      <td>no</td>\n",
       "    </tr>\n",
       "    <tr>\n",
       "      <th>3</th>\n",
       "      <td>no</td>\n",
       "      <td>no</td>\n",
       "      <td>no</td>\n",
       "      <td>no</td>\n",
       "      <td>no</td>\n",
       "    </tr>\n",
       "    <tr>\n",
       "      <th>4</th>\n",
       "      <td>no</td>\n",
       "      <td>no</td>\n",
       "      <td>no</td>\n",
       "      <td>no</td>\n",
       "      <td>no</td>\n",
       "    </tr>\n",
       "  </tbody>\n",
       "</table>\n",
       "</div>"
      ],
      "text/plain": [
       "  Magazine Receive More Updates About Our Courses  \\\n",
       "0       no                                     no   \n",
       "1       no                                     no   \n",
       "2       no                                     no   \n",
       "3       no                                     no   \n",
       "4       no                                     no   \n",
       "\n",
       "  Update me on Supply Chain Content Get updates on DM Content  \\\n",
       "0                                no                        no   \n",
       "1                                no                        no   \n",
       "2                                no                        no   \n",
       "3                                no                        no   \n",
       "4                                no                        no   \n",
       "\n",
       "  I agree to pay the amount through cheque  \n",
       "0                                       no  \n",
       "1                                       no  \n",
       "2                                       no  \n",
       "3                                       no  \n",
       "4                                       no  "
      ]
     },
     "execution_count": 378,
     "metadata": {},
     "output_type": "execute_result"
    }
   ],
   "source": [
    "data[data.columns[data.nunique()== 1]].head()"
   ]
  },
  {
   "cell_type": "code",
   "execution_count": 379,
   "id": "f7480d99-598f-471b-b027-f837b38cf5c4",
   "metadata": {},
   "outputs": [],
   "source": [
    "data1= data.drop(data.columns[data.nunique()== 1], axis=1)"
   ]
  },
  {
   "cell_type": "code",
   "execution_count": 380,
   "id": "f871ef2f-d98b-4a0c-95cb-93ef7b3dae2b",
   "metadata": {
    "scrolled": true
   },
   "outputs": [
    {
     "name": "stdout",
     "output_type": "stream",
     "text": [
      "Prospect ID\n",
      "000104b9-23e4-4ddc-8caa-8629fe8ad7f4    1\n",
      "a7a319ea-b6ae-4c6b-afc5-183b933d10b5    1\n",
      "aa27a0af-eeab-4007-a770-fa8a93fa53c8    1\n",
      "aa30ebb2-8476-41ce-9258-37cc025110d3    1\n",
      "aa405742-17ac-4c65-b19e-ab91c241cc53    1\n",
      "                                       ..\n",
      "539eb309-df36-4a89-ac58-6d3651393910    1\n",
      "539ffa32-1be7-4fe1-b04c-faf1bab763cf    1\n",
      "53aabd84-5dcc-4299-bbe3-62f3764b07b1    1\n",
      "53ac14bd-2bb2-4315-a21c-94562d1b6b2d    1\n",
      "fffb0e5e-9f92-4017-9f42-781a69da4154    1\n",
      "Name: count, Length: 9240, dtype: int64\n",
      "----------------------------------------------------------------------------------------\n",
      "Lead Number\n",
      "579533    1\n",
      "629593    1\n",
      "630390    1\n",
      "630403    1\n",
      "630405    1\n",
      "         ..\n",
      "602534    1\n",
      "602540    1\n",
      "602557    1\n",
      "602561    1\n",
      "660737    1\n",
      "Name: count, Length: 9240, dtype: int64\n",
      "----------------------------------------------------------------------------------------\n",
      "Lead Origin\n",
      "landing page submission    4886\n",
      "api                        3580\n",
      "lead add form               718\n",
      "lead import                  55\n",
      "quick add form                1\n",
      "Name: count, dtype: int64\n",
      "----------------------------------------------------------------------------------------\n",
      "Lead Source\n",
      "google               2909\n",
      "direct traffic       2543\n",
      "olark chat           1755\n",
      "organic search       1154\n",
      "reference             534\n",
      "welingak website      142\n",
      "referral sites        125\n",
      "facebook               55\n",
      "bing                    6\n",
      "click2call              4\n",
      "live chat               2\n",
      "press_release           2\n",
      "social media            2\n",
      "welearn                 1\n",
      "welearnblog_home        1\n",
      "pay per click ads       1\n",
      "testone                 1\n",
      "blog                    1\n",
      "nc_edm                  1\n",
      "youtubechannel          1\n",
      "Name: count, dtype: int64\n",
      "----------------------------------------------------------------------------------------\n",
      "Do Not Email\n",
      "no     8506\n",
      "yes     734\n",
      "Name: count, dtype: int64\n",
      "----------------------------------------------------------------------------------------\n",
      "Do Not Call\n",
      "no     9238\n",
      "yes       2\n",
      "Name: count, dtype: int64\n",
      "----------------------------------------------------------------------------------------\n",
      "Converted\n",
      "0    5679\n",
      "1    3561\n",
      "Name: count, dtype: int64\n",
      "----------------------------------------------------------------------------------------\n",
      "TotalVisits\n",
      "0.0      2326\n",
      "2.0      1680\n",
      "3.0      1306\n",
      "4.0      1120\n",
      "5.0       783\n",
      "6.0       466\n",
      "1.0       395\n",
      "7.0       309\n",
      "8.0       224\n",
      "9.0       164\n",
      "10.0      114\n",
      "11.0       86\n",
      "13.0       48\n",
      "12.0       45\n",
      "14.0       36\n",
      "16.0       21\n",
      "15.0       18\n",
      "17.0       16\n",
      "18.0       15\n",
      "20.0       12\n",
      "19.0        9\n",
      "23.0        6\n",
      "21.0        6\n",
      "24.0        5\n",
      "25.0        5\n",
      "27.0        5\n",
      "22.0        3\n",
      "26.0        2\n",
      "28.0        2\n",
      "29.0        2\n",
      "54.0        1\n",
      "141.0       1\n",
      "115.0       1\n",
      "74.0        1\n",
      "55.0        1\n",
      "30.0        1\n",
      "43.0        1\n",
      "42.0        1\n",
      "41.0        1\n",
      "32.0        1\n",
      "251.0       1\n",
      "Name: count, dtype: int64\n",
      "----------------------------------------------------------------------------------------\n",
      "Total Time Spent on Website\n",
      "0       2193\n",
      "60        19\n",
      "75        18\n",
      "74        18\n",
      "127       18\n",
      "        ... \n",
      "1091       1\n",
      "1088       1\n",
      "1085       1\n",
      "1084       1\n",
      "2272       1\n",
      "Name: count, Length: 1731, dtype: int64\n",
      "----------------------------------------------------------------------------------------\n",
      "Page Views Per Visit\n",
      "0.0     2326\n",
      "2.0     1795\n",
      "3.0     1196\n",
      "4.0      896\n",
      "1.0      651\n",
      "        ... \n",
      "3.57       1\n",
      "3.8        1\n",
      "3.82       1\n",
      "3.83       1\n",
      "55.0       1\n",
      "Name: count, Length: 114, dtype: int64\n",
      "----------------------------------------------------------------------------------------\n",
      "Last Activity\n",
      "email opened                    3540\n",
      "sms sent                        2745\n",
      "olark chat conversation          973\n",
      "page visited on website          640\n",
      "converted to lead                428\n",
      "email bounced                    326\n",
      "email link clicked               267\n",
      "form submitted on website        116\n",
      "unreachable                       93\n",
      "unsubscribed                      61\n",
      "had a phone conversation          30\n",
      "approached upfront                 9\n",
      "view in browser link clicked       6\n",
      "email received                     2\n",
      "email marked spam                  2\n",
      "resubscribed to emails             1\n",
      "visited booth in tradeshow         1\n",
      "Name: count, dtype: int64\n",
      "----------------------------------------------------------------------------------------\n",
      "Country\n",
      "india            6492\n",
      "not provided     2461\n",
      "outside india     287\n",
      "Name: count, dtype: int64\n",
      "----------------------------------------------------------------------------------------\n",
      "What is your current occupation\n",
      "unemployed              7913\n",
      "working professional     983\n",
      "student                  300\n",
      "others                    44\n",
      "Name: count, dtype: int64\n",
      "----------------------------------------------------------------------------------------\n",
      "Search\n",
      "no     9226\n",
      "yes      14\n",
      "Name: count, dtype: int64\n",
      "----------------------------------------------------------------------------------------\n",
      "Newspaper Article\n",
      "no     9238\n",
      "yes       2\n",
      "Name: count, dtype: int64\n",
      "----------------------------------------------------------------------------------------\n",
      "X Education Forums\n",
      "no     9239\n",
      "yes       1\n",
      "Name: count, dtype: int64\n",
      "----------------------------------------------------------------------------------------\n",
      "Newspaper\n",
      "no     9239\n",
      "yes       1\n",
      "Name: count, dtype: int64\n",
      "----------------------------------------------------------------------------------------\n",
      "Digital Advertisement\n",
      "no     9236\n",
      "yes       4\n",
      "Name: count, dtype: int64\n",
      "----------------------------------------------------------------------------------------\n",
      "Through Recommendations\n",
      "no     9233\n",
      "yes       7\n",
      "Name: count, dtype: int64\n",
      "----------------------------------------------------------------------------------------\n",
      "A free copy of Mastering The Interview\n",
      "no     6352\n",
      "yes    2888\n",
      "Name: count, dtype: int64\n",
      "----------------------------------------------------------------------------------------\n",
      "Last Notable Activity\n",
      "modified                        3407\n",
      "email opened                    2827\n",
      "sms sent                        2172\n",
      "page visited on website          318\n",
      "olark chat conversation          183\n",
      "email link clicked               173\n",
      "email bounced                     60\n",
      "unsubscribed                      47\n",
      "unreachable                       32\n",
      "had a phone conversation          14\n",
      "email marked spam                  2\n",
      "approached upfront                 1\n",
      "email received                     1\n",
      "form submitted on website          1\n",
      "resubscribed to emails             1\n",
      "view in browser link clicked       1\n",
      "Name: count, dtype: int64\n",
      "----------------------------------------------------------------------------------------\n"
     ]
    }
   ],
   "source": [
    "#checking the value counts of all the cat columns\n",
    "for column in data1:\n",
    "    print(data1[column].astype('category').value_counts())\n",
    "    print('----------------------------------------------------------------------------------------')"
   ]
  },
  {
   "cell_type": "code",
   "execution_count": 381,
   "id": "cd2f32a2-5222-40e7-9ad5-b85afc972ea3",
   "metadata": {},
   "outputs": [
    {
     "data": {
      "text/html": [
       "<div>\n",
       "<style scoped>\n",
       "    .dataframe tbody tr th:only-of-type {\n",
       "        vertical-align: middle;\n",
       "    }\n",
       "\n",
       "    .dataframe tbody tr th {\n",
       "        vertical-align: top;\n",
       "    }\n",
       "\n",
       "    .dataframe thead th {\n",
       "        text-align: right;\n",
       "    }\n",
       "</style>\n",
       "<table border=\"1\" class=\"dataframe\">\n",
       "  <thead>\n",
       "    <tr style=\"text-align: right;\">\n",
       "      <th></th>\n",
       "      <th>Prospect ID</th>\n",
       "      <th>Lead Number</th>\n",
       "      <th>Lead Origin</th>\n",
       "      <th>Lead Source</th>\n",
       "      <th>Do Not Email</th>\n",
       "      <th>Do Not Call</th>\n",
       "      <th>Converted</th>\n",
       "      <th>TotalVisits</th>\n",
       "      <th>Total Time Spent on Website</th>\n",
       "      <th>Page Views Per Visit</th>\n",
       "      <th>Last Activity</th>\n",
       "      <th>Country</th>\n",
       "      <th>What is your current occupation</th>\n",
       "      <th>Search</th>\n",
       "      <th>Newspaper Article</th>\n",
       "      <th>X Education Forums</th>\n",
       "      <th>Newspaper</th>\n",
       "      <th>Digital Advertisement</th>\n",
       "      <th>Through Recommendations</th>\n",
       "      <th>A free copy of Mastering The Interview</th>\n",
       "      <th>Last Notable Activity</th>\n",
       "    </tr>\n",
       "  </thead>\n",
       "  <tbody>\n",
       "    <tr>\n",
       "      <th>0</th>\n",
       "      <td>7927b2df-8bba-4d29-b9a2-b6e0beafe620</td>\n",
       "      <td>660737</td>\n",
       "      <td>api</td>\n",
       "      <td>olark chat</td>\n",
       "      <td>no</td>\n",
       "      <td>no</td>\n",
       "      <td>0</td>\n",
       "      <td>0.0</td>\n",
       "      <td>0</td>\n",
       "      <td>0.0</td>\n",
       "      <td>page visited on website</td>\n",
       "      <td>not provided</td>\n",
       "      <td>unemployed</td>\n",
       "      <td>no</td>\n",
       "      <td>no</td>\n",
       "      <td>no</td>\n",
       "      <td>no</td>\n",
       "      <td>no</td>\n",
       "      <td>no</td>\n",
       "      <td>no</td>\n",
       "      <td>modified</td>\n",
       "    </tr>\n",
       "    <tr>\n",
       "      <th>1</th>\n",
       "      <td>2a272436-5132-4136-86fa-dcc88c88f482</td>\n",
       "      <td>660728</td>\n",
       "      <td>api</td>\n",
       "      <td>organic search</td>\n",
       "      <td>no</td>\n",
       "      <td>no</td>\n",
       "      <td>0</td>\n",
       "      <td>5.0</td>\n",
       "      <td>674</td>\n",
       "      <td>2.5</td>\n",
       "      <td>email opened</td>\n",
       "      <td>india</td>\n",
       "      <td>unemployed</td>\n",
       "      <td>no</td>\n",
       "      <td>no</td>\n",
       "      <td>no</td>\n",
       "      <td>no</td>\n",
       "      <td>no</td>\n",
       "      <td>no</td>\n",
       "      <td>no</td>\n",
       "      <td>email opened</td>\n",
       "    </tr>\n",
       "    <tr>\n",
       "      <th>2</th>\n",
       "      <td>8cc8c611-a219-4f35-ad23-fdfd2656bd8a</td>\n",
       "      <td>660727</td>\n",
       "      <td>landing page submission</td>\n",
       "      <td>direct traffic</td>\n",
       "      <td>no</td>\n",
       "      <td>no</td>\n",
       "      <td>1</td>\n",
       "      <td>2.0</td>\n",
       "      <td>1532</td>\n",
       "      <td>2.0</td>\n",
       "      <td>email opened</td>\n",
       "      <td>india</td>\n",
       "      <td>student</td>\n",
       "      <td>no</td>\n",
       "      <td>no</td>\n",
       "      <td>no</td>\n",
       "      <td>no</td>\n",
       "      <td>no</td>\n",
       "      <td>no</td>\n",
       "      <td>yes</td>\n",
       "      <td>email opened</td>\n",
       "    </tr>\n",
       "    <tr>\n",
       "      <th>3</th>\n",
       "      <td>0cc2df48-7cf4-4e39-9de9-19797f9b38cc</td>\n",
       "      <td>660719</td>\n",
       "      <td>landing page submission</td>\n",
       "      <td>direct traffic</td>\n",
       "      <td>no</td>\n",
       "      <td>no</td>\n",
       "      <td>0</td>\n",
       "      <td>1.0</td>\n",
       "      <td>305</td>\n",
       "      <td>1.0</td>\n",
       "      <td>unreachable</td>\n",
       "      <td>india</td>\n",
       "      <td>unemployed</td>\n",
       "      <td>no</td>\n",
       "      <td>no</td>\n",
       "      <td>no</td>\n",
       "      <td>no</td>\n",
       "      <td>no</td>\n",
       "      <td>no</td>\n",
       "      <td>no</td>\n",
       "      <td>modified</td>\n",
       "    </tr>\n",
       "    <tr>\n",
       "      <th>4</th>\n",
       "      <td>3256f628-e534-4826-9d63-4a8b88782852</td>\n",
       "      <td>660681</td>\n",
       "      <td>landing page submission</td>\n",
       "      <td>google</td>\n",
       "      <td>no</td>\n",
       "      <td>no</td>\n",
       "      <td>1</td>\n",
       "      <td>2.0</td>\n",
       "      <td>1428</td>\n",
       "      <td>1.0</td>\n",
       "      <td>converted to lead</td>\n",
       "      <td>india</td>\n",
       "      <td>unemployed</td>\n",
       "      <td>no</td>\n",
       "      <td>no</td>\n",
       "      <td>no</td>\n",
       "      <td>no</td>\n",
       "      <td>no</td>\n",
       "      <td>no</td>\n",
       "      <td>no</td>\n",
       "      <td>modified</td>\n",
       "    </tr>\n",
       "  </tbody>\n",
       "</table>\n",
       "</div>"
      ],
      "text/plain": [
       "                            Prospect ID  Lead Number              Lead Origin  \\\n",
       "0  7927b2df-8bba-4d29-b9a2-b6e0beafe620       660737                      api   \n",
       "1  2a272436-5132-4136-86fa-dcc88c88f482       660728                      api   \n",
       "2  8cc8c611-a219-4f35-ad23-fdfd2656bd8a       660727  landing page submission   \n",
       "3  0cc2df48-7cf4-4e39-9de9-19797f9b38cc       660719  landing page submission   \n",
       "4  3256f628-e534-4826-9d63-4a8b88782852       660681  landing page submission   \n",
       "\n",
       "      Lead Source Do Not Email Do Not Call  Converted  TotalVisits  \\\n",
       "0      olark chat           no          no          0          0.0   \n",
       "1  organic search           no          no          0          5.0   \n",
       "2  direct traffic           no          no          1          2.0   \n",
       "3  direct traffic           no          no          0          1.0   \n",
       "4          google           no          no          1          2.0   \n",
       "\n",
       "   Total Time Spent on Website  Page Views Per Visit            Last Activity  \\\n",
       "0                            0                   0.0  page visited on website   \n",
       "1                          674                   2.5             email opened   \n",
       "2                         1532                   2.0             email opened   \n",
       "3                          305                   1.0              unreachable   \n",
       "4                         1428                   1.0        converted to lead   \n",
       "\n",
       "        Country What is your current occupation Search Newspaper Article  \\\n",
       "0  not provided                      unemployed     no                no   \n",
       "1         india                      unemployed     no                no   \n",
       "2         india                         student     no                no   \n",
       "3         india                      unemployed     no                no   \n",
       "4         india                      unemployed     no                no   \n",
       "\n",
       "  X Education Forums Newspaper Digital Advertisement Through Recommendations  \\\n",
       "0                 no        no                    no                      no   \n",
       "1                 no        no                    no                      no   \n",
       "2                 no        no                    no                      no   \n",
       "3                 no        no                    no                      no   \n",
       "4                 no        no                    no                      no   \n",
       "\n",
       "  A free copy of Mastering The Interview Last Notable Activity  \n",
       "0                                     no              modified  \n",
       "1                                     no          email opened  \n",
       "2                                    yes          email opened  \n",
       "3                                     no              modified  \n",
       "4                                     no              modified  "
      ]
     },
     "execution_count": 381,
     "metadata": {},
     "output_type": "execute_result"
    }
   ],
   "source": [
    "data1.head()"
   ]
  },
  {
   "cell_type": "code",
   "execution_count": 382,
   "id": "c7af0111-04ab-4d6a-81f9-2115b3de8369",
   "metadata": {},
   "outputs": [
    {
     "name": "stdout",
     "output_type": "stream",
     "text": [
      "<class 'pandas.core.frame.DataFrame'>\n",
      "RangeIndex: 9240 entries, 0 to 9239\n",
      "Data columns (total 21 columns):\n",
      " #   Column                                  Non-Null Count  Dtype  \n",
      "---  ------                                  --------------  -----  \n",
      " 0   Prospect ID                             9240 non-null   object \n",
      " 1   Lead Number                             9240 non-null   int64  \n",
      " 2   Lead Origin                             9240 non-null   object \n",
      " 3   Lead Source                             9240 non-null   object \n",
      " 4   Do Not Email                            9240 non-null   object \n",
      " 5   Do Not Call                             9240 non-null   object \n",
      " 6   Converted                               9240 non-null   int64  \n",
      " 7   TotalVisits                             9240 non-null   float64\n",
      " 8   Total Time Spent on Website             9240 non-null   int64  \n",
      " 9   Page Views Per Visit                    9240 non-null   float64\n",
      " 10  Last Activity                           9240 non-null   object \n",
      " 11  Country                                 9240 non-null   object \n",
      " 12  What is your current occupation         9240 non-null   object \n",
      " 13  Search                                  9240 non-null   object \n",
      " 14  Newspaper Article                       9240 non-null   object \n",
      " 15  X Education Forums                      9240 non-null   object \n",
      " 16  Newspaper                               9240 non-null   object \n",
      " 17  Digital Advertisement                   9240 non-null   object \n",
      " 18  Through Recommendations                 9240 non-null   object \n",
      " 19  A free copy of Mastering The Interview  9240 non-null   object \n",
      " 20  Last Notable Activity                   9240 non-null   object \n",
      "dtypes: float64(2), int64(3), object(16)\n",
      "memory usage: 1.5+ MB\n"
     ]
    }
   ],
   "source": [
    "data1.info()"
   ]
  },
  {
   "cell_type": "code",
   "execution_count": 383,
   "id": "4f3be50a-e700-4c82-b71e-7e3bd4a19ef2",
   "metadata": {},
   "outputs": [
    {
     "data": {
      "text/plain": [
       "(9240, 19)"
      ]
     },
     "execution_count": 383,
     "metadata": {},
     "output_type": "execute_result"
    }
   ],
   "source": [
    "# Removing 'Prospect Id' and 'Lead Number' values since they are unique for everyone\n",
    "data1.drop('Prospect ID',axis= 1, inplace= True)\n",
    "data1.drop('Lead Number',axis= 1, inplace= True)\n",
    "data1.shape"
   ]
  },
  {
   "cell_type": "markdown",
   "id": "cd38e5d6-1eae-441f-b0cc-547112e86831",
   "metadata": {},
   "source": [
    "Our final data has 19 columns and 9240 non-null rows."
   ]
  },
  {
   "cell_type": "markdown",
   "id": "d2f67a1c-288c-45f3-b3f4-4e85f70819dd",
   "metadata": {},
   "source": [
    "### EXPLORATORY DATA ANALYSIS"
   ]
  },
  {
   "cell_type": "markdown",
   "id": "3bd82f29-f980-4738-a012-12dccb6bfe2d",
   "metadata": {},
   "source": [
    "#### Grouping/ streamlining the data"
   ]
  },
  {
   "cell_type": "code",
   "execution_count": 341,
   "id": "ce8f65a8-ada4-4784-90a8-368d89949a18",
   "metadata": {},
   "outputs": [
    {
     "data": {
      "text/plain": [
       "38.53896103896104"
      ]
     },
     "execution_count": 341,
     "metadata": {},
     "output_type": "execute_result"
    }
   ],
   "source": [
    "#checking the lead conversion rate, this our target variable\n",
    "Conversion_rate = (sum(data1['Converted'])/len(data1['Converted'].index))*100\n",
    "Conversion_rate"
   ]
  },
  {
   "cell_type": "code",
   "execution_count": 418,
   "id": "76d29017-7650-4929-997e-d7ce080b57a7",
   "metadata": {},
   "outputs": [
    {
     "data": {
      "text/html": [
       "<div>\n",
       "<style scoped>\n",
       "    .dataframe tbody tr th:only-of-type {\n",
       "        vertical-align: middle;\n",
       "    }\n",
       "\n",
       "    .dataframe tbody tr th {\n",
       "        vertical-align: top;\n",
       "    }\n",
       "\n",
       "    .dataframe thead th {\n",
       "        text-align: right;\n",
       "    }\n",
       "</style>\n",
       "<table border=\"1\" class=\"dataframe\">\n",
       "  <thead>\n",
       "    <tr style=\"text-align: right;\">\n",
       "      <th></th>\n",
       "      <th>Lead Origin</th>\n",
       "      <th>Lead Source</th>\n",
       "      <th>Do Not Email</th>\n",
       "      <th>Do Not Call</th>\n",
       "      <th>Last Activity</th>\n",
       "      <th>Country</th>\n",
       "      <th>What is your current occupation</th>\n",
       "      <th>Search</th>\n",
       "      <th>Newspaper Article</th>\n",
       "      <th>X Education Forums</th>\n",
       "      <th>Newspaper</th>\n",
       "      <th>Digital Advertisement</th>\n",
       "      <th>Through Recommendations</th>\n",
       "      <th>A free copy of Mastering The Interview</th>\n",
       "      <th>Last Notable Activity</th>\n",
       "    </tr>\n",
       "  </thead>\n",
       "  <tbody>\n",
       "    <tr>\n",
       "      <th>0</th>\n",
       "      <td>api</td>\n",
       "      <td>olark chat</td>\n",
       "      <td>no</td>\n",
       "      <td>no</td>\n",
       "      <td>page visited on website</td>\n",
       "      <td>not provided</td>\n",
       "      <td>unemployed</td>\n",
       "      <td>no</td>\n",
       "      <td>no</td>\n",
       "      <td>no</td>\n",
       "      <td>no</td>\n",
       "      <td>no</td>\n",
       "      <td>no</td>\n",
       "      <td>no</td>\n",
       "      <td>modified</td>\n",
       "    </tr>\n",
       "    <tr>\n",
       "      <th>1</th>\n",
       "      <td>api</td>\n",
       "      <td>organic search</td>\n",
       "      <td>no</td>\n",
       "      <td>no</td>\n",
       "      <td>email opened</td>\n",
       "      <td>india</td>\n",
       "      <td>unemployed</td>\n",
       "      <td>no</td>\n",
       "      <td>no</td>\n",
       "      <td>no</td>\n",
       "      <td>no</td>\n",
       "      <td>no</td>\n",
       "      <td>no</td>\n",
       "      <td>no</td>\n",
       "      <td>email opened</td>\n",
       "    </tr>\n",
       "    <tr>\n",
       "      <th>2</th>\n",
       "      <td>landing page submission</td>\n",
       "      <td>direct traffic</td>\n",
       "      <td>no</td>\n",
       "      <td>no</td>\n",
       "      <td>email opened</td>\n",
       "      <td>india</td>\n",
       "      <td>student</td>\n",
       "      <td>no</td>\n",
       "      <td>no</td>\n",
       "      <td>no</td>\n",
       "      <td>no</td>\n",
       "      <td>no</td>\n",
       "      <td>no</td>\n",
       "      <td>yes</td>\n",
       "      <td>email opened</td>\n",
       "    </tr>\n",
       "    <tr>\n",
       "      <th>3</th>\n",
       "      <td>landing page submission</td>\n",
       "      <td>direct traffic</td>\n",
       "      <td>no</td>\n",
       "      <td>no</td>\n",
       "      <td>unreachable</td>\n",
       "      <td>india</td>\n",
       "      <td>unemployed</td>\n",
       "      <td>no</td>\n",
       "      <td>no</td>\n",
       "      <td>no</td>\n",
       "      <td>no</td>\n",
       "      <td>no</td>\n",
       "      <td>no</td>\n",
       "      <td>no</td>\n",
       "      <td>modified</td>\n",
       "    </tr>\n",
       "    <tr>\n",
       "      <th>4</th>\n",
       "      <td>landing page submission</td>\n",
       "      <td>google</td>\n",
       "      <td>no</td>\n",
       "      <td>no</td>\n",
       "      <td>converted to lead</td>\n",
       "      <td>india</td>\n",
       "      <td>unemployed</td>\n",
       "      <td>no</td>\n",
       "      <td>no</td>\n",
       "      <td>no</td>\n",
       "      <td>no</td>\n",
       "      <td>no</td>\n",
       "      <td>no</td>\n",
       "      <td>no</td>\n",
       "      <td>modified</td>\n",
       "    </tr>\n",
       "  </tbody>\n",
       "</table>\n",
       "</div>"
      ],
      "text/plain": [
       "               Lead Origin     Lead Source Do Not Email Do Not Call  \\\n",
       "0                      api      olark chat           no          no   \n",
       "1                      api  organic search           no          no   \n",
       "2  landing page submission  direct traffic           no          no   \n",
       "3  landing page submission  direct traffic           no          no   \n",
       "4  landing page submission          google           no          no   \n",
       "\n",
       "             Last Activity       Country What is your current occupation  \\\n",
       "0  page visited on website  not provided                      unemployed   \n",
       "1             email opened         india                      unemployed   \n",
       "2             email opened         india                         student   \n",
       "3              unreachable         india                      unemployed   \n",
       "4        converted to lead         india                      unemployed   \n",
       "\n",
       "  Search Newspaper Article X Education Forums Newspaper Digital Advertisement  \\\n",
       "0     no                no                 no        no                    no   \n",
       "1     no                no                 no        no                    no   \n",
       "2     no                no                 no        no                    no   \n",
       "3     no                no                 no        no                    no   \n",
       "4     no                no                 no        no                    no   \n",
       "\n",
       "  Through Recommendations A free copy of Mastering The Interview  \\\n",
       "0                      no                                     no   \n",
       "1                      no                                     no   \n",
       "2                      no                                    yes   \n",
       "3                      no                                     no   \n",
       "4                      no                                     no   \n",
       "\n",
       "  Last Notable Activity  \n",
       "0              modified  \n",
       "1          email opened  \n",
       "2          email opened  \n",
       "3              modified  \n",
       "4              modified  "
      ]
     },
     "execution_count": 418,
     "metadata": {},
     "output_type": "execute_result"
    }
   ],
   "source": [
    "data1.select_dtypes(include= 'object').head()"
   ]
  },
  {
   "cell_type": "code",
   "execution_count": 419,
   "id": "3fccd45a-8d6b-4cc3-8574-2979bbe0ea8b",
   "metadata": {},
   "outputs": [
    {
     "data": {
      "text/plain": [
       "Index(['Lead Origin', 'Lead Source', 'Do Not Email', 'Do Not Call',\n",
       "       'Last Activity', 'Country', 'What is your current occupation', 'Search',\n",
       "       'Newspaper Article', 'X Education Forums', 'Newspaper',\n",
       "       'Digital Advertisement', 'Through Recommendations',\n",
       "       'A free copy of Mastering The Interview', 'Last Notable Activity'],\n",
       "      dtype='object')"
      ]
     },
     "execution_count": 419,
     "metadata": {},
     "output_type": "execute_result"
    }
   ],
   "source": [
    "data1.select_dtypes(include= 'object').columns"
   ]
  },
  {
   "cell_type": "markdown",
   "id": "ad66d5c7-d188-4e3b-88a8-811ebf959ceb",
   "metadata": {},
   "source": [
    "##### 1 Lead Origin"
   ]
  },
  {
   "cell_type": "code",
   "execution_count": 389,
   "id": "523b1cd2-f429-478e-9585-de15cdc49a13",
   "metadata": {},
   "outputs": [
    {
     "data": {
      "text/plain": [
       "Lead Origin\n",
       "landing page submission    4886\n",
       "api                        3580\n",
       "lead add form               718\n",
       "lead import                  55\n",
       "quick add form                1\n",
       "Name: count, dtype: int64"
      ]
     },
     "execution_count": 389,
     "metadata": {},
     "output_type": "execute_result"
    }
   ],
   "source": [
    "data1['Lead Origin'].value_counts()"
   ]
  },
  {
   "cell_type": "code",
   "execution_count": 410,
   "id": "bdc291e4-926b-4c80-aba3-c961c0935bd3",
   "metadata": {},
   "outputs": [
    {
     "data": {
      "image/png": "[encoded data removed]",
      "text/plain": [
       "<Figure size 700x300 with 1 Axes>"
      ]
     },
     "metadata": {},
     "output_type": "display_data"
    }
   ],
   "source": [
    "plt.figure(figsize=(7,3))\n",
    "sns.countplot(x = \"Lead Origin\", hue = \"Converted\", data = data1, palette='Set1')\n",
    "plt.xticks(rotation = 35)\n",
    "plt.show()"
   ]
  },
  {
   "cell_type": "code",
   "execution_count": 415,
   "id": "5024b0a4-5834-41ca-8b84-eb7c9e7f073e",
   "metadata": {},
   "outputs": [
    {
     "data": {
      "text/plain": [
       "Lead Origin              Converted\n",
       "api                      0            0.688547\n",
       "                         1            0.311453\n",
       "landing page submission  0            0.638150\n",
       "                         1            0.361850\n",
       "lead add form            1            0.924791\n",
       "                         0            0.075209\n",
       "lead import              0            0.763636\n",
       "                         1            0.236364\n",
       "quick add form           1            1.000000\n",
       "Name: proportion, dtype: float64"
      ]
     },
     "execution_count": 415,
     "metadata": {},
     "output_type": "execute_result"
    }
   ],
   "source": [
    "data1.groupby('Lead Origin')['Converted'].value_counts(normalize=True)"
   ]
  },
  {
   "cell_type": "markdown",
   "id": "c4aa6bc8-d81a-4d83-9ce3-fc5660ff894a",
   "metadata": {},
   "source": [
    "##### 'API' and 'Landing Page Submission' have 31-36% conversion rate and high leads count.\n",
    "##### Lead Add Form has 92% conversion rate but low lead count.\n",
    "##### Lead Import are negligble count.\n"
   ]
  },
  {
   "cell_type": "markdown",
   "id": "f618bdd9-3cb8-4435-aaec-f1f90753a6d2",
   "metadata": {},
   "source": [
    "##### 2 Lead Source"
   ]
  },
  {
   "cell_type": "code",
   "execution_count": 423,
   "id": "d6204a22-41eb-4b85-9614-1bb9bcf9ed07",
   "metadata": {},
   "outputs": [
    {
     "data": {
      "text/plain": [
       "Lead Source\n",
       "google               2909\n",
       "direct traffic       2543\n",
       "olark chat           1755\n",
       "organic search       1154\n",
       "reference             534\n",
       "welingak website      142\n",
       "referral sites        125\n",
       "facebook               55\n",
       "bing                    6\n",
       "click2call              4\n",
       "social media            2\n",
       "live chat               2\n",
       "press_release           2\n",
       "pay per click ads       1\n",
       "blog                    1\n",
       "welearn                 1\n",
       "welearnblog_home        1\n",
       "youtubechannel          1\n",
       "testone                 1\n",
       "nc_edm                  1\n",
       "Name: count, dtype: int64"
      ]
     },
     "execution_count": 423,
     "metadata": {},
     "output_type": "execute_result"
    }
   ],
   "source": [
    "data1['Lead Source'].value_counts()"
   ]
  },
  {
   "cell_type": "code",
   "execution_count": 425,
   "id": "4f2c48f3-2024-4055-9a9c-a6df907c5534",
   "metadata": {},
   "outputs": [],
   "source": [
    "# As there are too many low count Sources, we'll be creating a new category 'Others' for them.\n",
    "#data1['Lead Source'] = data1['Lead Source'].replace(['Click2call', 'Live Chat', 'NC_EDM', 'Pay per Click Ads', 'Press_Release','Social Media', 'WeLearn', 'bing', 'blog', 'testone', 'welearnblog_Home', 'youtubechannel'], 'Others')\n",
    "data1['Lead Source'] = data1['Lead Source'].apply(lambda x: x if ((x== 'google') | (x=='direct traffic') | (x=='olark chat') |  (x=='organic search') | (x=='reference') | (x=='welingak website') | (x=='referral sites') | (x=='referral sites') | (x=='facebook'))else 'Others') "
   ]
  },
  {
   "cell_type": "code",
   "execution_count": 434,
   "id": "1d818e69-998d-40fb-bc71-4d47ae4b95f5",
   "metadata": {},
   "outputs": [
    {
     "data": {
      "image/png": "[encoded data removed]",
      "text/plain": [
       "<Figure size 1100x400 with 1 Axes>"
      ]
     },
     "metadata": {},
     "output_type": "display_data"
    }
   ],
   "source": [
    "plt.figure(figsize=(11,4))\n",
    "sns.countplot(x = \"Lead Source\", hue = \"Converted\", data = data1, palette='Set1')\n",
    "plt.xticks(rotation = 75)\n",
    "plt.show()"
   ]
  },
  {
   "cell_type": "code",
   "execution_count": 427,
   "id": "59ccb4cf-a36e-4db5-9d92-92c6fe56abe3",
   "metadata": {},
   "outputs": [
    {
     "data": {
      "text/plain": [
       "Lead Source       Converted\n",
       "Others            0            0.717949\n",
       "                  1            0.282051\n",
       "direct traffic    0            0.678333\n",
       "                  1            0.321667\n",
       "google            0            0.595737\n",
       "                  1            0.404263\n",
       "olark chat        0            0.744729\n",
       "                  1            0.255271\n",
       "organic search    0            0.622184\n",
       "                  1            0.377816\n",
       "reference         1            0.917603\n",
       "                  0            0.082397\n",
       "referral sites    0            0.752000\n",
       "                  1            0.248000\n",
       "welingak website  1            0.985915\n",
       "                  0            0.014085\n",
       "Name: proportion, dtype: float64"
      ]
     },
     "execution_count": 427,
     "metadata": {},
     "output_type": "execute_result"
    }
   ],
   "source": [
    "data1.groupby('Lead Source')['Converted'].value_counts(normalize=True)"
   ]
  },
  {
   "cell_type": "markdown",
   "id": "c31458a7-ed5b-432a-81e3-ba818c6cbaa1",
   "metadata": {},
   "source": [
    "##### Google, Direct traffic and olark chat generates maximum number of leads, and should be focused for improving the lead conversion rate.\n",
    "##### Reference and Welingak website have the highest conversion rate but low leads count."
   ]
  },
  {
   "cell_type": "markdown",
   "id": "f5d2ac95-1145-451c-8230-6342d44be93a",
   "metadata": {},
   "source": [
    "##### 3 'Do Not Email', 'Do Not Call'"
   ]
  },
  {
   "cell_type": "code",
   "execution_count": 443,
   "id": "dd1a1c4b-d8c3-4def-a8c4-09ddbf75edbd",
   "metadata": {},
   "outputs": [
    {
     "data": {
      "image/png": "[encoded data removed]",
      "text/plain": [
       "<Figure size 900x400 with 2 Axes>"
      ]
     },
     "metadata": {},
     "output_type": "display_data"
    }
   ],
   "source": [
    "# Create a figure with two subplots side by side\n",
    "fig, axes = plt.subplots(1, 2, figsize=(9, 4))\n",
    "\n",
    "# Plot 1: Do Not Email\n",
    "sns.countplot(x=\"Do Not Email\", hue=\"Converted\", data=data1, palette='Set1', ax=axes[0])\n",
    "axes[0].set_title('Do Not Email vs Converted')\n",
    "\n",
    "# Plot 2: Do Not Call\n",
    "sns.countplot(x=\"Do Not Call\", hue=\"Converted\", data=data1, palette='Set1', ax=axes[1])\n",
    "axes[1].set_title('Do Not Call vs Converted')\n",
    "\n",
    "plt.tight_layout()\n",
    "plt.show()"
   ]
  },
  {
   "cell_type": "markdown",
   "id": "70abcc0e-527d-4309-b942-d0d0ebdf05b0",
   "metadata": {},
   "source": [
    "These two columns appear to be insignificant. 'Do Not Call' can be dropped."
   ]
  },
  {
   "cell_type": "code",
   "execution_count": 449,
   "id": "11b25228-4ac3-4931-9102-dda381983acf",
   "metadata": {},
   "outputs": [],
   "source": [
    "data2= data1.drop('Do Not Call', axis=1)"
   ]
  },
  {
   "cell_type": "code",
   "execution_count": 450,
   "id": "38c97f51-e745-4344-a3a8-e684f8b8eeec",
   "metadata": {},
   "outputs": [
    {
     "data": {
      "text/plain": [
       "(9240, 18)"
      ]
     },
     "execution_count": 450,
     "metadata": {},
     "output_type": "execute_result"
    }
   ],
   "source": [
    "data2.shape"
   ]
  },
  {
   "cell_type": "markdown",
   "id": "5316eefc-d38a-4b3c-a8ee-57e279f52368",
   "metadata": {},
   "source": [
    "##### 4 Last Activity"
   ]
  },
  {
   "cell_type": "code",
   "execution_count": 453,
   "id": "bf9414ce-29d3-4849-b535-e049f3c28b47",
   "metadata": {},
   "outputs": [
    {
     "data": {
      "text/plain": [
       "Last Activity\n",
       "email opened                    3540\n",
       "sms sent                        2745\n",
       "olark chat conversation          973\n",
       "page visited on website          640\n",
       "converted to lead                428\n",
       "email bounced                    326\n",
       "email link clicked               267\n",
       "form submitted on website        116\n",
       "unreachable                       93\n",
       "unsubscribed                      61\n",
       "had a phone conversation          30\n",
       "approached upfront                 9\n",
       "view in browser link clicked       6\n",
       "email received                     2\n",
       "email marked spam                  2\n",
       "visited booth in tradeshow         1\n",
       "resubscribed to emails             1\n",
       "Name: count, dtype: int64"
      ]
     },
     "execution_count": 453,
     "metadata": {},
     "output_type": "execute_result"
    }
   ],
   "source": [
    "data2['Last Activity'].value_counts()"
   ]
  },
  {
   "cell_type": "code",
   "execution_count": 458,
   "id": "096e6f9c-31a7-409a-911f-9e7ba1786814",
   "metadata": {},
   "outputs": [],
   "source": [
    "data2['Last Activity'] = data2['Last Activity'].replace(['unsubscribed',\n",
    "                                                        'had a phone conversation', \n",
    "                                                        'approached upfront',\n",
    "                                                        'view in browser link clicked',       \n",
    "                                                        'email marked spam',                  \n",
    "                                                        'email received','resubscribed to emails',\n",
    "                                                         'visited booth in tradeshow'],'Others')"
   ]
  },
  {
   "cell_type": "code",
   "execution_count": 459,
   "id": "caeeb3ad-85db-4f83-aadf-678ddf70686b",
   "metadata": {},
   "outputs": [
    {
     "data": {
      "image/png": "[encoded data removed]",
      "text/plain": [
       "<Figure size 1100x400 with 1 Axes>"
      ]
     },
     "metadata": {},
     "output_type": "display_data"
    }
   ],
   "source": [
    "plt.figure(figsize=(11,4))\n",
    "sns.countplot(x = \"Last Activity\", hue = \"Converted\", data = data2, palette='Set1')\n",
    "plt.xticks(rotation = 75)\n",
    "plt.show()"
   ]
  },
  {
   "cell_type": "code",
   "execution_count": 460,
   "id": "d8b17b3b-bf70-4370-8282-27f756fd30b5",
   "metadata": {},
   "outputs": [
    {
     "data": {
      "text/plain": [
       "Last Activity              Converted\n",
       "Others                     0            0.526786\n",
       "                           1            0.473214\n",
       "converted to lead          0            0.873832\n",
       "                           1            0.126168\n",
       "email bounced              0            0.920245\n",
       "                           1            0.079755\n",
       "email link clicked         0            0.726592\n",
       "                           1            0.273408\n",
       "email opened               0            0.623164\n",
       "                           1            0.376836\n",
       "form submitted on website  0            0.758621\n",
       "                           1            0.241379\n",
       "olark chat conversation    0            0.913669\n",
       "                           1            0.086331\n",
       "page visited on website    0            0.764062\n",
       "                           1            0.235937\n",
       "sms sent                   1            0.629144\n",
       "                           0            0.370856\n",
       "unreachable                0            0.666667\n",
       "                           1            0.333333\n",
       "Name: proportion, dtype: float64"
      ]
     },
     "execution_count": 460,
     "metadata": {},
     "output_type": "execute_result"
    }
   ],
   "source": [
    "data2.groupby('Last Activity')['Converted'].value_counts(normalize=True)"
   ]
  },
  {
   "cell_type": "markdown",
   "id": "42b18ef4-b9ee-40dc-a2ee-720d17b517fb",
   "metadata": {},
   "source": [
    "##### 'Email opened' and 'sms sent' are the two  most frequent last activity.\n",
    "##### olark chat conversation, 'email bounced' and 'page visited on website' have one of the lowest coversion rate with decent counts."
   ]
  },
  {
   "cell_type": "markdown",
   "id": "0356dc8a-a0a3-4490-a0f1-cbf1f501a76d",
   "metadata": {},
   "source": [
    "##### 5 Country"
   ]
  },
  {
   "cell_type": "code",
   "execution_count": 463,
   "id": "c4a281ce-4ae9-4d6b-abf9-26b14fe562f0",
   "metadata": {},
   "outputs": [
    {
     "data": {
      "text/plain": [
       "Country\n",
       "india            6492\n",
       "not provided     2461\n",
       "outside india     287\n",
       "Name: count, dtype: int64"
      ]
     },
     "execution_count": 463,
     "metadata": {},
     "output_type": "execute_result"
    }
   ],
   "source": [
    "data2['Country'].value_counts()"
   ]
  },
  {
   "cell_type": "code",
   "execution_count": 466,
   "id": "1d6e37ec-bd52-42bf-adac-2b2ac8d17046",
   "metadata": {},
   "outputs": [
    {
     "data": {
      "image/png": "[encoded data removed]",
      "text/plain": [
       "<Figure size 500x200 with 1 Axes>"
      ]
     },
     "metadata": {},
     "output_type": "display_data"
    }
   ],
   "source": [
    "plt.figure(figsize=(5,2))\n",
    "sns.countplot(x = \"Country\", hue = \"Converted\", data = data2, palette='Set1')\n",
    "plt.xticks(rotation = 75)\n",
    "plt.show()"
   ]
  },
  {
   "cell_type": "code",
   "execution_count": 467,
   "id": "962fa428-8c8d-4137-8f08-315efc3273ce",
   "metadata": {},
   "outputs": [
    {
     "data": {
      "text/plain": [
       "Country        Converted\n",
       "india          0            0.630160\n",
       "               1            0.369840\n",
       "not provided   0            0.562779\n",
       "               1            0.437221\n",
       "outside india  0            0.707317\n",
       "               1            0.292683\n",
       "Name: proportion, dtype: float64"
      ]
     },
     "execution_count": 467,
     "metadata": {},
     "output_type": "execute_result"
    }
   ],
   "source": [
    "data2.groupby('Country')['Converted'].value_counts(normalize=True)"
   ]
  },
  {
   "cell_type": "markdown",
   "id": "6346499e-c3f4-48b0-a92d-afdc6c7634dc",
   "metadata": {},
   "source": [
    "##### India has the highest number of leads.lead conversion drops slighly for non-indian leads.\n",
    "##### Leads whose country are not provided has higher conversion rate."
   ]
  },
  {
   "cell_type": "markdown",
   "id": "9734d1c9-0f94-4816-8515-17dfb6abc1d9",
   "metadata": {},
   "source": [
    "##### 6  What is your current occupation"
   ]
  },
  {
   "cell_type": "code",
   "execution_count": 468,
   "id": "5447422c-52e9-4d32-8660-a3d40319d38f",
   "metadata": {},
   "outputs": [
    {
     "data": {
      "text/plain": [
       "What is your current occupation\n",
       "unemployed              7913\n",
       "working professional     983\n",
       "student                  300\n",
       "others                    44\n",
       "Name: count, dtype: int64"
      ]
     },
     "execution_count": 468,
     "metadata": {},
     "output_type": "execute_result"
    }
   ],
   "source": [
    "data2['What is your current occupation'].value_counts()"
   ]
  },
  {
   "cell_type": "code",
   "execution_count": 471,
   "id": "20703a53-1bc3-427a-9f66-6e6785a9fa13",
   "metadata": {},
   "outputs": [
    {
     "data": {
      "image/png": "[encoded data removed]",
      "text/plain": [
       "<Figure size 700x300 with 1 Axes>"
      ]
     },
     "metadata": {},
     "output_type": "display_data"
    }
   ],
   "source": [
    "plt.figure(figsize=(7,3))\n",
    "sns.countplot(x = 'What is your current occupation', hue = \"Converted\", data = data2, palette='Set1')\n",
    "plt.xticks(rotation = 75)\n",
    "plt.show()"
   ]
  },
  {
   "cell_type": "markdown",
   "id": "a1601aa1-eeb4-4815-9c11-cdcbcae88d90",
   "metadata": {},
   "source": [
    "##### Most of the leads are unemployed but working professionals have far higher conversion rate. "
   ]
  },
  {
   "cell_type": "markdown",
   "id": "8d918586-7074-4163-8296-5b51fe46e5ce",
   "metadata": {},
   "source": [
    "##### 7 Search"
   ]
  },
  {
   "cell_type": "code",
   "execution_count": 477,
   "id": "25fabc22-3b79-4c38-a481-3a42b501ca6c",
   "metadata": {},
   "outputs": [
    {
     "data": {
      "text/plain": [
       "Search\n",
       "no     9226\n",
       "yes      14\n",
       "Name: count, dtype: int64"
      ]
     },
     "execution_count": 477,
     "metadata": {},
     "output_type": "execute_result"
    }
   ],
   "source": [
    "data2.Search.value_counts()"
   ]
  },
  {
   "cell_type": "markdown",
   "id": "69deef20-5fca-45b4-bfd0-6b0a78ec984d",
   "metadata": {},
   "source": [
    "It is having heavy data imbalance and hence is insignificant and we can drop this."
   ]
  },
  {
   "cell_type": "code",
   "execution_count": 478,
   "id": "c08c00c8-78b3-4fc7-b5e1-5ed925778d94",
   "metadata": {},
   "outputs": [],
   "source": [
    "data2.drop('Search', axis=1, inplace= True)"
   ]
  },
  {
   "cell_type": "code",
   "execution_count": 479,
   "id": "34e5227d-3daa-4cf6-a601-839a5c82b2c2",
   "metadata": {},
   "outputs": [
    {
     "data": {
      "text/plain": [
       "(9240, 17)"
      ]
     },
     "execution_count": 479,
     "metadata": {},
     "output_type": "execute_result"
    }
   ],
   "source": [
    "data2.shape"
   ]
  },
  {
   "cell_type": "markdown",
   "id": "8d11314a-37ab-4577-93f8-3092033d8dff",
   "metadata": {},
   "source": [
    "##### 8 Newspaper Article"
   ]
  },
  {
   "cell_type": "code",
   "execution_count": 480,
   "id": "7af3582f-66b8-40c7-8ed8-468f5768aa51",
   "metadata": {},
   "outputs": [
    {
     "data": {
      "text/plain": [
       "Newspaper Article\n",
       "no     9238\n",
       "yes       2\n",
       "Name: count, dtype: int64"
      ]
     },
     "execution_count": 480,
     "metadata": {},
     "output_type": "execute_result"
    }
   ],
   "source": [
    "data2['Newspaper Article'].value_counts()"
   ]
  },
  {
   "cell_type": "markdown",
   "id": "d405aa48-bac1-40e7-bfd4-b5bb1a46a951",
   "metadata": {},
   "source": [
    "It is having heavy data imbalance and hence is insignificant and we can drop this."
   ]
  },
  {
   "cell_type": "code",
   "execution_count": 481,
   "id": "87df6329-b8ac-474c-b87a-474d79847db3",
   "metadata": {},
   "outputs": [],
   "source": [
    "data2.drop('Newspaper Article', axis=1, inplace= True)"
   ]
  },
  {
   "cell_type": "code",
   "execution_count": 482,
   "id": "47e0ba8c-e7e0-474a-81cb-01b802d31491",
   "metadata": {},
   "outputs": [
    {
     "data": {
      "text/plain": [
       "(9240, 16)"
      ]
     },
     "execution_count": 482,
     "metadata": {},
     "output_type": "execute_result"
    }
   ],
   "source": [
    "data2.shape"
   ]
  },
  {
   "cell_type": "markdown",
   "id": "a68a682d-d69c-4919-827c-9dfc6ee990f0",
   "metadata": {},
   "source": [
    "##### 9 X Education Forums"
   ]
  },
  {
   "cell_type": "code",
   "execution_count": 483,
   "id": "2e7b3879-f5bb-44b9-a7e6-f568653a1989",
   "metadata": {},
   "outputs": [
    {
     "data": {
      "text/plain": [
       "X Education Forums\n",
       "no     9239\n",
       "yes       1\n",
       "Name: count, dtype: int64"
      ]
     },
     "execution_count": 483,
     "metadata": {},
     "output_type": "execute_result"
    }
   ],
   "source": [
    "data2['X Education Forums'].value_counts()"
   ]
  },
  {
   "cell_type": "markdown",
   "id": "4bb7eb24-dc12-4689-861c-287e87b4756f",
   "metadata": {},
   "source": [
    "It is having heavy data imbalance and hence is insignificant and we can drop this."
   ]
  },
  {
   "cell_type": "code",
   "execution_count": 484,
   "id": "b31e5b5b-4926-42d1-985b-f7031bc3a5ad",
   "metadata": {},
   "outputs": [],
   "source": [
    "data2.drop('X Education Forums', axis=1, inplace= True)"
   ]
  },
  {
   "cell_type": "code",
   "execution_count": 485,
   "id": "266b293f-a6a2-4259-a15f-acf562e71d9b",
   "metadata": {},
   "outputs": [
    {
     "data": {
      "text/plain": [
       "(9240, 15)"
      ]
     },
     "execution_count": 485,
     "metadata": {},
     "output_type": "execute_result"
    }
   ],
   "source": [
    "data2.shape"
   ]
  },
  {
   "cell_type": "markdown",
   "id": "16e433f2-e304-459b-ab07-fcb034ce4b53",
   "metadata": {},
   "source": [
    "##### 10 Newspaper"
   ]
  },
  {
   "cell_type": "code",
   "execution_count": 486,
   "id": "ccf7e5fa-e024-47ef-8631-2667affb5c94",
   "metadata": {},
   "outputs": [
    {
     "data": {
      "text/plain": [
       "Newspaper\n",
       "no     9239\n",
       "yes       1\n",
       "Name: count, dtype: int64"
      ]
     },
     "execution_count": 486,
     "metadata": {},
     "output_type": "execute_result"
    }
   ],
   "source": [
    "data2['Newspaper'].value_counts()"
   ]
  },
  {
   "cell_type": "markdown",
   "id": "b17a98ee-c778-44a1-8850-fe10ff7c8e8c",
   "metadata": {},
   "source": [
    "It is having heavy data imbalance and hence is insignificant and we can drop this."
   ]
  },
  {
   "cell_type": "code",
   "execution_count": 488,
   "id": "cb504ce8-ecca-4bb4-9503-17da7bb2da42",
   "metadata": {},
   "outputs": [],
   "source": [
    "data2.drop('Newspaper', axis=1, inplace= True)"
   ]
  },
  {
   "cell_type": "code",
   "execution_count": 489,
   "id": "7907b68d-76a9-4937-98d3-e41b2423c0f1",
   "metadata": {},
   "outputs": [
    {
     "data": {
      "text/plain": [
       "(9240, 14)"
      ]
     },
     "execution_count": 489,
     "metadata": {},
     "output_type": "execute_result"
    }
   ],
   "source": [
    "data2.shape"
   ]
  },
  {
   "cell_type": "markdown",
   "id": "25f2f93d-84b7-4c8a-995e-6ba372a8d480",
   "metadata": {},
   "source": [
    "##### 11 Digital Advertisement"
   ]
  },
  {
   "cell_type": "code",
   "execution_count": 491,
   "id": "69d40fe2-b965-4320-952e-9b3172776ca2",
   "metadata": {},
   "outputs": [
    {
     "data": {
      "text/plain": [
       "Digital Advertisement\n",
       "no     9236\n",
       "yes       4\n",
       "Name: count, dtype: int64"
      ]
     },
     "execution_count": 491,
     "metadata": {},
     "output_type": "execute_result"
    }
   ],
   "source": [
    "data2['Digital Advertisement'].value_counts()"
   ]
  },
  {
   "cell_type": "markdown",
   "id": "8d1da1e8-19fc-413b-b294-c4f94abec39d",
   "metadata": {},
   "source": [
    "It is having heavy data imbalance and hence is insignificant and we can drop this."
   ]
  },
  {
   "cell_type": "code",
   "execution_count": 492,
   "id": "35927107-bafe-4c30-b352-04819d2a4760",
   "metadata": {},
   "outputs": [],
   "source": [
    "data2.drop('Digital Advertisement', axis=1, inplace= True)"
   ]
  },
  {
   "cell_type": "code",
   "execution_count": 493,
   "id": "fc201791-07a4-4795-aaac-b8946e5d4345",
   "metadata": {},
   "outputs": [
    {
     "data": {
      "text/plain": [
       "(9240, 13)"
      ]
     },
     "execution_count": 493,
     "metadata": {},
     "output_type": "execute_result"
    }
   ],
   "source": [
    "data2.shape"
   ]
  },
  {
   "cell_type": "markdown",
   "id": "44add4fe-21d9-4bcf-838e-af70dd8d5ba9",
   "metadata": {},
   "source": [
    "##### 12 Through Recommendations"
   ]
  },
  {
   "cell_type": "code",
   "execution_count": 494,
   "id": "56b997a4-57e7-45a2-a871-59b279dd770b",
   "metadata": {},
   "outputs": [
    {
     "data": {
      "text/plain": [
       "Through Recommendations\n",
       "no     9233\n",
       "yes       7\n",
       "Name: count, dtype: int64"
      ]
     },
     "execution_count": 494,
     "metadata": {},
     "output_type": "execute_result"
    }
   ],
   "source": [
    "data2['Through Recommendations'].value_counts()"
   ]
  },
  {
   "cell_type": "markdown",
   "id": "a8efcf00-7c66-466a-af55-0becd5909669",
   "metadata": {},
   "source": [
    "It is having heavy data imbalance and hence is insignificant and we can drop this."
   ]
  },
  {
   "cell_type": "code",
   "execution_count": 495,
   "id": "f520d460-da8c-4af8-8022-8c25a747f78d",
   "metadata": {},
   "outputs": [],
   "source": [
    "data2.drop('Through Recommendations', axis=1, inplace= True)"
   ]
  },
  {
   "cell_type": "code",
   "execution_count": 496,
   "id": "579a05a5-7f8e-4890-896c-61a9f466d6a0",
   "metadata": {},
   "outputs": [
    {
     "data": {
      "text/plain": [
       "(9240, 12)"
      ]
     },
     "execution_count": 496,
     "metadata": {},
     "output_type": "execute_result"
    }
   ],
   "source": [
    "data2.shape"
   ]
  },
  {
   "cell_type": "markdown",
   "id": "56c66656-2725-4c5f-995c-ddd72bc2f9a6",
   "metadata": {},
   "source": [
    "##### 13 A free copy of Mastering The Interview"
   ]
  },
  {
   "cell_type": "code",
   "execution_count": 497,
   "id": "b067f0bc-1801-4750-b280-c46b99e2ec96",
   "metadata": {},
   "outputs": [
    {
     "data": {
      "text/plain": [
       "A free copy of Mastering The Interview\n",
       "no     6352\n",
       "yes    2888\n",
       "Name: count, dtype: int64"
      ]
     },
     "execution_count": 497,
     "metadata": {},
     "output_type": "execute_result"
    }
   ],
   "source": [
    "data2['A free copy of Mastering The Interview'].value_counts()"
   ]
  },
  {
   "cell_type": "code",
   "execution_count": 499,
   "id": "819c8e1f-abf5-400c-8479-4cd9c7abca62",
   "metadata": {},
   "outputs": [
    {
     "data": {
      "image/png": "[encoded data removed]",
      "text/plain": [
       "<Figure size 700x300 with 1 Axes>"
      ]
     },
     "metadata": {},
     "output_type": "display_data"
    }
   ],
   "source": [
    "plt.figure(figsize=(7,3))\n",
    "sns.countplot(x = 'A free copy of Mastering The Interview', hue = \"Converted\", data = data2, palette='Set1')\n",
    "plt.xticks(rotation = 75)\n",
    "plt.show()"
   ]
  },
  {
   "cell_type": "markdown",
   "id": "c3db1718-27a0-4ad6-a41a-7c4ca8a16e54",
   "metadata": {},
   "source": [
    "Most of the leads didn't take 'a free copy of mastering the interview'. Nothing more significant."
   ]
  },
  {
   "cell_type": "markdown",
   "id": "fa668e61-c993-4906-9045-7c89c09936f6",
   "metadata": {},
   "source": [
    "##### 14 Last Notable Activity"
   ]
  },
  {
   "cell_type": "code",
   "execution_count": 498,
   "id": "73ea6f17-374f-4c4c-97d3-044ffc364344",
   "metadata": {},
   "outputs": [
    {
     "data": {
      "text/plain": [
       "Last Notable Activity\n",
       "modified                        3407\n",
       "email opened                    2827\n",
       "sms sent                        2172\n",
       "page visited on website          318\n",
       "olark chat conversation          183\n",
       "email link clicked               173\n",
       "email bounced                     60\n",
       "unsubscribed                      47\n",
       "unreachable                       32\n",
       "had a phone conversation          14\n",
       "email marked spam                  2\n",
       "approached upfront                 1\n",
       "resubscribed to emails             1\n",
       "view in browser link clicked       1\n",
       "form submitted on website          1\n",
       "email received                     1\n",
       "Name: count, dtype: int64"
      ]
     },
     "execution_count": 498,
     "metadata": {},
     "output_type": "execute_result"
    }
   ],
   "source": [
    "data2['Last Notable Activity'].value_counts()"
   ]
  },
  {
   "cell_type": "code",
   "execution_count": 512,
   "id": "ce70bbc3-6c18-4203-afe2-5aace924ad3d",
   "metadata": {},
   "outputs": [],
   "source": [
    "data2['Last Notable Activity'] = data2['Last Notable Activity'].replace(['unsubscribed',\n",
    "                                                        'had a phone conversation', \n",
    "                                                        'approached upfront',\n",
    "                                                        'view in browser link clicked',       \n",
    "                                                        'email marked spam',                  \n",
    "                                                        'email received','resubscribed to emails',\n",
    "                                                         'visited booth in tradeshow', 'form submitted on website', 'had a phone conversation', 'unreachable'],'Others')"
   ]
  },
  {
   "cell_type": "code",
   "execution_count": 515,
   "id": "4637891c-b0ed-4a72-a2f8-278b65d4e111",
   "metadata": {},
   "outputs": [
    {
     "data": {
      "image/png": "[encoded data removed]",
      "text/plain": [
       "<Figure size 900x400 with 1 Axes>"
      ]
     },
     "metadata": {},
     "output_type": "display_data"
    }
   ],
   "source": [
    "plt.figure(figsize=(9,4))\n",
    "sns.countplot(x = 'Last Notable Activity', hue = \"Converted\", data = data2, palette='Set1')\n",
    "plt.xticks(rotation = 75)\n",
    "plt.show()"
   ]
  },
  {
   "cell_type": "code",
   "execution_count": 522,
   "id": "ce9d23e0-2b34-473c-9699-cbc44670284f",
   "metadata": {},
   "outputs": [
    {
     "data": {
      "text/html": [
       "<div>\n",
       "<style scoped>\n",
       "    .dataframe tbody tr th:only-of-type {\n",
       "        vertical-align: middle;\n",
       "    }\n",
       "\n",
       "    .dataframe tbody tr th {\n",
       "        vertical-align: top;\n",
       "    }\n",
       "\n",
       "    .dataframe thead th {\n",
       "        text-align: right;\n",
       "    }\n",
       "</style>\n",
       "<table border=\"1\" class=\"dataframe\">\n",
       "  <thead>\n",
       "    <tr style=\"text-align: right;\">\n",
       "      <th>Converted</th>\n",
       "      <th>0</th>\n",
       "      <th>1</th>\n",
       "    </tr>\n",
       "    <tr>\n",
       "      <th>Last Notable Activity</th>\n",
       "      <th></th>\n",
       "      <th></th>\n",
       "    </tr>\n",
       "  </thead>\n",
       "  <tbody>\n",
       "    <tr>\n",
       "      <th>Others</th>\n",
       "      <td>46.000000</td>\n",
       "      <td>54.000000</td>\n",
       "    </tr>\n",
       "    <tr>\n",
       "      <th>email bounced</th>\n",
       "      <td>85.000000</td>\n",
       "      <td>15.000000</td>\n",
       "    </tr>\n",
       "    <tr>\n",
       "      <th>email link clicked</th>\n",
       "      <td>73.988439</td>\n",
       "      <td>26.011561</td>\n",
       "    </tr>\n",
       "    <tr>\n",
       "      <th>email opened</th>\n",
       "      <td>63.070393</td>\n",
       "      <td>36.929607</td>\n",
       "    </tr>\n",
       "    <tr>\n",
       "      <th>modified</th>\n",
       "      <td>77.017904</td>\n",
       "      <td>22.982096</td>\n",
       "    </tr>\n",
       "    <tr>\n",
       "      <th>olark chat conversation</th>\n",
       "      <td>86.338798</td>\n",
       "      <td>13.661202</td>\n",
       "    </tr>\n",
       "    <tr>\n",
       "      <th>page visited on website</th>\n",
       "      <td>70.754717</td>\n",
       "      <td>29.245283</td>\n",
       "    </tr>\n",
       "    <tr>\n",
       "      <th>sms sent</th>\n",
       "      <td>30.570902</td>\n",
       "      <td>69.429098</td>\n",
       "    </tr>\n",
       "  </tbody>\n",
       "</table>\n",
       "</div>"
      ],
      "text/plain": [
       "Converted                        0          1\n",
       "Last Notable Activity                        \n",
       "Others                   46.000000  54.000000\n",
       "email bounced            85.000000  15.000000\n",
       "email link clicked       73.988439  26.011561\n",
       "email opened             63.070393  36.929607\n",
       "modified                 77.017904  22.982096\n",
       "olark chat conversation  86.338798  13.661202\n",
       "page visited on website  70.754717  29.245283\n",
       "sms sent                 30.570902  69.429098"
      ]
     },
     "execution_count": 522,
     "metadata": {},
     "output_type": "execute_result"
    }
   ],
   "source": [
    "pivot_table = (\n",
    "    data2.groupby('Last Notable Activity')['Converted'].value_counts(normalize=True).mul(100).rename('Percentage').reset_index()\n",
    "    .pivot_table(index='Last Notable Activity', columns='Converted', values='Percentage', fill_value=0)\n",
    ")\n",
    "pivot_table"
   ]
  },
  {
   "cell_type": "markdown",
   "id": "3f92bf23-edb9-42be-94c0-06a2bf2d55b5",
   "metadata": {},
   "source": [
    "##### 'modified', 'email opened' and 'sms sent' have the highest counts.\n",
    "##### 'olark chat conversation' 'email bounced' again have lowest conversion rate and 'sms sent' have the best conversion rate."
   ]
  },
  {
   "cell_type": "code",
   "execution_count": 524,
   "id": "4d4c0fdd-c4d0-4766-b33a-1e0634d69515",
   "metadata": {},
   "outputs": [
    {
     "name": "stdout",
     "output_type": "stream",
     "text": [
      "<class 'pandas.core.frame.DataFrame'>\n",
      "RangeIndex: 9240 entries, 0 to 9239\n",
      "Data columns (total 12 columns):\n",
      " #   Column                                  Non-Null Count  Dtype  \n",
      "---  ------                                  --------------  -----  \n",
      " 0   Lead Origin                             9240 non-null   object \n",
      " 1   Lead Source                             9240 non-null   object \n",
      " 2   Do Not Email                            9240 non-null   object \n",
      " 3   Converted                               9240 non-null   int64  \n",
      " 4   TotalVisits                             9240 non-null   float64\n",
      " 5   Total Time Spent on Website             9240 non-null   int64  \n",
      " 6   Page Views Per Visit                    9240 non-null   float64\n",
      " 7   Last Activity                           9240 non-null   object \n",
      " 8   Country                                 9240 non-null   object \n",
      " 9   What is your current occupation         9240 non-null   object \n",
      " 10  A free copy of Mastering The Interview  9240 non-null   object \n",
      " 11  Last Notable Activity                   9240 non-null   object \n",
      "dtypes: float64(2), int64(2), object(8)\n",
      "memory usage: 866.4+ KB\n"
     ]
    }
   ],
   "source": [
    "data2.info()"
   ]
  },
  {
   "cell_type": "markdown",
   "id": "0c64178c-6639-4576-b858-488ce9144505",
   "metadata": {},
   "source": [
    "#### Now checking the Numerical columns"
   ]
  },
  {
   "cell_type": "code",
   "execution_count": 527,
   "id": "7c079e54-cfe0-4139-8c46-94feb4e13843",
   "metadata": {},
   "outputs": [
    {
     "data": {
      "text/html": [
       "<div>\n",
       "<style scoped>\n",
       "    .dataframe tbody tr th:only-of-type {\n",
       "        vertical-align: middle;\n",
       "    }\n",
       "\n",
       "    .dataframe tbody tr th {\n",
       "        vertical-align: top;\n",
       "    }\n",
       "\n",
       "    .dataframe thead th {\n",
       "        text-align: right;\n",
       "    }\n",
       "</style>\n",
       "<table border=\"1\" class=\"dataframe\">\n",
       "  <thead>\n",
       "    <tr style=\"text-align: right;\">\n",
       "      <th></th>\n",
       "      <th>Converted</th>\n",
       "      <th>TotalVisits</th>\n",
       "      <th>Total Time Spent on Website</th>\n",
       "      <th>Page Views Per Visit</th>\n",
       "    </tr>\n",
       "  </thead>\n",
       "  <tbody>\n",
       "    <tr>\n",
       "      <th>6594</th>\n",
       "      <td>0</td>\n",
       "      <td>0.0</td>\n",
       "      <td>0</td>\n",
       "      <td>0.0</td>\n",
       "    </tr>\n",
       "    <tr>\n",
       "      <th>8751</th>\n",
       "      <td>0</td>\n",
       "      <td>4.0</td>\n",
       "      <td>74</td>\n",
       "      <td>4.0</td>\n",
       "    </tr>\n",
       "    <tr>\n",
       "      <th>6764</th>\n",
       "      <td>0</td>\n",
       "      <td>0.0</td>\n",
       "      <td>0</td>\n",
       "      <td>0.0</td>\n",
       "    </tr>\n",
       "    <tr>\n",
       "      <th>1052</th>\n",
       "      <td>1</td>\n",
       "      <td>3.0</td>\n",
       "      <td>1451</td>\n",
       "      <td>3.0</td>\n",
       "    </tr>\n",
       "    <tr>\n",
       "      <th>6938</th>\n",
       "      <td>0</td>\n",
       "      <td>6.0</td>\n",
       "      <td>24</td>\n",
       "      <td>6.0</td>\n",
       "    </tr>\n",
       "    <tr>\n",
       "      <th>2604</th>\n",
       "      <td>0</td>\n",
       "      <td>5.0</td>\n",
       "      <td>0</td>\n",
       "      <td>2.5</td>\n",
       "    </tr>\n",
       "  </tbody>\n",
       "</table>\n",
       "</div>"
      ],
      "text/plain": [
       "      Converted  TotalVisits  Total Time Spent on Website  \\\n",
       "6594          0          0.0                            0   \n",
       "8751          0          4.0                           74   \n",
       "6764          0          0.0                            0   \n",
       "1052          1          3.0                         1451   \n",
       "6938          0          6.0                           24   \n",
       "2604          0          5.0                            0   \n",
       "\n",
       "      Page Views Per Visit  \n",
       "6594                   0.0  \n",
       "8751                   4.0  \n",
       "6764                   0.0  \n",
       "1052                   3.0  \n",
       "6938                   6.0  \n",
       "2604                   2.5  "
      ]
     },
     "execution_count": 527,
     "metadata": {},
     "output_type": "execute_result"
    }
   ],
   "source": [
    "data2.select_dtypes(include= ['int64', 'float64']).sample(6)"
   ]
  },
  {
   "cell_type": "code",
   "execution_count": 530,
   "id": "5f579a40-fa44-4a91-9106-b68655878718",
   "metadata": {},
   "outputs": [],
   "source": [
    "# Convert 'Last Activity' to integer datatype as total number of visits will always be a whole number\n",
    "data2['TotalVisits'] = data2['TotalVisits'].astype('int')"
   ]
  },
  {
   "cell_type": "markdown",
   "id": "1122d934-d140-487c-99cd-5b60479ce82b",
   "metadata": {},
   "source": [
    "##### 1 TotalVisits"
   ]
  },
  {
   "cell_type": "code",
   "execution_count": 531,
   "id": "ae664d38-ab51-40dc-a72e-f35fc06a7d4e",
   "metadata": {},
   "outputs": [
    {
     "data": {
      "text/plain": [
       "count    9240.000000\n",
       "mean        3.394156\n",
       "std         4.836682\n",
       "min         0.000000\n",
       "5%          0.000000\n",
       "25%         0.000000\n",
       "50%         3.000000\n",
       "75%         5.000000\n",
       "90%         7.000000\n",
       "95%        10.000000\n",
       "99%        17.000000\n",
       "max       251.000000\n",
       "Name: TotalVisits, dtype: float64"
      ]
     },
     "execution_count": 531,
     "metadata": {},
     "output_type": "execute_result"
    }
   ],
   "source": [
    "data2['TotalVisits'].describe(percentiles=[0.05,.25, .5, .75, .90, .95, .99])"
   ]
  },
  {
   "cell_type": "code",
   "execution_count": 545,
   "id": "68bf2b69-21f0-43f3-adb6-8fdb71c8edde",
   "metadata": {},
   "outputs": [
    {
     "data": {
      "image/png": "[encoded data removed]",
      "text/plain": [
       "<Figure size 640x480 with 1 Axes>"
      ]
     },
     "metadata": {},
     "output_type": "display_data"
    }
   ],
   "source": [
    "# Checking for outliers\n",
    "sns.boxplot(data2['TotalVisits'],orient='vert')\n",
    "plt.show()"
   ]
  },
  {
   "cell_type": "code",
   "execution_count": 548,
   "id": "e6871124-d723-4a63-b40f-7d50c9892179",
   "metadata": {},
   "outputs": [],
   "source": [
    "percentiles = data2['TotalVisits'].quantile([0.05,0.95]).values\n",
    "data2['TotalVisits'][data2['TotalVisits'] <= percentiles[0]] = percentiles[0]\n",
    "data2['TotalVisits'][data2['TotalVisits'] >= percentiles[1]] = percentiles[1]"
   ]
  },
  {
   "cell_type": "code",
   "execution_count": 549,
   "id": "b98abd98-1a88-4c22-820a-fa40dea0593b",
   "metadata": {},
   "outputs": [
    {
     "data": {
      "text/plain": [
       "<Axes: ylabel='TotalVisits'>"
      ]
     },
     "execution_count": 549,
     "metadata": {},
     "output_type": "execute_result"
    },
    {
     "data": {
      "image/png": "[encoded data removed]",
      "text/plain": [
       "<Figure size 640x480 with 1 Axes>"
      ]
     },
     "metadata": {},
     "output_type": "display_data"
    }
   ],
   "source": [
    "# Visualizing once again\n",
    "sns.boxplot(data2['TotalVisits'],orient='vert')"
   ]
  },
  {
   "cell_type": "code",
   "execution_count": 551,
   "id": "ddd3ba3a-ea29-4ce6-aa72-5aedc07ba6d6",
   "metadata": {},
   "outputs": [
    {
     "data": {
      "image/png": "[encoded data removed]",
      "text/plain": [
       "<Figure size 640x480 with 1 Axes>"
      ]
     },
     "metadata": {},
     "output_type": "display_data"
    }
   ],
   "source": [
    "sns.boxplot(y = 'TotalVisits', x = 'Converted', data = data2)\n",
    "plt.show()"
   ]
  },
  {
   "cell_type": "markdown",
   "id": "0f1445d1-f1d2-41da-8b11-89a412e48dae",
   "metadata": {},
   "source": [
    "Median for converted and not converted leads are the same."
   ]
  },
  {
   "cell_type": "markdown",
   "id": "0cbcb5ef-b4a3-4d1e-b309-1fbde46026f4",
   "metadata": {},
   "source": [
    "##### 2 Total Time Spent on Website"
   ]
  },
  {
   "cell_type": "code",
   "execution_count": 552,
   "id": "d2a1c135-bede-49e1-9075-dcf4889d2c4a",
   "metadata": {},
   "outputs": [
    {
     "data": {
      "text/plain": [
       "count    9240.000000\n",
       "mean      487.698268\n",
       "std       548.021466\n",
       "min         0.000000\n",
       "25%        12.000000\n",
       "50%       248.000000\n",
       "75%       936.000000\n",
       "max      2272.000000\n",
       "Name: Total Time Spent on Website, dtype: float64"
      ]
     },
     "execution_count": 552,
     "metadata": {},
     "output_type": "execute_result"
    }
   ],
   "source": [
    "data2['Total Time Spent on Website'].describe()"
   ]
  },
  {
   "cell_type": "code",
   "execution_count": 553,
   "id": "6b919f97-5e10-410c-991b-ddc4dd6f8403",
   "metadata": {},
   "outputs": [
    {
     "data": {
      "image/png": "[encoded data removed]",
      "text/plain": [
       "<Figure size 640x480 with 1 Axes>"
      ]
     },
     "metadata": {},
     "output_type": "display_data"
    }
   ],
   "source": [
    "sns.boxplot(data2['Total Time Spent on Website'],orient='vert')\n",
    "plt.show()"
   ]
  },
  {
   "cell_type": "code",
   "execution_count": 555,
   "id": "f65b5f83-5c7a-42a1-bc66-0ab4a173255f",
   "metadata": {},
   "outputs": [
    {
     "data": {
      "image/png": "[encoded data removed]",
      "text/plain": [
       "<Figure size 640x480 with 1 Axes>"
      ]
     },
     "metadata": {},
     "output_type": "display_data"
    }
   ],
   "source": [
    "sns.boxplot(y = 'Total Time Spent on Website', x = 'Converted', data = data2)\n",
    "plt.show()"
   ]
  },
  {
   "cell_type": "markdown",
   "id": "a5850b03-5572-43a6-99da-c51f60fd5410",
   "metadata": {},
   "source": [
    "Leads spending more time on the weblise are more likely to be converted."
   ]
  },
  {
   "cell_type": "markdown",
   "id": "c335b795-b02f-42bd-8801-e2f1e2d9b124",
   "metadata": {},
   "source": [
    "##### 3 Page Views Per Visit"
   ]
  },
  {
   "cell_type": "code",
   "execution_count": 546,
   "id": "1d8644ab-f11a-407d-90ff-f57d75b6f958",
   "metadata": {},
   "outputs": [
    {
     "data": {
      "image/png": "[encoded data removed]",
      "text/plain": [
       "<Figure size 640x480 with 1 Axes>"
      ]
     },
     "metadata": {},
     "output_type": "display_data"
    }
   ],
   "source": [
    "sns.boxplot(data2['Page Views Per Visit'],orient='vert')\n",
    "plt.show()"
   ]
  },
  {
   "cell_type": "code",
   "execution_count": 537,
   "id": "26823341-81e2-40c5-a783-c073181e003f",
   "metadata": {},
   "outputs": [],
   "source": [
    "percentiles = data2['Page Views Per Visit'].quantile([0.05,0.95]).values\n",
    "data2['Page Views Per Visit'][data2['Page Views Per Visit'] <= percentiles[0]] = percentiles[0]\n",
    "data2['Page Views Per Visit'][data2['Page Views Per Visit'] >= percentiles[1]] = percentiles[1]"
   ]
  },
  {
   "cell_type": "code",
   "execution_count": 541,
   "id": "4e25fb4c-4499-4973-ba7a-db6691a014fd",
   "metadata": {},
   "outputs": [
    {
     "data": {
      "image/png": "[encoded data removed]",
      "text/plain": [
       "<Figure size 640x480 with 1 Axes>"
      ]
     },
     "metadata": {},
     "output_type": "display_data"
    }
   ],
   "source": [
    "sns.boxplot(data2['Page Views Per Visit'],orient='vert')\n",
    "plt.show()"
   ]
  },
  {
   "cell_type": "code",
   "execution_count": 543,
   "id": "1b61cb05-f523-482e-b3cb-9db322aef05d",
   "metadata": {},
   "outputs": [
    {
     "data": {
      "image/png": "[encoded data removed]",
      "text/plain": [
       "<Figure size 640x480 with 1 Axes>"
      ]
     },
     "metadata": {},
     "output_type": "display_data"
    }
   ],
   "source": [
    "sns.boxplot(y = 'Page Views Per Visit', x = 'Converted', data =data2)\n",
    "plt.show()"
   ]
  },
  {
   "cell_type": "markdown",
   "id": "62611bc8-a930-4dae-b871-aa3b63f01eb8",
   "metadata": {},
   "source": [
    "Median for converted and unconverted leads is the same."
   ]
  },
  {
   "cell_type": "code",
   "execution_count": 556,
   "id": "eb064187-1fe0-4679-9cd4-1c6f19f386ec",
   "metadata": {},
   "outputs": [
    {
     "data": {
      "image/png": "[encoded data removed]",
      "text/plain": [
       "<Figure size 1400x1000 with 3 Axes>"
      ]
     },
     "metadata": {},
     "output_type": "display_data"
    }
   ],
   "source": [
    " # Set style\n",
    "plt.style.use('ggplot')\n",
    "\n",
    "# See distribution of each of these columns\n",
    "fig = plt.figure(figsize = (14, 10))\n",
    "plt.subplot(2, 2, 1)\n",
    "plt.hist(data2.TotalVisits, bins = 20)\n",
    "plt.title('TotalVisits')\n",
    "\n",
    "plt.subplot(2, 2, 2)\n",
    "plt.hist(data2['Total Time Spent on Website'], bins = 20)\n",
    "plt.title('Total Time Spent on Website')\n",
    "\n",
    "plt.subplot(2, 2, 3)\n",
    "plt.hist(data2['Page Views Per Visit'], bins = 20)\n",
    "plt.title('Page Views Per Visit')\n",
    "\n",
    "plt.show()"
   ]
  },
  {
   "cell_type": "code",
   "execution_count": null,
   "id": "d2a7e8cb-01b4-4982-a636-bdb59c891206",
   "metadata": {},
   "outputs": [],
   "source": []
  }
 ],
 "metadata": {
  "kernelspec": {
   "display_name": "Python 3 (ipykernel)",
   "language": "python",
   "name": "python3"
  },
  "language_info": {
   "codemirror_mode": {
    "name": "ipython",
    "version": 3
   },
   "file_extension": ".py",
   "mimetype": "text/x-python",
   "name": "python",
   "nbconvert_exporter": "python",
   "pygments_lexer": "ipython3",
   "version": "3.11.7"
  }
 },
 "nbformat": 4,
 "nbformat_minor": 5
}
