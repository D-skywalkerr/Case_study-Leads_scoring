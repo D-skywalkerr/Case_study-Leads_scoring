{
 "cells": [
  {
   "cell_type": "code",
   "execution_count": 70,
   "id": "b3b4fb44-8c65-4135-bb6c-df554410e89c",
   "metadata": {},
   "outputs": [],
   "source": [
    "#importing important libraries\n",
    "import numpy as np\n",
    "import pandas as pd\n",
    "import datetime as dt\n",
    "import time\n",
    "\n",
    "import matplotlib.pyplot as plt\n",
    "import seaborn as sns\n",
    "\n",
    "from sklearn.model_selection import train_test_split\n",
    "from sklearn.preprocessing import StandardScaler\n",
    "import statsmodels.api as sm\n",
    "from sklearn.linear_model import LogisticRegression\n",
    "from statsmodels.stats.outliers_influence import variance_inflation_factor"
   ]
  },
  {
   "cell_type": "code",
   "execution_count": 21,
   "id": "cc1edaec-01af-4126-ad0a-404d0b32bde8",
   "metadata": {},
   "outputs": [],
   "source": [
    "# Supress unnecessary warnings\n",
    "import warnings\n",
    "warnings.filterwarnings('ignore')\n",
    "\n",
    "from IPython.display import display\n",
    "pd.options.display.max_columns = None"
   ]
  },
  {
   "cell_type": "code",
   "execution_count": 270,
   "id": "ba08fbb2-6e2b-419d-8e07-4a74e193a156",
   "metadata": {},
   "outputs": [
    {
     "data": {
      "text/html": [
       "<div>\n",
       "<style scoped>\n",
       "    .dataframe tbody tr th:only-of-type {\n",
       "        vertical-align: middle;\n",
       "    }\n",
       "\n",
       "    .dataframe tbody tr th {\n",
       "        vertical-align: top;\n",
       "    }\n",
       "\n",
       "    .dataframe thead th {\n",
       "        text-align: right;\n",
       "    }\n",
       "</style>\n",
       "<table border=\"1\" class=\"dataframe\">\n",
       "  <thead>\n",
       "    <tr style=\"text-align: right;\">\n",
       "      <th></th>\n",
       "      <th>Prospect ID</th>\n",
       "      <th>Lead Number</th>\n",
       "      <th>Lead Origin</th>\n",
       "      <th>Lead Source</th>\n",
       "      <th>Do Not Email</th>\n",
       "      <th>Do Not Call</th>\n",
       "      <th>Converted</th>\n",
       "      <th>TotalVisits</th>\n",
       "      <th>Total Time Spent on Website</th>\n",
       "      <th>Page Views Per Visit</th>\n",
       "      <th>Last Activity</th>\n",
       "      <th>Country</th>\n",
       "      <th>Specialization</th>\n",
       "      <th>How did you hear about X Education</th>\n",
       "      <th>What is your current occupation</th>\n",
       "      <th>What matters most to you in choosing a course</th>\n",
       "      <th>Search</th>\n",
       "      <th>Magazine</th>\n",
       "      <th>Newspaper Article</th>\n",
       "      <th>X Education Forums</th>\n",
       "      <th>Newspaper</th>\n",
       "      <th>Digital Advertisement</th>\n",
       "      <th>Through Recommendations</th>\n",
       "      <th>Receive More Updates About Our Courses</th>\n",
       "      <th>Tags</th>\n",
       "      <th>Lead Quality</th>\n",
       "      <th>Update me on Supply Chain Content</th>\n",
       "      <th>Get updates on DM Content</th>\n",
       "      <th>Lead Profile</th>\n",
       "      <th>City</th>\n",
       "      <th>Asymmetrique Activity Index</th>\n",
       "      <th>Asymmetrique Profile Index</th>\n",
       "      <th>Asymmetrique Activity Score</th>\n",
       "      <th>Asymmetrique Profile Score</th>\n",
       "      <th>I agree to pay the amount through cheque</th>\n",
       "      <th>A free copy of Mastering The Interview</th>\n",
       "      <th>Last Notable Activity</th>\n",
       "    </tr>\n",
       "  </thead>\n",
       "  <tbody>\n",
       "    <tr>\n",
       "      <th>0</th>\n",
       "      <td>7927b2df-8bba-4d29-b9a2-b6e0beafe620</td>\n",
       "      <td>660737</td>\n",
       "      <td>API</td>\n",
       "      <td>Olark Chat</td>\n",
       "      <td>No</td>\n",
       "      <td>No</td>\n",
       "      <td>0</td>\n",
       "      <td>0.0</td>\n",
       "      <td>0</td>\n",
       "      <td>0.0</td>\n",
       "      <td>Page Visited on Website</td>\n",
       "      <td>NaN</td>\n",
       "      <td>Select</td>\n",
       "      <td>Select</td>\n",
       "      <td>Unemployed</td>\n",
       "      <td>Better Career Prospects</td>\n",
       "      <td>No</td>\n",
       "      <td>No</td>\n",
       "      <td>No</td>\n",
       "      <td>No</td>\n",
       "      <td>No</td>\n",
       "      <td>No</td>\n",
       "      <td>No</td>\n",
       "      <td>No</td>\n",
       "      <td>Interested in other courses</td>\n",
       "      <td>Low in Relevance</td>\n",
       "      <td>No</td>\n",
       "      <td>No</td>\n",
       "      <td>Select</td>\n",
       "      <td>Select</td>\n",
       "      <td>02.Medium</td>\n",
       "      <td>02.Medium</td>\n",
       "      <td>15.0</td>\n",
       "      <td>15.0</td>\n",
       "      <td>No</td>\n",
       "      <td>No</td>\n",
       "      <td>Modified</td>\n",
       "    </tr>\n",
       "    <tr>\n",
       "      <th>1</th>\n",
       "      <td>2a272436-5132-4136-86fa-dcc88c88f482</td>\n",
       "      <td>660728</td>\n",
       "      <td>API</td>\n",
       "      <td>Organic Search</td>\n",
       "      <td>No</td>\n",
       "      <td>No</td>\n",
       "      <td>0</td>\n",
       "      <td>5.0</td>\n",
       "      <td>674</td>\n",
       "      <td>2.5</td>\n",
       "      <td>Email Opened</td>\n",
       "      <td>India</td>\n",
       "      <td>Select</td>\n",
       "      <td>Select</td>\n",
       "      <td>Unemployed</td>\n",
       "      <td>Better Career Prospects</td>\n",
       "      <td>No</td>\n",
       "      <td>No</td>\n",
       "      <td>No</td>\n",
       "      <td>No</td>\n",
       "      <td>No</td>\n",
       "      <td>No</td>\n",
       "      <td>No</td>\n",
       "      <td>No</td>\n",
       "      <td>Ringing</td>\n",
       "      <td>NaN</td>\n",
       "      <td>No</td>\n",
       "      <td>No</td>\n",
       "      <td>Select</td>\n",
       "      <td>Select</td>\n",
       "      <td>02.Medium</td>\n",
       "      <td>02.Medium</td>\n",
       "      <td>15.0</td>\n",
       "      <td>15.0</td>\n",
       "      <td>No</td>\n",
       "      <td>No</td>\n",
       "      <td>Email Opened</td>\n",
       "    </tr>\n",
       "    <tr>\n",
       "      <th>2</th>\n",
       "      <td>8cc8c611-a219-4f35-ad23-fdfd2656bd8a</td>\n",
       "      <td>660727</td>\n",
       "      <td>Landing Page Submission</td>\n",
       "      <td>Direct Traffic</td>\n",
       "      <td>No</td>\n",
       "      <td>No</td>\n",
       "      <td>1</td>\n",
       "      <td>2.0</td>\n",
       "      <td>1532</td>\n",
       "      <td>2.0</td>\n",
       "      <td>Email Opened</td>\n",
       "      <td>India</td>\n",
       "      <td>Business Administration</td>\n",
       "      <td>Select</td>\n",
       "      <td>Student</td>\n",
       "      <td>Better Career Prospects</td>\n",
       "      <td>No</td>\n",
       "      <td>No</td>\n",
       "      <td>No</td>\n",
       "      <td>No</td>\n",
       "      <td>No</td>\n",
       "      <td>No</td>\n",
       "      <td>No</td>\n",
       "      <td>No</td>\n",
       "      <td>Will revert after reading the email</td>\n",
       "      <td>Might be</td>\n",
       "      <td>No</td>\n",
       "      <td>No</td>\n",
       "      <td>Potential Lead</td>\n",
       "      <td>Mumbai</td>\n",
       "      <td>02.Medium</td>\n",
       "      <td>01.High</td>\n",
       "      <td>14.0</td>\n",
       "      <td>20.0</td>\n",
       "      <td>No</td>\n",
       "      <td>Yes</td>\n",
       "      <td>Email Opened</td>\n",
       "    </tr>\n",
       "    <tr>\n",
       "      <th>3</th>\n",
       "      <td>0cc2df48-7cf4-4e39-9de9-19797f9b38cc</td>\n",
       "      <td>660719</td>\n",
       "      <td>Landing Page Submission</td>\n",
       "      <td>Direct Traffic</td>\n",
       "      <td>No</td>\n",
       "      <td>No</td>\n",
       "      <td>0</td>\n",
       "      <td>1.0</td>\n",
       "      <td>305</td>\n",
       "      <td>1.0</td>\n",
       "      <td>Unreachable</td>\n",
       "      <td>India</td>\n",
       "      <td>Media and Advertising</td>\n",
       "      <td>Word Of Mouth</td>\n",
       "      <td>Unemployed</td>\n",
       "      <td>Better Career Prospects</td>\n",
       "      <td>No</td>\n",
       "      <td>No</td>\n",
       "      <td>No</td>\n",
       "      <td>No</td>\n",
       "      <td>No</td>\n",
       "      <td>No</td>\n",
       "      <td>No</td>\n",
       "      <td>No</td>\n",
       "      <td>Ringing</td>\n",
       "      <td>Not Sure</td>\n",
       "      <td>No</td>\n",
       "      <td>No</td>\n",
       "      <td>Select</td>\n",
       "      <td>Mumbai</td>\n",
       "      <td>02.Medium</td>\n",
       "      <td>01.High</td>\n",
       "      <td>13.0</td>\n",
       "      <td>17.0</td>\n",
       "      <td>No</td>\n",
       "      <td>No</td>\n",
       "      <td>Modified</td>\n",
       "    </tr>\n",
       "    <tr>\n",
       "      <th>4</th>\n",
       "      <td>3256f628-e534-4826-9d63-4a8b88782852</td>\n",
       "      <td>660681</td>\n",
       "      <td>Landing Page Submission</td>\n",
       "      <td>Google</td>\n",
       "      <td>No</td>\n",
       "      <td>No</td>\n",
       "      <td>1</td>\n",
       "      <td>2.0</td>\n",
       "      <td>1428</td>\n",
       "      <td>1.0</td>\n",
       "      <td>Converted to Lead</td>\n",
       "      <td>India</td>\n",
       "      <td>Select</td>\n",
       "      <td>Other</td>\n",
       "      <td>Unemployed</td>\n",
       "      <td>Better Career Prospects</td>\n",
       "      <td>No</td>\n",
       "      <td>No</td>\n",
       "      <td>No</td>\n",
       "      <td>No</td>\n",
       "      <td>No</td>\n",
       "      <td>No</td>\n",
       "      <td>No</td>\n",
       "      <td>No</td>\n",
       "      <td>Will revert after reading the email</td>\n",
       "      <td>Might be</td>\n",
       "      <td>No</td>\n",
       "      <td>No</td>\n",
       "      <td>Select</td>\n",
       "      <td>Mumbai</td>\n",
       "      <td>02.Medium</td>\n",
       "      <td>01.High</td>\n",
       "      <td>15.0</td>\n",
       "      <td>18.0</td>\n",
       "      <td>No</td>\n",
       "      <td>No</td>\n",
       "      <td>Modified</td>\n",
       "    </tr>\n",
       "  </tbody>\n",
       "</table>\n",
       "</div>"
      ],
      "text/plain": [
       "                            Prospect ID  Lead Number              Lead Origin  \\\n",
       "0  7927b2df-8bba-4d29-b9a2-b6e0beafe620       660737                      API   \n",
       "1  2a272436-5132-4136-86fa-dcc88c88f482       660728                      API   \n",
       "2  8cc8c611-a219-4f35-ad23-fdfd2656bd8a       660727  Landing Page Submission   \n",
       "3  0cc2df48-7cf4-4e39-9de9-19797f9b38cc       660719  Landing Page Submission   \n",
       "4  3256f628-e534-4826-9d63-4a8b88782852       660681  Landing Page Submission   \n",
       "\n",
       "      Lead Source Do Not Email Do Not Call  Converted  TotalVisits  \\\n",
       "0      Olark Chat           No          No          0          0.0   \n",
       "1  Organic Search           No          No          0          5.0   \n",
       "2  Direct Traffic           No          No          1          2.0   \n",
       "3  Direct Traffic           No          No          0          1.0   \n",
       "4          Google           No          No          1          2.0   \n",
       "\n",
       "   Total Time Spent on Website  Page Views Per Visit            Last Activity  \\\n",
       "0                            0                   0.0  Page Visited on Website   \n",
       "1                          674                   2.5             Email Opened   \n",
       "2                         1532                   2.0             Email Opened   \n",
       "3                          305                   1.0              Unreachable   \n",
       "4                         1428                   1.0        Converted to Lead   \n",
       "\n",
       "  Country           Specialization How did you hear about X Education  \\\n",
       "0     NaN                   Select                             Select   \n",
       "1   India                   Select                             Select   \n",
       "2   India  Business Administration                             Select   \n",
       "3   India    Media and Advertising                      Word Of Mouth   \n",
       "4   India                   Select                              Other   \n",
       "\n",
       "  What is your current occupation  \\\n",
       "0                      Unemployed   \n",
       "1                      Unemployed   \n",
       "2                         Student   \n",
       "3                      Unemployed   \n",
       "4                      Unemployed   \n",
       "\n",
       "  What matters most to you in choosing a course Search Magazine  \\\n",
       "0                       Better Career Prospects     No       No   \n",
       "1                       Better Career Prospects     No       No   \n",
       "2                       Better Career Prospects     No       No   \n",
       "3                       Better Career Prospects     No       No   \n",
       "4                       Better Career Prospects     No       No   \n",
       "\n",
       "  Newspaper Article X Education Forums Newspaper Digital Advertisement  \\\n",
       "0                No                 No        No                    No   \n",
       "1                No                 No        No                    No   \n",
       "2                No                 No        No                    No   \n",
       "3                No                 No        No                    No   \n",
       "4                No                 No        No                    No   \n",
       "\n",
       "  Through Recommendations Receive More Updates About Our Courses  \\\n",
       "0                      No                                     No   \n",
       "1                      No                                     No   \n",
       "2                      No                                     No   \n",
       "3                      No                                     No   \n",
       "4                      No                                     No   \n",
       "\n",
       "                                  Tags      Lead Quality  \\\n",
       "0          Interested in other courses  Low in Relevance   \n",
       "1                              Ringing               NaN   \n",
       "2  Will revert after reading the email          Might be   \n",
       "3                              Ringing          Not Sure   \n",
       "4  Will revert after reading the email          Might be   \n",
       "\n",
       "  Update me on Supply Chain Content Get updates on DM Content    Lead Profile  \\\n",
       "0                                No                        No          Select   \n",
       "1                                No                        No          Select   \n",
       "2                                No                        No  Potential Lead   \n",
       "3                                No                        No          Select   \n",
       "4                                No                        No          Select   \n",
       "\n",
       "     City Asymmetrique Activity Index Asymmetrique Profile Index  \\\n",
       "0  Select                   02.Medium                  02.Medium   \n",
       "1  Select                   02.Medium                  02.Medium   \n",
       "2  Mumbai                   02.Medium                    01.High   \n",
       "3  Mumbai                   02.Medium                    01.High   \n",
       "4  Mumbai                   02.Medium                    01.High   \n",
       "\n",
       "   Asymmetrique Activity Score  Asymmetrique Profile Score  \\\n",
       "0                         15.0                        15.0   \n",
       "1                         15.0                        15.0   \n",
       "2                         14.0                        20.0   \n",
       "3                         13.0                        17.0   \n",
       "4                         15.0                        18.0   \n",
       "\n",
       "  I agree to pay the amount through cheque  \\\n",
       "0                                       No   \n",
       "1                                       No   \n",
       "2                                       No   \n",
       "3                                       No   \n",
       "4                                       No   \n",
       "\n",
       "  A free copy of Mastering The Interview Last Notable Activity  \n",
       "0                                     No              Modified  \n",
       "1                                     No          Email Opened  \n",
       "2                                    Yes          Email Opened  \n",
       "3                                     No              Modified  \n",
       "4                                     No              Modified  "
      ]
     },
     "execution_count": 270,
     "metadata": {},
     "output_type": "execute_result"
    }
   ],
   "source": [
    "# Importing the dataset\n",
    "data = pd.read_csv(\"D:/UG/18iLead Score case study/Lead Scoring Assignment/Leads.csv\")\n",
    "data.head()"
   ]
  },
  {
   "cell_type": "markdown",
   "id": "f52e97d7-fc21-4669-92ee-b8dcedff5b13",
   "metadata": {},
   "source": [
    "### Data Prepration"
   ]
  },
  {
   "cell_type": "code",
   "execution_count": 271,
   "id": "871f7cd7-6988-4845-a128-da21fd7d38e0",
   "metadata": {},
   "outputs": [
    {
     "data": {
      "text/plain": [
       "(9240, 37)"
      ]
     },
     "execution_count": 271,
     "metadata": {},
     "output_type": "execute_result"
    }
   ],
   "source": [
    "data.shape"
   ]
  },
  {
   "cell_type": "code",
   "execution_count": 272,
   "id": "0930ca84-5209-4169-b022-bbc1b46ab204",
   "metadata": {},
   "outputs": [
    {
     "name": "stdout",
     "output_type": "stream",
     "text": [
      "<class 'pandas.core.frame.DataFrame'>\n",
      "RangeIndex: 9240 entries, 0 to 9239\n",
      "Data columns (total 37 columns):\n",
      " #   Column                                         Non-Null Count  Dtype  \n",
      "---  ------                                         --------------  -----  \n",
      " 0   Prospect ID                                    9240 non-null   object \n",
      " 1   Lead Number                                    9240 non-null   int64  \n",
      " 2   Lead Origin                                    9240 non-null   object \n",
      " 3   Lead Source                                    9204 non-null   object \n",
      " 4   Do Not Email                                   9240 non-null   object \n",
      " 5   Do Not Call                                    9240 non-null   object \n",
      " 6   Converted                                      9240 non-null   int64  \n",
      " 7   TotalVisits                                    9103 non-null   float64\n",
      " 8   Total Time Spent on Website                    9240 non-null   int64  \n",
      " 9   Page Views Per Visit                           9103 non-null   float64\n",
      " 10  Last Activity                                  9137 non-null   object \n",
      " 11  Country                                        6779 non-null   object \n",
      " 12  Specialization                                 7802 non-null   object \n",
      " 13  How did you hear about X Education             7033 non-null   object \n",
      " 14  What is your current occupation                6550 non-null   object \n",
      " 15  What matters most to you in choosing a course  6531 non-null   object \n",
      " 16  Search                                         9240 non-null   object \n",
      " 17  Magazine                                       9240 non-null   object \n",
      " 18  Newspaper Article                              9240 non-null   object \n",
      " 19  X Education Forums                             9240 non-null   object \n",
      " 20  Newspaper                                      9240 non-null   object \n",
      " 21  Digital Advertisement                          9240 non-null   object \n",
      " 22  Through Recommendations                        9240 non-null   object \n",
      " 23  Receive More Updates About Our Courses         9240 non-null   object \n",
      " 24  Tags                                           5887 non-null   object \n",
      " 25  Lead Quality                                   4473 non-null   object \n",
      " 26  Update me on Supply Chain Content              9240 non-null   object \n",
      " 27  Get updates on DM Content                      9240 non-null   object \n",
      " 28  Lead Profile                                   6531 non-null   object \n",
      " 29  City                                           7820 non-null   object \n",
      " 30  Asymmetrique Activity Index                    5022 non-null   object \n",
      " 31  Asymmetrique Profile Index                     5022 non-null   object \n",
      " 32  Asymmetrique Activity Score                    5022 non-null   float64\n",
      " 33  Asymmetrique Profile Score                     5022 non-null   float64\n",
      " 34  I agree to pay the amount through cheque       9240 non-null   object \n",
      " 35  A free copy of Mastering The Interview         9240 non-null   object \n",
      " 36  Last Notable Activity                          9240 non-null   object \n",
      "dtypes: float64(4), int64(3), object(30)\n",
      "memory usage: 2.6+ MB\n"
     ]
    }
   ],
   "source": [
    "data.info()"
   ]
  },
  {
   "cell_type": "code",
   "execution_count": 273,
   "id": "b9bdd2f2-144a-40df-ad20-cee6b9343887",
   "metadata": {},
   "outputs": [
    {
     "data": {
      "text/html": [
       "<div>\n",
       "<style scoped>\n",
       "    .dataframe tbody tr th:only-of-type {\n",
       "        vertical-align: middle;\n",
       "    }\n",
       "\n",
       "    .dataframe tbody tr th {\n",
       "        vertical-align: top;\n",
       "    }\n",
       "\n",
       "    .dataframe thead th {\n",
       "        text-align: right;\n",
       "    }\n",
       "</style>\n",
       "<table border=\"1\" class=\"dataframe\">\n",
       "  <thead>\n",
       "    <tr style=\"text-align: right;\">\n",
       "      <th></th>\n",
       "      <th>Lead Number</th>\n",
       "      <th>Converted</th>\n",
       "      <th>TotalVisits</th>\n",
       "      <th>Total Time Spent on Website</th>\n",
       "      <th>Page Views Per Visit</th>\n",
       "      <th>Asymmetrique Activity Score</th>\n",
       "      <th>Asymmetrique Profile Score</th>\n",
       "    </tr>\n",
       "  </thead>\n",
       "  <tbody>\n",
       "    <tr>\n",
       "      <th>count</th>\n",
       "      <td>9240.000000</td>\n",
       "      <td>9240.000000</td>\n",
       "      <td>9103.000000</td>\n",
       "      <td>9240.000000</td>\n",
       "      <td>9103.000000</td>\n",
       "      <td>5022.000000</td>\n",
       "      <td>5022.000000</td>\n",
       "    </tr>\n",
       "    <tr>\n",
       "      <th>mean</th>\n",
       "      <td>617188.435606</td>\n",
       "      <td>0.385390</td>\n",
       "      <td>3.445238</td>\n",
       "      <td>487.698268</td>\n",
       "      <td>2.362820</td>\n",
       "      <td>14.306252</td>\n",
       "      <td>16.344883</td>\n",
       "    </tr>\n",
       "    <tr>\n",
       "      <th>std</th>\n",
       "      <td>23405.995698</td>\n",
       "      <td>0.486714</td>\n",
       "      <td>4.854853</td>\n",
       "      <td>548.021466</td>\n",
       "      <td>2.161418</td>\n",
       "      <td>1.386694</td>\n",
       "      <td>1.811395</td>\n",
       "    </tr>\n",
       "    <tr>\n",
       "      <th>min</th>\n",
       "      <td>579533.000000</td>\n",
       "      <td>0.000000</td>\n",
       "      <td>0.000000</td>\n",
       "      <td>0.000000</td>\n",
       "      <td>0.000000</td>\n",
       "      <td>7.000000</td>\n",
       "      <td>11.000000</td>\n",
       "    </tr>\n",
       "    <tr>\n",
       "      <th>25%</th>\n",
       "      <td>596484.500000</td>\n",
       "      <td>0.000000</td>\n",
       "      <td>1.000000</td>\n",
       "      <td>12.000000</td>\n",
       "      <td>1.000000</td>\n",
       "      <td>14.000000</td>\n",
       "      <td>15.000000</td>\n",
       "    </tr>\n",
       "    <tr>\n",
       "      <th>50%</th>\n",
       "      <td>615479.000000</td>\n",
       "      <td>0.000000</td>\n",
       "      <td>3.000000</td>\n",
       "      <td>248.000000</td>\n",
       "      <td>2.000000</td>\n",
       "      <td>14.000000</td>\n",
       "      <td>16.000000</td>\n",
       "    </tr>\n",
       "    <tr>\n",
       "      <th>75%</th>\n",
       "      <td>637387.250000</td>\n",
       "      <td>1.000000</td>\n",
       "      <td>5.000000</td>\n",
       "      <td>936.000000</td>\n",
       "      <td>3.000000</td>\n",
       "      <td>15.000000</td>\n",
       "      <td>18.000000</td>\n",
       "    </tr>\n",
       "    <tr>\n",
       "      <th>max</th>\n",
       "      <td>660737.000000</td>\n",
       "      <td>1.000000</td>\n",
       "      <td>251.000000</td>\n",
       "      <td>2272.000000</td>\n",
       "      <td>55.000000</td>\n",
       "      <td>18.000000</td>\n",
       "      <td>20.000000</td>\n",
       "    </tr>\n",
       "  </tbody>\n",
       "</table>\n",
       "</div>"
      ],
      "text/plain": [
       "         Lead Number    Converted  TotalVisits  Total Time Spent on Website  \\\n",
       "count    9240.000000  9240.000000  9103.000000                  9240.000000   \n",
       "mean   617188.435606     0.385390     3.445238                   487.698268   \n",
       "std     23405.995698     0.486714     4.854853                   548.021466   \n",
       "min    579533.000000     0.000000     0.000000                     0.000000   \n",
       "25%    596484.500000     0.000000     1.000000                    12.000000   \n",
       "50%    615479.000000     0.000000     3.000000                   248.000000   \n",
       "75%    637387.250000     1.000000     5.000000                   936.000000   \n",
       "max    660737.000000     1.000000   251.000000                  2272.000000   \n",
       "\n",
       "       Page Views Per Visit  Asymmetrique Activity Score  \\\n",
       "count           9103.000000                  5022.000000   \n",
       "mean               2.362820                    14.306252   \n",
       "std                2.161418                     1.386694   \n",
       "min                0.000000                     7.000000   \n",
       "25%                1.000000                    14.000000   \n",
       "50%                2.000000                    14.000000   \n",
       "75%                3.000000                    15.000000   \n",
       "max               55.000000                    18.000000   \n",
       "\n",
       "       Asymmetrique Profile Score  \n",
       "count                 5022.000000  \n",
       "mean                    16.344883  \n",
       "std                      1.811395  \n",
       "min                     11.000000  \n",
       "25%                     15.000000  \n",
       "50%                     16.000000  \n",
       "75%                     18.000000  \n",
       "max                     20.000000  "
      ]
     },
     "execution_count": 273,
     "metadata": {},
     "output_type": "execute_result"
    }
   ],
   "source": [
    "data.describe()"
   ]
  },
  {
   "cell_type": "code",
   "execution_count": 274,
   "id": "56fdb082-f372-4df1-b7a0-480df0620c98",
   "metadata": {},
   "outputs": [
    {
     "data": {
      "text/plain": [
       "Prospect ID                                         0\n",
       "Lead Number                                         0\n",
       "Lead Origin                                         0\n",
       "Lead Source                                        36\n",
       "Do Not Email                                        0\n",
       "Do Not Call                                         0\n",
       "Converted                                           0\n",
       "TotalVisits                                       137\n",
       "Total Time Spent on Website                         0\n",
       "Page Views Per Visit                              137\n",
       "Last Activity                                     103\n",
       "Country                                          2461\n",
       "Specialization                                   1438\n",
       "How did you hear about X Education               2207\n",
       "What is your current occupation                  2690\n",
       "What matters most to you in choosing a course    2709\n",
       "Search                                              0\n",
       "Magazine                                            0\n",
       "Newspaper Article                                   0\n",
       "X Education Forums                                  0\n",
       "Newspaper                                           0\n",
       "Digital Advertisement                               0\n",
       "Through Recommendations                             0\n",
       "Receive More Updates About Our Courses              0\n",
       "Tags                                             3353\n",
       "Lead Quality                                     4767\n",
       "Update me on Supply Chain Content                   0\n",
       "Get updates on DM Content                           0\n",
       "Lead Profile                                     2709\n",
       "City                                             1420\n",
       "Asymmetrique Activity Index                      4218\n",
       "Asymmetrique Profile Index                       4218\n",
       "Asymmetrique Activity Score                      4218\n",
       "Asymmetrique Profile Score                       4218\n",
       "I agree to pay the amount through cheque            0\n",
       "A free copy of Mastering The Interview              0\n",
       "Last Notable Activity                               0\n",
       "dtype: int64"
      ]
     },
     "execution_count": 274,
     "metadata": {},
     "output_type": "execute_result"
    }
   ],
   "source": [
    "# checking for the null values\n",
    "data.isna().sum()"
   ]
  },
  {
   "cell_type": "markdown",
   "id": "8873a178-3271-42f7-beb3-04039a350f57",
   "metadata": {},
   "source": [
    "##### There are a lot of null values.\n",
    "##### As statted many categorical columns have 'select' as a level we'll replace them with Null.\n",
    "##### We'll also convert all the cat values in lower case for correct representation of levels."
   ]
  },
  {
   "cell_type": "markdown",
   "id": "43b99771-f7c0-45d5-9943-ddd6cadcb53f",
   "metadata": {},
   "source": [
    "#### Data Cleaning"
   ]
  },
  {
   "cell_type": "code",
   "execution_count": 275,
   "id": "a3347680-bf83-4c6d-b308-df859e3d8ea4",
   "metadata": {},
   "outputs": [
    {
     "data": {
      "text/plain": [
       "True"
      ]
     },
     "execution_count": 275,
     "metadata": {},
     "output_type": "execute_result"
    }
   ],
   "source": [
    "# checking for duplicates\n",
    "sum(data.duplicated(subset = 'Prospect ID')) == 0\n",
    "sum(data.duplicated(subset = 'Lead Number')) == 0"
   ]
  },
  {
   "cell_type": "markdown",
   "id": "b83e43b3-72de-4b5b-96c6-1a35c74ca0bb",
   "metadata": {},
   "source": [
    "Prospect ID & Lead Number are like ID numbers and shows that there are no duplicate ids."
   ]
  },
  {
   "cell_type": "code",
   "execution_count": 276,
   "id": "1fefe8b4-97b4-46be-8cca-77bd23bcdd3d",
   "metadata": {},
   "outputs": [],
   "source": [
    "# Converting all the values to lower case\n",
    "data = data.applymap(lambda x:x.lower() if type(x) == str else x)"
   ]
  },
  {
   "cell_type": "code",
   "execution_count": 277,
   "id": "2ff21a4e-8ae6-4396-ab4f-e3de521e8415",
   "metadata": {},
   "outputs": [],
   "source": [
    "#Converting 'Select' values to NaN.\n",
    "\n",
    "data = data.replace('select', np.nan)"
   ]
  },
  {
   "cell_type": "code",
   "execution_count": 278,
   "id": "c298837f-68e3-44e1-a412-ed30d9f91c20",
   "metadata": {},
   "outputs": [
    {
     "data": {
      "text/plain": [
       "How did you hear about X Education               78.463203\n",
       "Lead Profile                                     74.188312\n",
       "Lead Quality                                     51.590909\n",
       "Asymmetrique Profile Score                       45.649351\n",
       "Asymmetrique Activity Score                      45.649351\n",
       "Asymmetrique Activity Index                      45.649351\n",
       "Asymmetrique Profile Index                       45.649351\n",
       "City                                             39.707792\n",
       "Specialization                                   36.580087\n",
       "Tags                                             36.287879\n",
       "What matters most to you in choosing a course    29.318182\n",
       "What is your current occupation                  29.112554\n",
       "Country                                          26.634199\n",
       "Page Views Per Visit                              1.482684\n",
       "TotalVisits                                       1.482684\n",
       "Last Activity                                     1.114719\n",
       "Lead Source                                       0.389610\n",
       "Receive More Updates About Our Courses            0.000000\n",
       "I agree to pay the amount through cheque          0.000000\n",
       "Get updates on DM Content                         0.000000\n",
       "Update me on Supply Chain Content                 0.000000\n",
       "A free copy of Mastering The Interview            0.000000\n",
       "Prospect ID                                       0.000000\n",
       "Newspaper Article                                 0.000000\n",
       "Through Recommendations                           0.000000\n",
       "Digital Advertisement                             0.000000\n",
       "Newspaper                                         0.000000\n",
       "X Education Forums                                0.000000\n",
       "Lead Number                                       0.000000\n",
       "Magazine                                          0.000000\n",
       "Search                                            0.000000\n",
       "Total Time Spent on Website                       0.000000\n",
       "Converted                                         0.000000\n",
       "Do Not Call                                       0.000000\n",
       "Do Not Email                                      0.000000\n",
       "Lead Origin                                       0.000000\n",
       "Last Notable Activity                             0.000000\n",
       "dtype: float64"
      ]
     },
     "execution_count": 278,
     "metadata": {},
     "output_type": "execute_result"
    }
   ],
   "source": [
    "# Checking the percentage of missing values\n",
    "nasum= (data.isnull().sum() / len(data)) * 100\n",
    "nasum.sort_values(ascending=False)"
   ]
  },
  {
   "cell_type": "markdown",
   "id": "2103766a-7858-431e-8847-6f5bc44b2c78",
   "metadata": {},
   "source": [
    "We'll remove the columns having more than 35% of missing values"
   ]
  },
  {
   "cell_type": "code",
   "execution_count": 279,
   "id": "c147ca20-c4d0-4b74-a424-89d54ee29f1b",
   "metadata": {},
   "outputs": [],
   "source": [
    "#dropping cols with more than 35% missing values\n",
    "cols_to_drop = nasum[nasum >= 35].index\n",
    "data.drop(cols_to_drop, axis=1, inplace=True)"
   ]
  },
  {
   "cell_type": "code",
   "execution_count": 280,
   "id": "3d821401-f827-4684-8774-59b3ed5cc972",
   "metadata": {},
   "outputs": [
    {
     "data": {
      "text/plain": [
       "What matters most to you in choosing a course    29.318182\n",
       "What is your current occupation                  29.112554\n",
       "Country                                          26.634199\n",
       "TotalVisits                                       1.482684\n",
       "Page Views Per Visit                              1.482684\n",
       "Last Activity                                     1.114719\n",
       "Lead Source                                       0.389610\n",
       "X Education Forums                                0.000000\n",
       "A free copy of Mastering The Interview            0.000000\n",
       "I agree to pay the amount through cheque          0.000000\n",
       "Get updates on DM Content                         0.000000\n",
       "Update me on Supply Chain Content                 0.000000\n",
       "Receive More Updates About Our Courses            0.000000\n",
       "Through Recommendations                           0.000000\n",
       "Digital Advertisement                             0.000000\n",
       "Newspaper                                         0.000000\n",
       "Prospect ID                                       0.000000\n",
       "Newspaper Article                                 0.000000\n",
       "Magazine                                          0.000000\n",
       "Search                                            0.000000\n",
       "Lead Number                                       0.000000\n",
       "Total Time Spent on Website                       0.000000\n",
       "Converted                                         0.000000\n",
       "Do Not Call                                       0.000000\n",
       "Do Not Email                                      0.000000\n",
       "Lead Origin                                       0.000000\n",
       "Last Notable Activity                             0.000000\n",
       "dtype: float64"
      ]
     },
     "execution_count": 280,
     "metadata": {},
     "output_type": "execute_result"
    }
   ],
   "source": [
    "# checking the missing values again\n",
    "((data.isnull().sum() / len(data)) * 100).sort_values(ascending=False)"
   ]
  },
  {
   "cell_type": "markdown",
   "id": "76447125-b12b-461c-81bc-f7fc1b5ab9b2",
   "metadata": {},
   "source": [
    "#### Checking Individual columns: Categorical Analysis"
   ]
  },
  {
   "cell_type": "code",
   "execution_count": 281,
   "id": "aa66b68f-b27c-4244-9647-a3c04124e79b",
   "metadata": {},
   "outputs": [
    {
     "data": {
      "text/plain": [
       "What matters most to you in choosing a course\n",
       "better career prospects      70.649351\n",
       "NaN                          29.318182\n",
       "flexibility & convenience     0.021645\n",
       "other                         0.010823\n",
       "Name: proportion, dtype: float64"
      ]
     },
     "execution_count": 281,
     "metadata": {},
     "output_type": "execute_result"
    }
   ],
   "source": [
    "data['What matters most to you in choosing a course'].value_counts(normalize = True, dropna = False) * 100 "
   ]
  },
  {
   "cell_type": "markdown",
   "id": "371597c0-6f7c-4d5d-bca7-a69f76eb5444",
   "metadata": {},
   "source": [
    "column is heavily skewed with 'better career prospects' and NaN values(~99%) and hence we'll drop this column."
   ]
  },
  {
   "cell_type": "code",
   "execution_count": 282,
   "id": "e5b57195-cf9b-4f18-976f-e48d36a96362",
   "metadata": {},
   "outputs": [],
   "source": [
    "data.drop('What matters most to you in choosing a course', axis = 1, inplace = True) "
   ]
  },
  {
   "cell_type": "code",
   "execution_count": 283,
   "id": "50f37f62-28e3-4b4d-9bd4-a9deb793c636",
   "metadata": {},
   "outputs": [
    {
     "data": {
      "text/plain": [
       "What is your current occupation\n",
       "unemployed              85.496183\n",
       "working professional    10.778626\n",
       "student                  3.206107\n",
       "other                    0.244275\n",
       "housewife                0.152672\n",
       "businessman              0.122137\n",
       "Name: proportion, dtype: float64"
      ]
     },
     "execution_count": 283,
     "metadata": {},
     "output_type": "execute_result"
    }
   ],
   "source": [
    "data['What is your current occupation'].value_counts(normalize= True)*100"
   ]
  },
  {
   "cell_type": "markdown",
   "id": "7c68bda9-35ab-4485-8355-358ccb819d7c",
   "metadata": {},
   "source": [
    "As we can see there are many low representing cat levels. Let's join them for better representation"
   ]
  },
  {
   "cell_type": "code",
   "execution_count": 284,
   "id": "8219394e-1de2-43cf-bc8a-3ecac1c3f132",
   "metadata": {},
   "outputs": [],
   "source": [
    "# Combine low-representing categories\n",
    "data.loc[data['What is your current occupation'].isin(['other', 'housewife', 'businessman']), 'What is your current occupation'] = 'others'"
   ]
  },
  {
   "cell_type": "code",
   "execution_count": 285,
   "id": "0e2cfa69-0a09-47cc-bd9f-95ede425eecc",
   "metadata": {},
   "outputs": [
    {
     "data": {
      "text/plain": [
       "What is your current occupation\n",
       "unemployed              85.496183\n",
       "working professional    10.778626\n",
       "student                  3.206107\n",
       "others                   0.519084\n",
       "Name: proportion, dtype: float64"
      ]
     },
     "execution_count": 285,
     "metadata": {},
     "output_type": "execute_result"
    }
   ],
   "source": [
    "data['What is your current occupation'].value_counts(normalize= True)*100"
   ]
  },
  {
   "cell_type": "markdown",
   "id": "95830a10-3b7f-4a11-9182-a4d28b526bb1",
   "metadata": {},
   "source": [
    "Instead of imputing NaN values with just 'unemployed', we'll impute them proportionately to take care of the bias"
   ]
  },
  {
   "cell_type": "code",
   "execution_count": 286,
   "id": "2724151c-117d-4cd0-9952-3f9aaf0dede0",
   "metadata": {},
   "outputs": [],
   "source": [
    "data['What is your current occupation'] = data['What is your current occupation'].fillna(pd.Series(np.random.choice(['unemployed', 'working professional', 'student', 'others'], p = [0.8550, 0.1078, 0.0320, 0.0052], size = len(data)))) "
   ]
  },
  {
   "cell_type": "code",
   "execution_count": 287,
   "id": "ca0640a8-1e40-4796-9968-98b5a4c0b6ed",
   "metadata": {},
   "outputs": [
    {
     "data": {
      "text/plain": [
       "What is your current occupation\n",
       "unemployed              85.541126\n",
       "working professional    10.800866\n",
       "student                  3.225108\n",
       "others                   0.432900\n",
       "Name: proportion, dtype: float64"
      ]
     },
     "execution_count": 287,
     "metadata": {},
     "output_type": "execute_result"
    }
   ],
   "source": [
    "data['What is your current occupation'].value_counts(normalize= True)*100"
   ]
  },
  {
   "cell_type": "code",
   "execution_count": 288,
   "id": "827eaba8-f54a-43a5-bc30-dd887e44847c",
   "metadata": {},
   "outputs": [
    {
     "data": {
      "text/plain": [
       "Country\n",
       "india                   0.702597\n",
       "NaN                     0.266342\n",
       "united states           0.007468\n",
       "united arab emirates    0.005736\n",
       "singapore               0.002597\n",
       "saudi arabia            0.002273\n",
       "united kingdom          0.001623\n",
       "australia               0.001407\n",
       "qatar                   0.001082\n",
       "bahrain                 0.000758\n",
       "hong kong               0.000758\n",
       "oman                    0.000649\n",
       "france                  0.000649\n",
       "unknown                 0.000541\n",
       "kuwait                  0.000433\n",
       "south africa            0.000433\n",
       "canada                  0.000433\n",
       "nigeria                 0.000433\n",
       "germany                 0.000433\n",
       "sweden                  0.000325\n",
       "philippines             0.000216\n",
       "uganda                  0.000216\n",
       "italy                   0.000216\n",
       "bangladesh              0.000216\n",
       "netherlands             0.000216\n",
       "asia/pacific region     0.000216\n",
       "china                   0.000216\n",
       "belgium                 0.000216\n",
       "ghana                   0.000216\n",
       "kenya                   0.000108\n",
       "sri lanka               0.000108\n",
       "tanzania                0.000108\n",
       "malaysia                0.000108\n",
       "liberia                 0.000108\n",
       "switzerland             0.000108\n",
       "denmark                 0.000108\n",
       "russia                  0.000108\n",
       "vietnam                 0.000108\n",
       "indonesia               0.000108\n",
       "Name: proportion, dtype: float64"
      ]
     },
     "execution_count": 288,
     "metadata": {},
     "output_type": "execute_result"
    }
   ],
   "source": [
    "data.Country.value_counts(normalize= True, dropna = False)"
   ]
  },
  {
   "cell_type": "code",
   "execution_count": 289,
   "id": "38f679fc-465d-44c5-a555-1f5e188c26bb",
   "metadata": {},
   "outputs": [],
   "source": [
    "data['Country'] = data['Country'].fillna('not provided')"
   ]
  },
  {
   "cell_type": "code",
   "execution_count": 290,
   "id": "5e45de23-d37e-403c-b293-95fbe920bbd3",
   "metadata": {},
   "outputs": [
    {
     "data": {
      "text/plain": [
       "Country\n",
       "india            6492\n",
       "not provided     2461\n",
       "outside india     287\n",
       "Name: count, dtype: int64"
      ]
     },
     "execution_count": 290,
     "metadata": {},
     "output_type": "execute_result"
    }
   ],
   "source": [
    "def cats(x):\n",
    "    category = \"\"\n",
    "    if x == \"india\":\n",
    "        category = \"india\"\n",
    "    elif x == \"not provided\":\n",
    "        category = \"not provided\"\n",
    "    else:\n",
    "        category = \"outside india\"\n",
    "    return category\n",
    "\n",
    "data['Country'] = data.apply(lambda x:cats(x['Country']), axis = 1)\n",
    "data['Country'].value_counts()"
   ]
  },
  {
   "cell_type": "code",
   "execution_count": 291,
   "id": "4fa0c33f-8907-4007-bcb2-20bc956ddf1d",
   "metadata": {},
   "outputs": [
    {
     "data": {
      "text/plain": [
       "TotalVisits\n",
       "0.0      23.690476\n",
       "2.0      18.181818\n",
       "3.0      14.134199\n",
       "4.0      12.121212\n",
       "5.0       8.474026\n",
       "6.0       5.043290\n",
       "1.0       4.274892\n",
       "7.0       3.344156\n",
       "8.0       2.424242\n",
       "9.0       1.774892\n",
       "NaN       1.482684\n",
       "10.0      1.233766\n",
       "11.0      0.930736\n",
       "13.0      0.519481\n",
       "12.0      0.487013\n",
       "14.0      0.389610\n",
       "16.0      0.227273\n",
       "15.0      0.194805\n",
       "17.0      0.173160\n",
       "18.0      0.162338\n",
       "20.0      0.129870\n",
       "19.0      0.097403\n",
       "21.0      0.064935\n",
       "23.0      0.064935\n",
       "24.0      0.054113\n",
       "25.0      0.054113\n",
       "27.0      0.054113\n",
       "22.0      0.032468\n",
       "29.0      0.021645\n",
       "28.0      0.021645\n",
       "26.0      0.021645\n",
       "141.0     0.010823\n",
       "55.0      0.010823\n",
       "30.0      0.010823\n",
       "43.0      0.010823\n",
       "74.0      0.010823\n",
       "41.0      0.010823\n",
       "54.0      0.010823\n",
       "115.0     0.010823\n",
       "251.0     0.010823\n",
       "32.0      0.010823\n",
       "42.0      0.010823\n",
       "Name: proportion, dtype: float64"
      ]
     },
     "execution_count": 291,
     "metadata": {},
     "output_type": "execute_result"
    }
   ],
   "source": [
    "#Checking the 'TotalVisits' column\n",
    "data['TotalVisits'].value_counts(normalize=True, dropna=False) * 100"
   ]
  },
  {
   "cell_type": "code",
   "execution_count": 292,
   "id": "8f74fda0-c509-4892-ac90-ea904c789c63",
   "metadata": {},
   "outputs": [],
   "source": [
    "# Filling missing values in 'TotalVisits' with the mode of the column\n",
    "data['TotalVisits'] = data['TotalVisits'].fillna(data['TotalVisits'].mode()[0])"
   ]
  },
  {
   "cell_type": "code",
   "execution_count": 294,
   "id": "360893db-d3d8-4b18-9d9b-a9055fc32026",
   "metadata": {},
   "outputs": [
    {
     "data": {
      "text/plain": [
       "TotalVisits\n",
       "0.0      25.173160\n",
       "2.0      18.181818\n",
       "3.0      14.134199\n",
       "4.0      12.121212\n",
       "5.0       8.474026\n",
       "6.0       5.043290\n",
       "1.0       4.274892\n",
       "7.0       3.344156\n",
       "8.0       2.424242\n",
       "9.0       1.774892\n",
       "10.0      1.233766\n",
       "11.0      0.930736\n",
       "13.0      0.519481\n",
       "12.0      0.487013\n",
       "14.0      0.389610\n",
       "16.0      0.227273\n",
       "15.0      0.194805\n",
       "17.0      0.173160\n",
       "18.0      0.162338\n",
       "20.0      0.129870\n",
       "19.0      0.097403\n",
       "21.0      0.064935\n",
       "23.0      0.064935\n",
       "24.0      0.054113\n",
       "25.0      0.054113\n",
       "27.0      0.054113\n",
       "22.0      0.032468\n",
       "29.0      0.021645\n",
       "28.0      0.021645\n",
       "26.0      0.021645\n",
       "141.0     0.010823\n",
       "55.0      0.010823\n",
       "30.0      0.010823\n",
       "43.0      0.010823\n",
       "74.0      0.010823\n",
       "41.0      0.010823\n",
       "54.0      0.010823\n",
       "115.0     0.010823\n",
       "251.0     0.010823\n",
       "32.0      0.010823\n",
       "42.0      0.010823\n",
       "Name: proportion, dtype: float64"
      ]
     },
     "execution_count": 294,
     "metadata": {},
     "output_type": "execute_result"
    }
   ],
   "source": [
    "data['TotalVisits'].value_counts(normalize=True, dropna=False) * 100         #checking"
   ]
  },
  {
   "cell_type": "code",
   "execution_count": 243,
   "id": "48900aa9-bfda-44bd-bc61-d5e1e651b221",
   "metadata": {},
   "outputs": [
    {
     "data": {
      "text/plain": [
       "Page Views Per Visit\n",
       "0.00    2189\n",
       "2.00    1795\n",
       "3.00    1196\n",
       "4.00     896\n",
       "1.00     651\n",
       "        ... \n",
       "2.56       1\n",
       "6.33       1\n",
       "1.64       1\n",
       "8.21       1\n",
       "2.08       1\n",
       "Name: count, Length: 115, dtype: int64"
      ]
     },
     "execution_count": 243,
     "metadata": {},
     "output_type": "execute_result"
    }
   ],
   "source": [
    "#Checking the 'Page Views Per Visit' column\n",
    "data['Page Views Per Visit'].value_counts(dropna=False)"
   ]
  },
  {
   "cell_type": "code",
   "execution_count": 298,
   "id": "4b6a2d95-572e-4b0c-8af3-daee3991c1cd",
   "metadata": {},
   "outputs": [
    {
     "data": {
      "text/plain": [
       "114"
      ]
     },
     "execution_count": 298,
     "metadata": {},
     "output_type": "execute_result"
    }
   ],
   "source": [
    "data['Page Views Per Visit'].nunique()"
   ]
  },
  {
   "cell_type": "code",
   "execution_count": 301,
   "id": "de12a71e-c289-4250-988c-4b3f45ef0f50",
   "metadata": {},
   "outputs": [],
   "source": [
    "# Filling missing values in 'Page Views Per Visit' with the mode of the column\n",
    "data['Page Views Per Visit'] = data['Page Views Per Visit'].fillna(data['Page Views Per Visit'].mode()[0])"
   ]
  },
  {
   "cell_type": "code",
   "execution_count": 303,
   "id": "c247a16f-520c-4f7c-b327-919b919c71bf",
   "metadata": {},
   "outputs": [
    {
     "data": {
      "text/plain": [
       "Last Activity\n",
       "email opened                    3437\n",
       "sms sent                        2745\n",
       "olark chat conversation          973\n",
       "page visited on website          640\n",
       "converted to lead                428\n",
       "email bounced                    326\n",
       "email link clicked               267\n",
       "form submitted on website        116\n",
       "NaN                              103\n",
       "unreachable                       93\n",
       "unsubscribed                      61\n",
       "had a phone conversation          30\n",
       "approached upfront                 9\n",
       "view in browser link clicked       6\n",
       "email received                     2\n",
       "email marked spam                  2\n",
       "visited booth in tradeshow         1\n",
       "resubscribed to emails             1\n",
       "Name: count, dtype: int64"
      ]
     },
     "execution_count": 303,
     "metadata": {},
     "output_type": "execute_result"
    }
   ],
   "source": [
    "#Checking the 'Last Activity' column\n",
    "data['Last Activity'].value_counts(dropna=False)"
   ]
  },
  {
   "cell_type": "code",
   "execution_count": 305,
   "id": "2d4a37f7-c49c-4ac3-a3fb-c04f906b532a",
   "metadata": {},
   "outputs": [],
   "source": [
    "# Filling missing values in 'Last Activity' with the mode of the column\n",
    "data['Last Activity'] = data['Last Activity'].fillna(data['Last Activity'].mode()[0])"
   ]
  },
  {
   "cell_type": "code",
   "execution_count": 308,
   "id": "7dda3944-f1d8-4209-b1cd-f4d2a3f9162d",
   "metadata": {},
   "outputs": [
    {
     "data": {
      "text/plain": [
       "Lead Source\n",
       "google               2873\n",
       "direct traffic       2543\n",
       "olark chat           1755\n",
       "organic search       1154\n",
       "reference             534\n",
       "welingak website      142\n",
       "referral sites        125\n",
       "facebook               55\n",
       "NaN                    36\n",
       "bing                    6\n",
       "click2call              4\n",
       "press_release           2\n",
       "social media            2\n",
       "live chat               2\n",
       "youtubechannel          1\n",
       "testone                 1\n",
       "pay per click ads       1\n",
       "welearnblog_home        1\n",
       "welearn                 1\n",
       "blog                    1\n",
       "nc_edm                  1\n",
       "Name: count, dtype: int64"
      ]
     },
     "execution_count": 308,
     "metadata": {},
     "output_type": "execute_result"
    }
   ],
   "source": [
    "#Checking the 'Lead Source' column\n",
    "data['Lead Source'].value_counts(dropna=False)"
   ]
  },
  {
   "cell_type": "code",
   "execution_count": 309,
   "id": "1aef0e11-4c8e-4c50-a953-0b3044996035",
   "metadata": {},
   "outputs": [],
   "source": [
    "# Filling missing values in 'Lead Source' with the mode of the column\n",
    "data['Lead Source'] = data['Lead Source'].fillna(data['Lead Source'].mode()[0])"
   ]
  },
  {
   "cell_type": "code",
   "execution_count": 311,
   "id": "bea31a81-3449-4da1-aa0c-c1107ee678a3",
   "metadata": {},
   "outputs": [
    {
     "data": {
      "text/plain": [
       "Prospect ID                                 0\n",
       "Lead Number                                 0\n",
       "A free copy of Mastering The Interview      0\n",
       "I agree to pay the amount through cheque    0\n",
       "Get updates on DM Content                   0\n",
       "Update me on Supply Chain Content           0\n",
       "Receive More Updates About Our Courses      0\n",
       "Through Recommendations                     0\n",
       "Digital Advertisement                       0\n",
       "Newspaper                                   0\n",
       "X Education Forums                          0\n",
       "Newspaper Article                           0\n",
       "Magazine                                    0\n",
       "Search                                      0\n",
       "What is your current occupation             0\n",
       "Country                                     0\n",
       "Last Activity                               0\n",
       "Page Views Per Visit                        0\n",
       "Total Time Spent on Website                 0\n",
       "TotalVisits                                 0\n",
       "Converted                                   0\n",
       "Do Not Call                                 0\n",
       "Do Not Email                                0\n",
       "Lead Source                                 0\n",
       "Lead Origin                                 0\n",
       "Last Notable Activity                       0\n",
       "dtype: int64"
      ]
     },
     "execution_count": 311,
     "metadata": {},
     "output_type": "execute_result"
    }
   ],
   "source": [
    "# rechecking for the missing values\n",
    "data.isnull().sum().sort_values(ascending=False)"
   ]
  },
  {
   "cell_type": "code",
   "execution_count": 314,
   "id": "ef787aaa-8238-4e81-b0d5-12cc2793b86e",
   "metadata": {},
   "outputs": [
    {
     "data": {
      "text/plain": [
       "Prospect ID                                 9240\n",
       "Lead Number                                 9240\n",
       "Lead Origin                                    5\n",
       "Lead Source                                   20\n",
       "Do Not Email                                   2\n",
       "Do Not Call                                    2\n",
       "Converted                                      2\n",
       "TotalVisits                                   41\n",
       "Total Time Spent on Website                 1731\n",
       "Page Views Per Visit                         114\n",
       "Last Activity                                 17\n",
       "Country                                        3\n",
       "What is your current occupation                4\n",
       "Search                                         2\n",
       "Magazine                                       1\n",
       "Newspaper Article                              2\n",
       "X Education Forums                             2\n",
       "Newspaper                                      2\n",
       "Digital Advertisement                          2\n",
       "Through Recommendations                        2\n",
       "Receive More Updates About Our Courses         1\n",
       "Update me on Supply Chain Content              1\n",
       "Get updates on DM Content                      1\n",
       "I agree to pay the amount through cheque       1\n",
       "A free copy of Mastering The Interview         2\n",
       "Last Notable Activity                         16\n",
       "dtype: int64"
      ]
     },
     "execution_count": 314,
     "metadata": {},
     "output_type": "execute_result"
    }
   ],
   "source": [
    "data.nunique()"
   ]
  },
  {
   "cell_type": "markdown",
   "id": "9af85efe-0668-4d9a-b22a-4ca4358a19dc",
   "metadata": {},
   "source": [
    "There are few cat columns with just 1 level, we can drop them too"
   ]
  },
  {
   "cell_type": "code",
   "execution_count": 319,
   "id": "568deac9-0a0b-45a1-b314-61ce7f697be4",
   "metadata": {},
   "outputs": [
    {
     "data": {
      "text/html": [
       "<div>\n",
       "<style scoped>\n",
       "    .dataframe tbody tr th:only-of-type {\n",
       "        vertical-align: middle;\n",
       "    }\n",
       "\n",
       "    .dataframe tbody tr th {\n",
       "        vertical-align: top;\n",
       "    }\n",
       "\n",
       "    .dataframe thead th {\n",
       "        text-align: right;\n",
       "    }\n",
       "</style>\n",
       "<table border=\"1\" class=\"dataframe\">\n",
       "  <thead>\n",
       "    <tr style=\"text-align: right;\">\n",
       "      <th></th>\n",
       "      <th>Magazine</th>\n",
       "      <th>Receive More Updates About Our Courses</th>\n",
       "      <th>Update me on Supply Chain Content</th>\n",
       "      <th>Get updates on DM Content</th>\n",
       "      <th>I agree to pay the amount through cheque</th>\n",
       "    </tr>\n",
       "  </thead>\n",
       "  <tbody>\n",
       "    <tr>\n",
       "      <th>0</th>\n",
       "      <td>no</td>\n",
       "      <td>no</td>\n",
       "      <td>no</td>\n",
       "      <td>no</td>\n",
       "      <td>no</td>\n",
       "    </tr>\n",
       "    <tr>\n",
       "      <th>1</th>\n",
       "      <td>no</td>\n",
       "      <td>no</td>\n",
       "      <td>no</td>\n",
       "      <td>no</td>\n",
       "      <td>no</td>\n",
       "    </tr>\n",
       "    <tr>\n",
       "      <th>2</th>\n",
       "      <td>no</td>\n",
       "      <td>no</td>\n",
       "      <td>no</td>\n",
       "      <td>no</td>\n",
       "      <td>no</td>\n",
       "    </tr>\n",
       "    <tr>\n",
       "      <th>3</th>\n",
       "      <td>no</td>\n",
       "      <td>no</td>\n",
       "      <td>no</td>\n",
       "      <td>no</td>\n",
       "      <td>no</td>\n",
       "    </tr>\n",
       "    <tr>\n",
       "      <th>4</th>\n",
       "      <td>no</td>\n",
       "      <td>no</td>\n",
       "      <td>no</td>\n",
       "      <td>no</td>\n",
       "      <td>no</td>\n",
       "    </tr>\n",
       "  </tbody>\n",
       "</table>\n",
       "</div>"
      ],
      "text/plain": [
       "  Magazine Receive More Updates About Our Courses  \\\n",
       "0       no                                     no   \n",
       "1       no                                     no   \n",
       "2       no                                     no   \n",
       "3       no                                     no   \n",
       "4       no                                     no   \n",
       "\n",
       "  Update me on Supply Chain Content Get updates on DM Content  \\\n",
       "0                                no                        no   \n",
       "1                                no                        no   \n",
       "2                                no                        no   \n",
       "3                                no                        no   \n",
       "4                                no                        no   \n",
       "\n",
       "  I agree to pay the amount through cheque  \n",
       "0                                       no  \n",
       "1                                       no  \n",
       "2                                       no  \n",
       "3                                       no  \n",
       "4                                       no  "
      ]
     },
     "execution_count": 319,
     "metadata": {},
     "output_type": "execute_result"
    }
   ],
   "source": [
    "data[data.columns[data.nunique()== 1]].head()"
   ]
  },
  {
   "cell_type": "code",
   "execution_count": 324,
   "id": "f7480d99-598f-471b-b027-f837b38cf5c4",
   "metadata": {},
   "outputs": [],
   "source": [
    "data1= data.drop(data.columns[data.nunique()== 1], axis=1)"
   ]
  },
  {
   "cell_type": "code",
   "execution_count": 328,
   "id": "cd2f32a2-5222-40e7-9ad5-b85afc972ea3",
   "metadata": {},
   "outputs": [
    {
     "data": {
      "text/html": [
       "<div>\n",
       "<style scoped>\n",
       "    .dataframe tbody tr th:only-of-type {\n",
       "        vertical-align: middle;\n",
       "    }\n",
       "\n",
       "    .dataframe tbody tr th {\n",
       "        vertical-align: top;\n",
       "    }\n",
       "\n",
       "    .dataframe thead th {\n",
       "        text-align: right;\n",
       "    }\n",
       "</style>\n",
       "<table border=\"1\" class=\"dataframe\">\n",
       "  <thead>\n",
       "    <tr style=\"text-align: right;\">\n",
       "      <th></th>\n",
       "      <th>Prospect ID</th>\n",
       "      <th>Lead Number</th>\n",
       "      <th>Lead Origin</th>\n",
       "      <th>Lead Source</th>\n",
       "      <th>Do Not Email</th>\n",
       "      <th>Do Not Call</th>\n",
       "      <th>Converted</th>\n",
       "      <th>TotalVisits</th>\n",
       "      <th>Total Time Spent on Website</th>\n",
       "      <th>Page Views Per Visit</th>\n",
       "      <th>Last Activity</th>\n",
       "      <th>Country</th>\n",
       "      <th>What is your current occupation</th>\n",
       "      <th>Search</th>\n",
       "      <th>Newspaper Article</th>\n",
       "      <th>X Education Forums</th>\n",
       "      <th>Newspaper</th>\n",
       "      <th>Digital Advertisement</th>\n",
       "      <th>Through Recommendations</th>\n",
       "      <th>A free copy of Mastering The Interview</th>\n",
       "      <th>Last Notable Activity</th>\n",
       "    </tr>\n",
       "  </thead>\n",
       "  <tbody>\n",
       "    <tr>\n",
       "      <th>0</th>\n",
       "      <td>7927b2df-8bba-4d29-b9a2-b6e0beafe620</td>\n",
       "      <td>660737</td>\n",
       "      <td>api</td>\n",
       "      <td>olark chat</td>\n",
       "      <td>no</td>\n",
       "      <td>no</td>\n",
       "      <td>0</td>\n",
       "      <td>0.0</td>\n",
       "      <td>0</td>\n",
       "      <td>0.0</td>\n",
       "      <td>page visited on website</td>\n",
       "      <td>not provided</td>\n",
       "      <td>unemployed</td>\n",
       "      <td>no</td>\n",
       "      <td>no</td>\n",
       "      <td>no</td>\n",
       "      <td>no</td>\n",
       "      <td>no</td>\n",
       "      <td>no</td>\n",
       "      <td>no</td>\n",
       "      <td>modified</td>\n",
       "    </tr>\n",
       "    <tr>\n",
       "      <th>1</th>\n",
       "      <td>2a272436-5132-4136-86fa-dcc88c88f482</td>\n",
       "      <td>660728</td>\n",
       "      <td>api</td>\n",
       "      <td>organic search</td>\n",
       "      <td>no</td>\n",
       "      <td>no</td>\n",
       "      <td>0</td>\n",
       "      <td>5.0</td>\n",
       "      <td>674</td>\n",
       "      <td>2.5</td>\n",
       "      <td>email opened</td>\n",
       "      <td>india</td>\n",
       "      <td>unemployed</td>\n",
       "      <td>no</td>\n",
       "      <td>no</td>\n",
       "      <td>no</td>\n",
       "      <td>no</td>\n",
       "      <td>no</td>\n",
       "      <td>no</td>\n",
       "      <td>no</td>\n",
       "      <td>email opened</td>\n",
       "    </tr>\n",
       "    <tr>\n",
       "      <th>2</th>\n",
       "      <td>8cc8c611-a219-4f35-ad23-fdfd2656bd8a</td>\n",
       "      <td>660727</td>\n",
       "      <td>landing page submission</td>\n",
       "      <td>direct traffic</td>\n",
       "      <td>no</td>\n",
       "      <td>no</td>\n",
       "      <td>1</td>\n",
       "      <td>2.0</td>\n",
       "      <td>1532</td>\n",
       "      <td>2.0</td>\n",
       "      <td>email opened</td>\n",
       "      <td>india</td>\n",
       "      <td>student</td>\n",
       "      <td>no</td>\n",
       "      <td>no</td>\n",
       "      <td>no</td>\n",
       "      <td>no</td>\n",
       "      <td>no</td>\n",
       "      <td>no</td>\n",
       "      <td>yes</td>\n",
       "      <td>email opened</td>\n",
       "    </tr>\n",
       "    <tr>\n",
       "      <th>3</th>\n",
       "      <td>0cc2df48-7cf4-4e39-9de9-19797f9b38cc</td>\n",
       "      <td>660719</td>\n",
       "      <td>landing page submission</td>\n",
       "      <td>direct traffic</td>\n",
       "      <td>no</td>\n",
       "      <td>no</td>\n",
       "      <td>0</td>\n",
       "      <td>1.0</td>\n",
       "      <td>305</td>\n",
       "      <td>1.0</td>\n",
       "      <td>unreachable</td>\n",
       "      <td>india</td>\n",
       "      <td>unemployed</td>\n",
       "      <td>no</td>\n",
       "      <td>no</td>\n",
       "      <td>no</td>\n",
       "      <td>no</td>\n",
       "      <td>no</td>\n",
       "      <td>no</td>\n",
       "      <td>no</td>\n",
       "      <td>modified</td>\n",
       "    </tr>\n",
       "    <tr>\n",
       "      <th>4</th>\n",
       "      <td>3256f628-e534-4826-9d63-4a8b88782852</td>\n",
       "      <td>660681</td>\n",
       "      <td>landing page submission</td>\n",
       "      <td>google</td>\n",
       "      <td>no</td>\n",
       "      <td>no</td>\n",
       "      <td>1</td>\n",
       "      <td>2.0</td>\n",
       "      <td>1428</td>\n",
       "      <td>1.0</td>\n",
       "      <td>converted to lead</td>\n",
       "      <td>india</td>\n",
       "      <td>unemployed</td>\n",
       "      <td>no</td>\n",
       "      <td>no</td>\n",
       "      <td>no</td>\n",
       "      <td>no</td>\n",
       "      <td>no</td>\n",
       "      <td>no</td>\n",
       "      <td>no</td>\n",
       "      <td>modified</td>\n",
       "    </tr>\n",
       "  </tbody>\n",
       "</table>\n",
       "</div>"
      ],
      "text/plain": [
       "                            Prospect ID  Lead Number              Lead Origin  \\\n",
       "0  7927b2df-8bba-4d29-b9a2-b6e0beafe620       660737                      api   \n",
       "1  2a272436-5132-4136-86fa-dcc88c88f482       660728                      api   \n",
       "2  8cc8c611-a219-4f35-ad23-fdfd2656bd8a       660727  landing page submission   \n",
       "3  0cc2df48-7cf4-4e39-9de9-19797f9b38cc       660719  landing page submission   \n",
       "4  3256f628-e534-4826-9d63-4a8b88782852       660681  landing page submission   \n",
       "\n",
       "      Lead Source Do Not Email Do Not Call  Converted  TotalVisits  \\\n",
       "0      olark chat           no          no          0          0.0   \n",
       "1  organic search           no          no          0          5.0   \n",
       "2  direct traffic           no          no          1          2.0   \n",
       "3  direct traffic           no          no          0          1.0   \n",
       "4          google           no          no          1          2.0   \n",
       "\n",
       "   Total Time Spent on Website  Page Views Per Visit            Last Activity  \\\n",
       "0                            0                   0.0  page visited on website   \n",
       "1                          674                   2.5             email opened   \n",
       "2                         1532                   2.0             email opened   \n",
       "3                          305                   1.0              unreachable   \n",
       "4                         1428                   1.0        converted to lead   \n",
       "\n",
       "        Country What is your current occupation Search Newspaper Article  \\\n",
       "0  not provided                      unemployed     no                no   \n",
       "1         india                      unemployed     no                no   \n",
       "2         india                         student     no                no   \n",
       "3         india                      unemployed     no                no   \n",
       "4         india                      unemployed     no                no   \n",
       "\n",
       "  X Education Forums Newspaper Digital Advertisement Through Recommendations  \\\n",
       "0                 no        no                    no                      no   \n",
       "1                 no        no                    no                      no   \n",
       "2                 no        no                    no                      no   \n",
       "3                 no        no                    no                      no   \n",
       "4                 no        no                    no                      no   \n",
       "\n",
       "  A free copy of Mastering The Interview Last Notable Activity  \n",
       "0                                     no              modified  \n",
       "1                                     no          email opened  \n",
       "2                                    yes          email opened  \n",
       "3                                     no              modified  \n",
       "4                                     no              modified  "
      ]
     },
     "execution_count": 328,
     "metadata": {},
     "output_type": "execute_result"
    }
   ],
   "source": [
    "data1.head()"
   ]
  },
  {
   "cell_type": "code",
   "execution_count": 329,
   "id": "c7af0111-04ab-4d6a-81f9-2115b3de8369",
   "metadata": {},
   "outputs": [
    {
     "name": "stdout",
     "output_type": "stream",
     "text": [
      "<class 'pandas.core.frame.DataFrame'>\n",
      "RangeIndex: 9240 entries, 0 to 9239\n",
      "Data columns (total 21 columns):\n",
      " #   Column                                  Non-Null Count  Dtype  \n",
      "---  ------                                  --------------  -----  \n",
      " 0   Prospect ID                             9240 non-null   object \n",
      " 1   Lead Number                             9240 non-null   int64  \n",
      " 2   Lead Origin                             9240 non-null   object \n",
      " 3   Lead Source                             9240 non-null   object \n",
      " 4   Do Not Email                            9240 non-null   object \n",
      " 5   Do Not Call                             9240 non-null   object \n",
      " 6   Converted                               9240 non-null   int64  \n",
      " 7   TotalVisits                             9240 non-null   float64\n",
      " 8   Total Time Spent on Website             9240 non-null   int64  \n",
      " 9   Page Views Per Visit                    9240 non-null   float64\n",
      " 10  Last Activity                           9240 non-null   object \n",
      " 11  Country                                 9240 non-null   object \n",
      " 12  What is your current occupation         9240 non-null   object \n",
      " 13  Search                                  9240 non-null   object \n",
      " 14  Newspaper Article                       9240 non-null   object \n",
      " 15  X Education Forums                      9240 non-null   object \n",
      " 16  Newspaper                               9240 non-null   object \n",
      " 17  Digital Advertisement                   9240 non-null   object \n",
      " 18  Through Recommendations                 9240 non-null   object \n",
      " 19  A free copy of Mastering The Interview  9240 non-null   object \n",
      " 20  Last Notable Activity                   9240 non-null   object \n",
      "dtypes: float64(2), int64(3), object(16)\n",
      "memory usage: 1.5+ MB\n"
     ]
    }
   ],
   "source": [
    "data1.info()"
   ]
  },
  {
   "cell_type": "code",
   "execution_count": 327,
   "id": "1d20f050-cd6c-4d80-a382-c791d2b791af",
   "metadata": {},
   "outputs": [
    {
     "data": {
      "text/plain": [
       "(9240, 21)"
      ]
     },
     "execution_count": 327,
     "metadata": {},
     "output_type": "execute_result"
    }
   ],
   "source": [
    "data1.shape"
   ]
  },
  {
   "cell_type": "markdown",
   "id": "cd38e5d6-1eae-441f-b0cc-547112e86831",
   "metadata": {},
   "source": [
    "Our final data has 21 columns and 9240 non-null rows."
   ]
  },
  {
   "cell_type": "markdown",
   "id": "3bd82f29-f980-4738-a012-12dccb6bfe2d",
   "metadata": {},
   "source": [
    "#### Grouping/ streamlining the data"
   ]
  },
  {
   "cell_type": "code",
   "execution_count": null,
   "id": "f871ef2f-d98b-4a0c-95cb-93ef7b3dae2b",
   "metadata": {},
   "outputs": [],
   "source": []
  }
 ],
 "metadata": {
  "kernelspec": {
   "display_name": "Python 3 (ipykernel)",
   "language": "python",
   "name": "python3"
  },
  "language_info": {
   "codemirror_mode": {
    "name": "ipython",
    "version": 3
   },
   "file_extension": ".py",
   "mimetype": "text/x-python",
   "name": "python",
   "nbconvert_exporter": "python",
   "pygments_lexer": "ipython3",
   "version": "3.11.7"
  }
 },
 "nbformat": 4,
 "nbformat_minor": 5
}
